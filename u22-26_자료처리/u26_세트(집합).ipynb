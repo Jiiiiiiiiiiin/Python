{
  "nbformat": 4,
  "nbformat_minor": 0,
  "metadata": {
    "colab": {
      "name": "u26_세트(집합)ipynb",
      "provenance": [],
      "collapsed_sections": []
    },
    "kernelspec": {
      "name": "python3",
      "display_name": "Python 3"
    },
    "language_info": {
      "name": "python"
    }
  },
  "cells": [
    {
      "cell_type": "markdown",
      "metadata": {
        "id": "7GZxz5Hp3j8Z"
      },
      "source": [
        "# U.26  세트(집합)\n",
        "\n",
        "- 세트는 {} 중괄호 안에 값을 저장하며 각 값은 ,(콤마)로 구분\n",
        "- 세트 = {값1, 값2, 값3}\n",
        "- 역시 순서는 보장X\n",
        "- 집합은 중복을 허용하지 않음 "
      ]
    },
    {
      "cell_type": "markdown",
      "metadata": {
        "id": "k5uhBBON5d0h"
      },
      "source": [
        "## 26.1 생성"
      ]
    },
    {
      "cell_type": "code",
      "metadata": {
        "colab": {
          "base_uri": "https://localhost:8080/"
        },
        "id": "TX7MOrry3gJt",
        "outputId": "6a0fdc26-6c04-4355-8f38-f06d46bbee57"
      },
      "source": [
        "fruits = {'apple', 'banana', 'orange', 'cherry', 'grape'}\n",
        "fruits"
      ],
      "execution_count": 1,
      "outputs": [
        {
          "output_type": "execute_result",
          "data": {
            "text/plain": [
              "{'apple', 'banana', 'cherry', 'grape', 'orange'}"
            ]
          },
          "metadata": {
            "tags": []
          },
          "execution_count": 1
        }
      ]
    },
    {
      "cell_type": "code",
      "metadata": {
        "colab": {
          "base_uri": "https://localhost:8080/"
        },
        "id": "PBuTzYkm4HXL",
        "outputId": "be8c4b1b-5a98-4912-959f-ccaf1b0060fa"
      },
      "source": [
        "type(fruits)"
      ],
      "execution_count": 2,
      "outputs": [
        {
          "output_type": "execute_result",
          "data": {
            "text/plain": [
              "set"
            ]
          },
          "metadata": {
            "tags": []
          },
          "execution_count": 2
        }
      ]
    },
    {
      "cell_type": "code",
      "metadata": {
        "colab": {
          "base_uri": "https://localhost:8080/"
        },
        "id": "IyNqndsG4L_j",
        "outputId": "51626345-bded-4f2c-a318-9ba750c6f598"
      },
      "source": [
        "fruits = {'apple', 'banana', 'orange', 'cherry', 'grape', 'apple'}\n",
        "fruits"
      ],
      "execution_count": 3,
      "outputs": [
        {
          "output_type": "execute_result",
          "data": {
            "text/plain": [
              "{'apple', 'banana', 'cherry', 'grape', 'orange'}"
            ]
          },
          "metadata": {
            "tags": []
          },
          "execution_count": 3
        }
      ]
    },
    {
      "cell_type": "code",
      "metadata": {
        "colab": {
          "base_uri": "https://localhost:8080/"
        },
        "id": "07NNVqk34i4_",
        "outputId": "c3c2e14b-2f92-42b2-b701-be825b220bdf"
      },
      "source": [
        "'peach' in fruits"
      ],
      "execution_count": 4,
      "outputs": [
        {
          "output_type": "execute_result",
          "data": {
            "text/plain": [
              "False"
            ]
          },
          "metadata": {
            "tags": []
          },
          "execution_count": 4
        }
      ]
    },
    {
      "cell_type": "code",
      "metadata": {
        "colab": {
          "base_uri": "https://localhost:8080/"
        },
        "id": "VaRAER1f42op",
        "outputId": "9b32fbe3-644c-4c00-d8a2-99576ad887d8"
      },
      "source": [
        "'peach' not in fruits"
      ],
      "execution_count": 6,
      "outputs": [
        {
          "output_type": "execute_result",
          "data": {
            "text/plain": [
              "True"
            ]
          },
          "metadata": {
            "tags": []
          },
          "execution_count": 6
        }
      ]
    },
    {
      "cell_type": "code",
      "metadata": {
        "colab": {
          "base_uri": "https://localhost:8080/"
        },
        "id": "qpAa7UM24vpY",
        "outputId": "679686e4-4b7a-451f-b7fe-a63c1edca36d"
      },
      "source": [
        "'orange' in fruits"
      ],
      "execution_count": 5,
      "outputs": [
        {
          "output_type": "execute_result",
          "data": {
            "text/plain": [
              "True"
            ]
          },
          "metadata": {
            "tags": []
          },
          "execution_count": 5
        }
      ]
    },
    {
      "cell_type": "code",
      "metadata": {
        "colab": {
          "base_uri": "https://localhost:8080/"
        },
        "id": "xnVgovR44zoR",
        "outputId": "1cc6cd23-e97b-4efa-923a-3609e33117e8"
      },
      "source": [
        "a = set('apple')\n",
        "a"
      ],
      "execution_count": 7,
      "outputs": [
        {
          "output_type": "execute_result",
          "data": {
            "text/plain": [
              "{'a', 'e', 'l', 'p'}"
            ]
          },
          "metadata": {
            "tags": []
          },
          "execution_count": 7
        }
      ]
    },
    {
      "cell_type": "code",
      "metadata": {
        "colab": {
          "base_uri": "https://localhost:8080/"
        },
        "id": "7T3DQ7QP5JvU",
        "outputId": "6fa04f76-eab9-4b0d-e918-7c6a58f57f7b"
      },
      "source": [
        "set('안녕하세요?')"
      ],
      "execution_count": 8,
      "outputs": [
        {
          "output_type": "execute_result",
          "data": {
            "text/plain": [
              "{'?', '녕', '세', '안', '요', '하'}"
            ]
          },
          "metadata": {
            "tags": []
          },
          "execution_count": 8
        }
      ]
    },
    {
      "cell_type": "markdown",
      "metadata": {
        "id": "wpDtdOOS5fo_"
      },
      "source": [
        "## 26.2 연산\n",
        "\n",
        "- 합집합 a|b or set.union(a,b)\n",
        "- 교집합 a & b or set.intersection(a,b)\n",
        "- 차집합 a -b or set.difference(a,b)\n",
        "- 대칭차집합 a^b set.symmetric_difference(a,b)"
      ]
    },
    {
      "cell_type": "code",
      "metadata": {
        "colab": {
          "base_uri": "https://localhost:8080/"
        },
        "id": "kxyswC9t5OBt",
        "outputId": "2d277c46-109d-4208-cbb2-562ba099e447"
      },
      "source": [
        "a = set(range(4))\n",
        "b = set(range(2,6))\n",
        "a, b"
      ],
      "execution_count": 9,
      "outputs": [
        {
          "output_type": "execute_result",
          "data": {
            "text/plain": [
              "({0, 1, 2, 3}, {2, 3, 4, 5})"
            ]
          },
          "metadata": {
            "tags": []
          },
          "execution_count": 9
        }
      ]
    },
    {
      "cell_type": "code",
      "metadata": {
        "colab": {
          "base_uri": "https://localhost:8080/"
        },
        "id": "_3yRJi3Z5u2t",
        "outputId": "05b76614-11a9-4423-c1d9-63faab43a061"
      },
      "source": [
        "# 합집합(union)\n",
        "a | b"
      ],
      "execution_count": 11,
      "outputs": [
        {
          "output_type": "execute_result",
          "data": {
            "text/plain": [
              "{0, 1, 2, 3, 4, 5}"
            ]
          },
          "metadata": {
            "tags": []
          },
          "execution_count": 11
        }
      ]
    },
    {
      "cell_type": "code",
      "metadata": {
        "colab": {
          "base_uri": "https://localhost:8080/"
        },
        "id": "qZAGCEf26GE5",
        "outputId": "cb259a3f-3bd6-438b-db60-90b27f8d75b0"
      },
      "source": [
        "set.union(a,b)"
      ],
      "execution_count": 10,
      "outputs": [
        {
          "output_type": "execute_result",
          "data": {
            "text/plain": [
              "{0, 1, 2, 3, 4, 5}"
            ]
          },
          "metadata": {
            "tags": []
          },
          "execution_count": 10
        }
      ]
    },
    {
      "cell_type": "code",
      "metadata": {
        "colab": {
          "base_uri": "https://localhost:8080/"
        },
        "id": "UnO2e3Mh6RVO",
        "outputId": "0bf3d8bd-6ba2-4297-8de0-cdba7d6d4a3b"
      },
      "source": [
        "# 교집합(intersection)\n",
        "a & b"
      ],
      "execution_count": 12,
      "outputs": [
        {
          "output_type": "execute_result",
          "data": {
            "text/plain": [
              "{2, 3}"
            ]
          },
          "metadata": {
            "tags": []
          },
          "execution_count": 12
        }
      ]
    },
    {
      "cell_type": "code",
      "metadata": {
        "colab": {
          "base_uri": "https://localhost:8080/"
        },
        "id": "KV1mFpwY6XJI",
        "outputId": "c0f0cf4e-3540-4398-9a7e-0c333c6f0536"
      },
      "source": [
        "set.intersection(a,b)"
      ],
      "execution_count": 13,
      "outputs": [
        {
          "output_type": "execute_result",
          "data": {
            "text/plain": [
              "{2, 3}"
            ]
          },
          "metadata": {
            "tags": []
          },
          "execution_count": 13
        }
      ]
    },
    {
      "cell_type": "code",
      "metadata": {
        "colab": {
          "base_uri": "https://localhost:8080/"
        },
        "id": "dERHKKS-6aky",
        "outputId": "a51a31d4-d04e-44bb-f974-f8e10092344f"
      },
      "source": [
        "# 차집합\n",
        "a - b"
      ],
      "execution_count": 14,
      "outputs": [
        {
          "output_type": "execute_result",
          "data": {
            "text/plain": [
              "{0, 1}"
            ]
          },
          "metadata": {
            "tags": []
          },
          "execution_count": 14
        }
      ]
    },
    {
      "cell_type": "code",
      "metadata": {
        "colab": {
          "base_uri": "https://localhost:8080/"
        },
        "id": "AHWI9i586hFo",
        "outputId": "fffcef8e-7c3a-46ae-e70b-3a541378da3e"
      },
      "source": [
        "set.difference(a,b)"
      ],
      "execution_count": 15,
      "outputs": [
        {
          "output_type": "execute_result",
          "data": {
            "text/plain": [
              "{0, 1}"
            ]
          },
          "metadata": {
            "tags": []
          },
          "execution_count": 15
        }
      ]
    },
    {
      "cell_type": "code",
      "metadata": {
        "colab": {
          "base_uri": "https://localhost:8080/"
        },
        "id": "31g4y2Ms69tQ",
        "outputId": "2e7fc2cf-4bbc-4514-a9f6-d247a9681668"
      },
      "source": [
        "# 대칭차집합(symmetric difference)\n",
        "a ^ b"
      ],
      "execution_count": 17,
      "outputs": [
        {
          "output_type": "execute_result",
          "data": {
            "text/plain": [
              "{0, 1, 4, 5}"
            ]
          },
          "metadata": {
            "tags": []
          },
          "execution_count": 17
        }
      ]
    },
    {
      "cell_type": "code",
      "metadata": {
        "colab": {
          "base_uri": "https://localhost:8080/"
        },
        "id": "LToezz157DbW",
        "outputId": "d07bd6ae-e822-429c-daf9-25526d261b54"
      },
      "source": [
        "set.symmetric_difference(a,b)"
      ],
      "execution_count": 18,
      "outputs": [
        {
          "output_type": "execute_result",
          "data": {
            "text/plain": [
              "{0, 1, 4, 5}"
            ]
          },
          "metadata": {
            "tags": []
          },
          "execution_count": 18
        }
      ]
    },
    {
      "cell_type": "markdown",
      "metadata": {
        "id": "frntY6fY7SeQ"
      },
      "source": [
        "### 26.2.2 부분집합, 상위집합 확인하기\n",
        "\n",
        "- 상위집합 supperset\n",
        "- 부분집합 subset\n",
        "- >= 확인"
      ]
    },
    {
      "cell_type": "code",
      "metadata": {
        "colab": {
          "base_uri": "https://localhost:8080/"
        },
        "id": "CkFjNHpD7WGX",
        "outputId": "554f3caa-2072-4ef6-c2bc-b8da64dd70a8"
      },
      "source": [
        "a <= {0,1,2,3}"
      ],
      "execution_count": 19,
      "outputs": [
        {
          "output_type": "execute_result",
          "data": {
            "text/plain": [
              "True"
            ]
          },
          "metadata": {
            "tags": []
          },
          "execution_count": 19
        }
      ]
    },
    {
      "cell_type": "code",
      "metadata": {
        "colab": {
          "base_uri": "https://localhost:8080/"
        },
        "id": "D8suPfXA7gKp",
        "outputId": "60f0769c-c119-410c-99e9-fdd390dd9acb"
      },
      "source": [
        "a.issubset({0,1,2,3,4})"
      ],
      "execution_count": 20,
      "outputs": [
        {
          "output_type": "execute_result",
          "data": {
            "text/plain": [
              "True"
            ]
          },
          "metadata": {
            "tags": []
          },
          "execution_count": 20
        }
      ]
    },
    {
      "cell_type": "code",
      "metadata": {
        "colab": {
          "base_uri": "https://localhost:8080/"
        },
        "id": "Mc5bbIWh7_n2",
        "outputId": "e928be45-1d26-457b-8294-da70ef634491"
      },
      "source": [
        "a >= {0,1,2,3}"
      ],
      "execution_count": 22,
      "outputs": [
        {
          "output_type": "execute_result",
          "data": {
            "text/plain": [
              "True"
            ]
          },
          "metadata": {
            "tags": []
          },
          "execution_count": 22
        }
      ]
    },
    {
      "cell_type": "code",
      "metadata": {
        "colab": {
          "base_uri": "https://localhost:8080/"
        },
        "id": "oSSYTBMr7l8x",
        "outputId": "f0f7a5b6-792f-4d9a-9d38-506851c011e8"
      },
      "source": [
        "a.issuperset({1,2,3})"
      ],
      "execution_count": 21,
      "outputs": [
        {
          "output_type": "execute_result",
          "data": {
            "text/plain": [
              "True"
            ]
          },
          "metadata": {
            "tags": []
          },
          "execution_count": 21
        }
      ]
    },
    {
      "cell_type": "markdown",
      "metadata": {
        "id": "DoNnu6Ot8BkW"
      },
      "source": [
        "### 값 비교"
      ]
    },
    {
      "cell_type": "code",
      "metadata": {
        "colab": {
          "base_uri": "https://localhost:8080/"
        },
        "id": "F0iS5Gac78Kq",
        "outputId": "fdd08d0c-e920-4788-c318-39bff8def3bb"
      },
      "source": [
        "a == {3, 1, 0, 2}"
      ],
      "execution_count": 23,
      "outputs": [
        {
          "output_type": "execute_result",
          "data": {
            "text/plain": [
              "True"
            ]
          },
          "metadata": {
            "tags": []
          },
          "execution_count": 23
        }
      ]
    },
    {
      "cell_type": "code",
      "metadata": {
        "colab": {
          "base_uri": "https://localhost:8080/"
        },
        "id": "qYfJxVeD8E3s",
        "outputId": "5273d3d5-78ba-4fe3-8072-ac67a3d5e6ad"
      },
      "source": [
        "a.isdisjoint(b) #겹치는게 없느냐 물어봄"
      ],
      "execution_count": 24,
      "outputs": [
        {
          "output_type": "execute_result",
          "data": {
            "text/plain": [
              "False"
            ]
          },
          "metadata": {
            "tags": []
          },
          "execution_count": 24
        }
      ]
    },
    {
      "cell_type": "code",
      "metadata": {
        "colab": {
          "base_uri": "https://localhost:8080/"
        },
        "id": "OmJvrAB78PZh",
        "outputId": "93e287ba-14d6-459e-f1cf-ae64e94f02cd"
      },
      "source": [
        "a.isdisjoint({4,5,6,7}) "
      ],
      "execution_count": 25,
      "outputs": [
        {
          "output_type": "execute_result",
          "data": {
            "text/plain": [
              "True"
            ]
          },
          "metadata": {
            "tags": []
          },
          "execution_count": 25
        }
      ]
    },
    {
      "cell_type": "markdown",
      "metadata": {
        "id": "O1pz0OeH8xQB"
      },
      "source": [
        "## 26.3 세트 조작"
      ]
    },
    {
      "cell_type": "code",
      "metadata": {
        "colab": {
          "base_uri": "https://localhost:8080/"
        },
        "id": "AmPDuItm8dJl",
        "outputId": "fa4c7c27-a158-4a37-b24f-8f209b7f0b08"
      },
      "source": [
        "a.add(4)\n",
        "a"
      ],
      "execution_count": 33,
      "outputs": [
        {
          "output_type": "execute_result",
          "data": {
            "text/plain": [
              "{0, 1, 2, 3, 4}"
            ]
          },
          "metadata": {
            "tags": []
          },
          "execution_count": 33
        }
      ]
    },
    {
      "cell_type": "code",
      "metadata": {
        "colab": {
          "base_uri": "https://localhost:8080/"
        },
        "id": "9-NgoQ1_83rp",
        "outputId": "8b504b04-a532-4bb8-8eaa-e87251a40b87"
      },
      "source": [
        "a.remove(4)\n",
        "a"
      ],
      "execution_count": 34,
      "outputs": [
        {
          "output_type": "execute_result",
          "data": {
            "text/plain": [
              "{0, 1, 2, 3}"
            ]
          },
          "metadata": {
            "tags": []
          },
          "execution_count": 34
        }
      ]
    },
    {
      "cell_type": "code",
      "metadata": {
        "colab": {
          "base_uri": "https://localhost:8080/"
        },
        "id": "_dLoy_b886iF",
        "outputId": "a1fffceb-34cc-4e7c-fc94-8c58d73d173e"
      },
      "source": [
        "# 임의의 원소 삭제하기\n",
        "a.pop()\n",
        "a"
      ],
      "execution_count": 35,
      "outputs": [
        {
          "output_type": "execute_result",
          "data": {
            "text/plain": [
              "{1, 2, 3}"
            ]
          },
          "metadata": {
            "tags": []
          },
          "execution_count": 35
        }
      ]
    },
    {
      "cell_type": "code",
      "metadata": {
        "id": "YzhnzyEz9KnP"
      },
      "source": [
        "len(a) # 갯수는 len로 구함"
      ],
      "execution_count": null,
      "outputs": []
    },
    {
      "cell_type": "markdown",
      "metadata": {
        "id": "ry6nY2ZT9dGn"
      },
      "source": [
        "## 26.5 반복문"
      ]
    },
    {
      "cell_type": "markdown",
      "metadata": {
        "id": "IJ6OI12H9hvX"
      },
      "source": [
        ""
      ]
    },
    {
      "cell_type": "code",
      "metadata": {
        "id": "Od7fibJ19lwO"
      },
      "source": [
        "for element in range(a):\n",
        "  print(element)"
      ],
      "execution_count": null,
      "outputs": []
    }
  ]
}