{
  "nbformat": 4,
  "nbformat_minor": 0,
  "metadata": {
    "colab": {
      "name": "u23_2차원리스트.ipynb",
      "provenance": [],
      "collapsed_sections": []
    },
    "kernelspec": {
      "name": "python3",
      "display_name": "Python 3"
    },
    "language_info": {
      "name": "python"
    }
  },
  "cells": [
    {
      "cell_type": "markdown",
      "metadata": {
        "id": "cAmAWv6i0I_i"
      },
      "source": [
        "# Unit 23. 2차원 리스트\n",
        "\n",
        "- Numpy array\n",
        "- data frame in pandas"
      ]
    },
    {
      "cell_type": "markdown",
      "metadata": {
        "id": "s1NATJRs01IZ"
      },
      "source": [
        "## 23.1 생성 및 인덱싱"
      ]
    },
    {
      "cell_type": "code",
      "metadata": {
        "colab": {
          "base_uri": "https://localhost:8080/"
        },
        "id": "B7gr0e4htSiR",
        "outputId": "b8e8e2e1-352a-4ea8-d348-3ecf81a34dc5"
      },
      "source": [
        "a = [[10,20], [30,40], [50,60]]\n",
        "a"
      ],
      "execution_count": 1,
      "outputs": [
        {
          "output_type": "execute_result",
          "data": {
            "text/plain": [
              "[[10, 20], [30, 40], [50, 60]]"
            ]
          },
          "metadata": {
            "tags": []
          },
          "execution_count": 1
        }
      ]
    },
    {
      "cell_type": "code",
      "metadata": {
        "colab": {
          "base_uri": "https://localhost:8080/"
        },
        "id": "mcRR7_g51MWZ",
        "outputId": "722ddeb3-45b1-48f4-c56e-fbf65ea7af91"
      },
      "source": [
        "# a[행인덱스][열인덱스]\n",
        "a[1][0]"
      ],
      "execution_count": 2,
      "outputs": [
        {
          "output_type": "execute_result",
          "data": {
            "text/plain": [
              "30"
            ]
          },
          "metadata": {
            "tags": []
          },
          "execution_count": 2
        }
      ]
    },
    {
      "cell_type": "code",
      "metadata": {
        "colab": {
          "base_uri": "https://localhost:8080/"
        },
        "id": "wIHnLHqL1UUi",
        "outputId": "1eb4c192-d23d-4169-f992-5ad38f7d9ead"
      },
      "source": [
        "# a[1][-1]\n",
        "a[1][-1]=100\n",
        "a"
      ],
      "execution_count": 4,
      "outputs": [
        {
          "output_type": "execute_result",
          "data": {
            "text/plain": [
              "[[10, 20], [30, 100], [50, 60]]"
            ]
          },
          "metadata": {
            "tags": []
          },
          "execution_count": 4
        }
      ]
    },
    {
      "cell_type": "code",
      "metadata": {
        "colab": {
          "base_uri": "https://localhost:8080/"
        },
        "id": "1UcaeATx1fIh",
        "outputId": "2e195db2-3d00-4112-f8a3-f6c97191003c"
      },
      "source": [
        "import numpy as np\n",
        "b = np.arange(16).reshape(4,4)\n",
        "b"
      ],
      "execution_count": 5,
      "outputs": [
        {
          "output_type": "execute_result",
          "data": {
            "text/plain": [
              "array([[ 0,  1,  2,  3],\n",
              "       [ 4,  5,  6,  7],\n",
              "       [ 8,  9, 10, 11],\n",
              "       [12, 13, 14, 15]])"
            ]
          },
          "metadata": {
            "tags": []
          },
          "execution_count": 5
        }
      ]
    },
    {
      "cell_type": "code",
      "metadata": {
        "colab": {
          "base_uri": "https://localhost:8080/"
        },
        "id": "PAhLcfVN1v5x",
        "outputId": "6d36b474-3d60-4de3-97e8-75f0356488ae"
      },
      "source": [
        "b[1,1]"
      ],
      "execution_count": 6,
      "outputs": [
        {
          "output_type": "execute_result",
          "data": {
            "text/plain": [
              "5"
            ]
          },
          "metadata": {
            "tags": []
          },
          "execution_count": 6
        }
      ]
    },
    {
      "cell_type": "code",
      "metadata": {
        "colab": {
          "base_uri": "https://localhost:8080/"
        },
        "id": "zlYEK_nV1288",
        "outputId": "7d65affe-725b-4dd3-c887-6c30e5258537"
      },
      "source": [
        "b[1:-1,1:-1]"
      ],
      "execution_count": 7,
      "outputs": [
        {
          "output_type": "execute_result",
          "data": {
            "text/plain": [
              "array([[ 5,  6],\n",
              "       [ 9, 10]])"
            ]
          },
          "metadata": {
            "tags": []
          },
          "execution_count": 7
        }
      ]
    },
    {
      "cell_type": "code",
      "metadata": {
        "colab": {
          "base_uri": "https://localhost:8080/"
        },
        "id": "_9C3Tp3c2D1j",
        "outputId": "00c927b2-5400-4aef-cb2d-aff2c2084407"
      },
      "source": [
        "b[-1,-1]"
      ],
      "execution_count": 8,
      "outputs": [
        {
          "output_type": "execute_result",
          "data": {
            "text/plain": [
              "15"
            ]
          },
          "metadata": {
            "tags": []
          },
          "execution_count": 8
        }
      ]
    },
    {
      "cell_type": "code",
      "metadata": {
        "colab": {
          "base_uri": "https://localhost:8080/"
        },
        "id": "pxQYYGlG3O2v",
        "outputId": "dc3211a9-3acb-4cd4-d26f-4a482a30a010"
      },
      "source": [
        "a = []\n",
        "for i in range(4):\n",
        "  t = []\n",
        "  for k in range(4):\n",
        "      t.append(i*4 + k)\n",
        "  a.append(t)\n",
        "a\n"
      ],
      "execution_count": 9,
      "outputs": [
        {
          "output_type": "execute_result",
          "data": {
            "text/plain": [
              "[[0, 1, 2, 3], [4, 5, 6, 7], [8, 9, 10, 11], [12, 13, 14, 15]]"
            ]
          },
          "metadata": {
            "tags": []
          },
          "execution_count": 9
        }
      ]
    },
    {
      "cell_type": "code",
      "metadata": {
        "colab": {
          "base_uri": "https://localhost:8080/"
        },
        "id": "HrJ2izr84i0P",
        "outputId": "b8849b5b-990c-45bb-af87-60342c91c4e8"
      },
      "source": [
        "[[i*4+k for k in range(4)] for i in range(4)]"
      ],
      "execution_count": 11,
      "outputs": [
        {
          "output_type": "execute_result",
          "data": {
            "text/plain": [
              "[[0, 1, 2, 3], [4, 5, 6, 7], [8, 9, 10, 11], [12, 13, 14, 15]]"
            ]
          },
          "metadata": {
            "tags": []
          },
          "execution_count": 11
        }
      ]
    },
    {
      "cell_type": "code",
      "metadata": {
        "colab": {
          "base_uri": "https://localhost:8080/"
        },
        "id": "dUG5gPyd3qch",
        "outputId": "9d2d825f-2272-4a80-a10a-e665c16f0063"
      },
      "source": [
        "from pprint import pprint\n",
        "pprint(a, indent=4, width=30)"
      ],
      "execution_count": 10,
      "outputs": [
        {
          "output_type": "stream",
          "text": [
            "[   [0, 1, 2, 3],\n",
            "    [4, 5, 6, 7],\n",
            "    [8, 9, 10, 11],\n",
            "    [12, 13, 14, 15]]\n"
          ],
          "name": "stdout"
        }
      ]
    },
    {
      "cell_type": "markdown",
      "metadata": {
        "id": "J3SYdys87eWZ"
      },
      "source": [
        "## 32.2 for 반복문"
      ]
    },
    {
      "cell_type": "code",
      "metadata": {
        "colab": {
          "base_uri": "https://localhost:8080/"
        },
        "id": "V7AH2tp34ap5",
        "outputId": "cb7c8931-da79-48f1-f90b-3d0c4af7a767"
      },
      "source": [
        "for row in a:\n",
        "  print(row)"
      ],
      "execution_count": 12,
      "outputs": [
        {
          "output_type": "stream",
          "text": [
            "[0, 1, 2, 3]\n",
            "[4, 5, 6, 7]\n",
            "[8, 9, 10, 11]\n",
            "[12, 13, 14, 15]\n"
          ],
          "name": "stdout"
        }
      ]
    },
    {
      "cell_type": "code",
      "metadata": {
        "colab": {
          "base_uri": "https://localhost:8080/"
        },
        "id": "8MRSKr-V8It1",
        "outputId": "8d8621fa-90ba-4149-94f0-06060cc1bbbe"
      },
      "source": [
        "for row in a:\n",
        "  for element in row:\n",
        "    print(f'{element:2d}',end='')\n",
        "  print()"
      ],
      "execution_count": 13,
      "outputs": [
        {
          "output_type": "stream",
          "text": [
            " 0 1 2 3\n",
            " 4 5 6 7\n",
            " 8 91011\n",
            "12131415\n"
          ],
          "name": "stdout"
        }
      ]
    },
    {
      "cell_type": "code",
      "metadata": {
        "colab": {
          "base_uri": "https://localhost:8080/"
        },
        "id": "wufEMh5v8Sfl",
        "outputId": "503f9789-f8a1-4722-dd14-6387181c679c"
      },
      "source": [
        "for w,x,y,z in a:    #list unpacking\n",
        "  print(w,x,y,z)"
      ],
      "execution_count": 14,
      "outputs": [
        {
          "output_type": "stream",
          "text": [
            "0 1 2 3\n",
            "4 5 6 7\n",
            "8 9 10 11\n",
            "12 13 14 15\n"
          ],
          "name": "stdout"
        }
      ]
    },
    {
      "cell_type": "markdown",
      "metadata": {
        "id": "EjfZLkDs9HOP"
      },
      "source": [
        "## 23.3. 반복문으로 리스트 만들기"
      ]
    },
    {
      "cell_type": "code",
      "metadata": {
        "colab": {
          "base_uri": "https://localhost:8080/"
        },
        "id": "AO8fFX_z8do4",
        "outputId": "c1698f57-b7a0-497e-f9b6-bc61c29cb93f"
      },
      "source": [
        "a=[[0 for _ in range(2)] for _ in range(3)]\n",
        "a"
      ],
      "execution_count": 15,
      "outputs": [
        {
          "output_type": "execute_result",
          "data": {
            "text/plain": [
              "[[0, 0], [0, 0], [0, 0]]"
            ]
          },
          "metadata": {
            "tags": []
          },
          "execution_count": 15
        }
      ]
    },
    {
      "cell_type": "code",
      "metadata": {
        "colab": {
          "base_uri": "https://localhost:8080/"
        },
        "id": "HSOVt4Ev9o4U",
        "outputId": "2c32bfad-26df-4e64-afb8-97df578952a4"
      },
      "source": [
        "a = [[0]*2 for i in range(3)]\n",
        "a"
      ],
      "execution_count": 16,
      "outputs": [
        {
          "output_type": "execute_result",
          "data": {
            "text/plain": [
              "[[0, 0], [0, 0], [0, 0]]"
            ]
          },
          "metadata": {
            "tags": []
          },
          "execution_count": 16
        }
      ]
    },
    {
      "cell_type": "code",
      "metadata": {
        "id": "iq-NcNs39ydm"
      },
      "source": [
        "number = [3,1,3,2,5]\n",
        "\n",
        "b = []\n",
        "for i in number:\n",
        "  line = []\n",
        "  for _ in range(i):\n",
        "      line.append(0)\n",
        "  b.append(line)\n",
        "\n",
        "  b"
      ],
      "execution_count": 24,
      "outputs": []
    },
    {
      "cell_type": "code",
      "metadata": {
        "colab": {
          "base_uri": "https://localhost:8080/"
        },
        "id": "llwfpsq8-UAf",
        "outputId": "5b884707-3c7d-4d96-e06a-85b71718c546"
      },
      "source": [
        "[[0]*i for i in number]"
      ],
      "execution_count": 20,
      "outputs": [
        {
          "output_type": "execute_result",
          "data": {
            "text/plain": [
              "[[0, 0, 0], [0], [0, 0, 0], [0, 0], [0, 0, 0, 0, 0]]"
            ]
          },
          "metadata": {
            "tags": []
          },
          "execution_count": 20
        }
      ]
    },
    {
      "cell_type": "markdown",
      "metadata": {
        "id": "ZaE5fd_m--lQ"
      },
      "source": [
        "## 23.4 2차원 리스트의 할당과 복사"
      ]
    },
    {
      "cell_type": "code",
      "metadata": {
        "colab": {
          "base_uri": "https://localhost:8080/"
        },
        "id": "g3j9Jjda-ifC",
        "outputId": "b0ce95d1-29f4-4ce0-fda1-38efa20fb272"
      },
      "source": [
        "# a와 b의 메모리 기억장소를 같게\n",
        "a = [[10,20],[30,40]]\n",
        "b = a\n",
        "b[0][0] = 500\n",
        "\n",
        "a\n"
      ],
      "execution_count": 30,
      "outputs": [
        {
          "output_type": "execute_result",
          "data": {
            "text/plain": [
              "[[500, 20], [30, 40]]"
            ]
          },
          "metadata": {
            "tags": []
          },
          "execution_count": 30
        }
      ]
    },
    {
      "cell_type": "code",
      "metadata": {
        "colab": {
          "base_uri": "https://localhost:8080/"
        },
        "id": "189j2wzp_Kpi",
        "outputId": "976a613e-7b6f-42fa-d2f4-187c413fd0a5"
      },
      "source": [
        "a와 b의 메모리 기억장소를 다르게\n",
        "a = [[10,20],[30,40]]\n",
        "import copy\n",
        "b = copy.deepcopy(a)\n",
        "b[0][0] = 500\n",
        "a"
      ],
      "execution_count": 31,
      "outputs": [
        {
          "output_type": "execute_result",
          "data": {
            "text/plain": [
              "[[10, 20], [30, 40]]"
            ]
          },
          "metadata": {
            "tags": []
          },
          "execution_count": 31
        }
      ]
    }
  ]
}