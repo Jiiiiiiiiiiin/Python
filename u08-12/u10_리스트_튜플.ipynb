{
  "nbformat": 4,
  "nbformat_minor": 0,
  "metadata": {
    "colab": {
      "name": "u10_리스트_튜플.ipynb",
      "provenance": [],
      "collapsed_sections": []
    },
    "kernelspec": {
      "name": "python3",
      "display_name": "Python 3"
    },
    "language_info": {
      "name": "python"
    }
  },
  "cells": [
    {
      "cell_type": "markdown",
      "metadata": {
        "id": "P8c3hSdEgnEf"
      },
      "source": [
        "# Unit 10. 리스트와 튜플"
      ]
    },
    {
      "cell_type": "markdown",
      "metadata": {
        "id": "YMC8TCSpiD1v"
      },
      "source": [
        "## 10.1 리스트"
      ]
    },
    {
      "cell_type": "code",
      "metadata": {
        "colab": {
          "base_uri": "https://localhost:8080/"
        },
        "id": "Hs_PIJwegmDW",
        "outputId": "2f272755-26a3-4a56-ad50-6a02b601288d"
      },
      "source": [
        "A = [38, 21, 53,  62, 19]\n",
        "A"
      ],
      "execution_count": 1,
      "outputs": [
        {
          "output_type": "execute_result",
          "data": {
            "text/plain": [
              "[38, 21, 53, 62, 19]"
            ]
          },
          "metadata": {
            "tags": []
          },
          "execution_count": 1
        }
      ]
    },
    {
      "cell_type": "code",
      "metadata": {
        "colab": {
          "base_uri": "https://localhost:8080/"
        },
        "id": "Lf_kCfFIiNRl",
        "outputId": "f42063ee-cd7e-4188-fb9c-0277f6e31dbf"
      },
      "source": [
        "# 파이썬에서 리스트를 저장할 때, 리스트 엘리먼트가 다른 자료형도 가능 (순서보장)\n",
        "person = ['James', 19, 175.4, True, [120, 80]]\n",
        "person"
      ],
      "execution_count": 5,
      "outputs": [
        {
          "output_type": "execute_result",
          "data": {
            "text/plain": [
              "['James', 19, 175.4, True, [120, 80]]"
            ]
          },
          "metadata": {
            "tags": []
          },
          "execution_count": 5
        }
      ]
    },
    {
      "cell_type": "code",
      "metadata": {
        "colab": {
          "base_uri": "https://localhost:8080/"
        },
        "id": "L4SsIa7aiiXj",
        "outputId": "e630082c-7012-441c-8ff1-4acb630603c0"
      },
      "source": [
        "person_dict = {'name' : 'James', 'age' : 19, 'height' : 175.4,\n",
        "          'is_male' : True, 'bp' : [120,80]}\n",
        "person_dict                                                                  # 위의 person은 다음과 같은 딕셔너리로 변경하여 사용하는 것이 권장됨(순서 보장안됨)"
      ],
      "execution_count": 6,
      "outputs": [
        {
          "output_type": "execute_result",
          "data": {
            "text/plain": [
              "{'age': 19, 'bp': [120, 80], 'height': 175.4, 'is_male': True, 'name': 'James'}"
            ]
          },
          "metadata": {
            "tags": []
          },
          "execution_count": 6
        }
      ]
    },
    {
      "cell_type": "markdown",
      "metadata": {
        "id": "m8Ed_5X_j1dn"
      },
      "source": [
        "### 빈 리스트 만들기"
      ]
    },
    {
      "cell_type": "code",
      "metadata": {
        "colab": {
          "base_uri": "https://localhost:8080/"
        },
        "id": "wNNEmFwzjVCv",
        "outputId": "c237b1ec-18c7-4119-a5ce-44d3b16436ef"
      },
      "source": [
        "a = []\n",
        "b = list()\n",
        "a, b"
      ],
      "execution_count": 7,
      "outputs": [
        {
          "output_type": "execute_result",
          "data": {
            "text/plain": [
              "([], [])"
            ]
          },
          "metadata": {
            "tags": []
          },
          "execution_count": 7
        }
      ]
    },
    {
      "cell_type": "code",
      "metadata": {
        "id": "WlbGus2_j-Ft"
      },
      "source": [
        "a, b = [], []"
      ],
      "execution_count": 8,
      "outputs": []
    },
    {
      "cell_type": "markdown",
      "metadata": {
        "id": "d9Qz8vqYkW-m"
      },
      "source": [
        "### Range\n",
        "- range([시작숫자,] **끝나는 숫자+1** [, 증가분])                        * [] 는 여기서 옵션. 반드시 나와야 하는 것은 끝나는 숫자\n",
        "- 시작값을 안쓰면 0이 디폴트"
      ]
    },
    {
      "cell_type": "code",
      "metadata": {
        "colab": {
          "base_uri": "https://localhost:8080/"
        },
        "id": "U25ZAftKkV8p",
        "outputId": "85e73ec8-2ce3-43fa-e27f-fd6b3cfb772a"
      },
      "source": [
        "a = range(10)\n",
        "a"
      ],
      "execution_count": 9,
      "outputs": [
        {
          "output_type": "execute_result",
          "data": {
            "text/plain": [
              "range(0, 10)"
            ]
          },
          "metadata": {
            "tags": []
          },
          "execution_count": 9
        }
      ]
    },
    {
      "cell_type": "code",
      "metadata": {
        "colab": {
          "base_uri": "https://localhost:8080/"
        },
        "id": "tXS3Ehruk9AE",
        "outputId": "1e160c08-8f04-42d4-e80c-69bd40a26189"
      },
      "source": [
        "list(a)"
      ],
      "execution_count": 10,
      "outputs": [
        {
          "output_type": "execute_result",
          "data": {
            "text/plain": [
              "[0, 1, 2, 3, 4, 5, 6, 7, 8, 9]"
            ]
          },
          "metadata": {
            "tags": []
          },
          "execution_count": 10
        }
      ]
    },
    {
      "cell_type": "code",
      "metadata": {
        "colab": {
          "base_uri": "https://localhost:8080/"
        },
        "id": "7m7mXC6tlBcP",
        "outputId": "a3a72773-c841-4e36-ac70-20d293231b06"
      },
      "source": [
        "list(range(1,11))               # 이렇게는 잘 안쓰임"
      ],
      "execution_count": 11,
      "outputs": [
        {
          "output_type": "execute_result",
          "data": {
            "text/plain": [
              "[1, 2, 3, 4, 5, 6, 7, 8, 9, 10]"
            ]
          },
          "metadata": {
            "tags": []
          },
          "execution_count": 11
        }
      ]
    },
    {
      "cell_type": "code",
      "metadata": {
        "colab": {
          "base_uri": "https://localhost:8080/"
        },
        "id": "LsPcj-zalU0W",
        "outputId": "11ba40ef-15d6-40bb-8557-31616cd698cd"
      },
      "source": [
        "list(range(1,10,2))"
      ],
      "execution_count": 12,
      "outputs": [
        {
          "output_type": "execute_result",
          "data": {
            "text/plain": [
              "[1, 3, 5, 7, 9]"
            ]
          },
          "metadata": {
            "tags": []
          },
          "execution_count": 12
        }
      ]
    },
    {
      "cell_type": "code",
      "metadata": {
        "colab": {
          "base_uri": "https://localhost:8080/"
        },
        "id": "G1UmRsDQlp9A",
        "outputId": "998e38b0-9a95-4b89-d990-9461bc8a250c"
      },
      "source": [
        "list(range(2,11,2))"
      ],
      "execution_count": 13,
      "outputs": [
        {
          "output_type": "execute_result",
          "data": {
            "text/plain": [
              "[2, 4, 6, 8, 10]"
            ]
          },
          "metadata": {
            "tags": []
          },
          "execution_count": 13
        }
      ]
    },
    {
      "cell_type": "code",
      "metadata": {
        "colab": {
          "base_uri": "https://localhost:8080/"
        },
        "id": "ThG1Ktsslxmd",
        "outputId": "099c59d9-b82e-43de-c217-14a243020e39"
      },
      "source": [
        "list(range(10,0,-1))"
      ],
      "execution_count": 14,
      "outputs": [
        {
          "output_type": "execute_result",
          "data": {
            "text/plain": [
              "[10, 9, 8, 7, 6, 5, 4, 3, 2, 1]"
            ]
          },
          "metadata": {
            "tags": []
          },
          "execution_count": 14
        }
      ]
    },
    {
      "cell_type": "markdown",
      "metadata": {
        "id": "vwv1B92lo37u"
      },
      "source": [
        "## 10.2 튜플(tuple)\n",
        "- 리스트와의 차이는 한번 만들어진것은 변경 불가능. 새롭게는 계속해서 만들수 있음 즉, Read-only 특성(변경 불가)\n",
        "- 파이썬에서만 존재\n",
        "- 괄호를 안붙이고 나열하면 ()로 값이 표현된다 ex) a = 1, 3, 5,\n",
        "- 리스트는 빈 리스트를 가지고 프로그래밍을 많이하지만 튜플은 빈것은 없다 a = (,)\n",
        "- 단 한개의 element도 콤마를 써서 표현해야함. 콤마 쓰지 않으면 튜플 아님"
      ]
    },
    {
      "cell_type": "code",
      "metadata": {
        "colab": {
          "base_uri": "https://localhost:8080/"
        },
        "id": "tRxXrHt2o3m9",
        "outputId": "563e3b7e-59e6-4af7-b813-abd194d89b91"
      },
      "source": [
        "a = (38, 21, 47)\n",
        "a"
      ],
      "execution_count": 16,
      "outputs": [
        {
          "output_type": "execute_result",
          "data": {
            "text/plain": [
              "(38, 21, 47)"
            ]
          },
          "metadata": {
            "tags": []
          },
          "execution_count": 16
        }
      ]
    },
    {
      "cell_type": "code",
      "metadata": {
        "colab": {
          "base_uri": "https://localhost:8080/"
        },
        "id": "-p4X-MynodB9",
        "outputId": "0733ffe8-a64b-45a3-ca81-72209c873340"
      },
      "source": [
        "a = 38, 21, 47\n",
        "a"
      ],
      "execution_count": 17,
      "outputs": [
        {
          "output_type": "execute_result",
          "data": {
            "text/plain": [
              "(38, 21, 47)"
            ]
          },
          "metadata": {
            "tags": []
          },
          "execution_count": 17
        }
      ]
    },
    {
      "cell_type": "code",
      "metadata": {
        "colab": {
          "base_uri": "https://localhost:8080/"
        },
        "id": "ZoA7t3o7pVQy",
        "outputId": "037ddaea-7e53-4849-9915-0df5c2daa2b4"
      },
      "source": [
        "person = ('James', 19, 175.4, True, [120, 80])\n",
        "person"
      ],
      "execution_count": 18,
      "outputs": [
        {
          "output_type": "execute_result",
          "data": {
            "text/plain": [
              "('James', 19, 175.4, True, [120, 80])"
            ]
          },
          "metadata": {
            "tags": []
          },
          "execution_count": 18
        }
      ]
    },
    {
      "cell_type": "code",
      "metadata": {
        "colab": {
          "base_uri": "https://localhost:8080/"
        },
        "id": "uhdHBl2mpn2O",
        "outputId": "b4b1c227-8e99-4990-c3ea-2ba972367bc1"
      },
      "source": [
        "a = tuple()\n",
        "a"
      ],
      "execution_count": 20,
      "outputs": [
        {
          "output_type": "execute_result",
          "data": {
            "text/plain": [
              "()"
            ]
          },
          "metadata": {
            "tags": []
          },
          "execution_count": 20
        }
      ]
    },
    {
      "cell_type": "code",
      "metadata": {
        "colab": {
          "base_uri": "https://localhost:8080/"
        },
        "id": "0ofqQM3DpwmZ",
        "outputId": "a81b3156-5316-4e6b-b75a-1e146c700ed0"
      },
      "source": [
        "# a는 정수\n",
        "a = (38)\n",
        "a"
      ],
      "execution_count": 21,
      "outputs": [
        {
          "output_type": "execute_result",
          "data": {
            "text/plain": [
              "38"
            ]
          },
          "metadata": {
            "tags": []
          },
          "execution_count": 21
        }
      ]
    },
    {
      "cell_type": "code",
      "metadata": {
        "colab": {
          "base_uri": "https://localhost:8080/"
        },
        "id": "b5H1Dx1HqNu2",
        "outputId": "b3884c97-f261-4f6e-b1dc-ffa9776b1d30"
      },
      "source": [
        "# a는 튜플\n",
        "a = (38,)\n",
        "a"
      ],
      "execution_count": 22,
      "outputs": [
        {
          "output_type": "execute_result",
          "data": {
            "text/plain": [
              "(38,)"
            ]
          },
          "metadata": {
            "tags": []
          },
          "execution_count": 22
        }
      ]
    },
    {
      "cell_type": "code",
      "metadata": {
        "colab": {
          "base_uri": "https://localhost:8080/"
        },
        "id": "JoaEM3zkqZBV",
        "outputId": "ffb17db4-f222-4ebf-c821-9f4887695fd6"
      },
      "source": [
        "tuple(range(5))"
      ],
      "execution_count": 23,
      "outputs": [
        {
          "output_type": "execute_result",
          "data": {
            "text/plain": [
              "(0, 1, 2, 3, 4)"
            ]
          },
          "metadata": {
            "tags": []
          },
          "execution_count": 23
        }
      ]
    },
    {
      "cell_type": "markdown",
      "metadata": {
        "id": "1pBpadcNq-lm"
      },
      "source": [
        "### 리스트 <-> 튜플"
      ]
    },
    {
      "cell_type": "code",
      "metadata": {
        "colab": {
          "base_uri": "https://localhost:8080/"
        },
        "id": "vCeldn0KqvoN",
        "outputId": "b55dbf1a-d693-4fc1-aca3-e07e8c4b8075"
      },
      "source": [
        "a = [1, 2, 3] \n",
        "b = tuple(a)                                      #a 안에 콤마가 있으니까 가능\n",
        "b  "
      ],
      "execution_count": 27,
      "outputs": [
        {
          "output_type": "execute_result",
          "data": {
            "text/plain": [
              "(1, 2, 3)"
            ]
          },
          "metadata": {
            "tags": []
          },
          "execution_count": 27
        }
      ]
    },
    {
      "cell_type": "code",
      "metadata": {
        "colab": {
          "base_uri": "https://localhost:8080/"
        },
        "id": "DrWGTFewqx2l",
        "outputId": "0fe7e736-a882-4634-83e2-ca44a3f9a43e"
      },
      "source": [
        "c = list(b)\n",
        "c"
      ],
      "execution_count": 28,
      "outputs": [
        {
          "output_type": "execute_result",
          "data": {
            "text/plain": [
              "[1, 2, 3]"
            ]
          },
          "metadata": {
            "tags": []
          },
          "execution_count": 28
        }
      ]
    },
    {
      "cell_type": "markdown",
      "metadata": {
        "id": "mMj7RkI5rhq9"
      },
      "source": [
        "### 문자열\n",
        "- 문자열 개별로"
      ]
    },
    {
      "cell_type": "code",
      "metadata": {
        "colab": {
          "base_uri": "https://localhost:8080/"
        },
        "id": "X_Donp1ErfE8",
        "outputId": "f3e27b6b-eab1-4fe7-efe4-384823cb9251"
      },
      "source": [
        "tuple('Hello')"
      ],
      "execution_count": 29,
      "outputs": [
        {
          "output_type": "execute_result",
          "data": {
            "text/plain": [
              "('H', 'e', 'l', 'l', 'o')"
            ]
          },
          "metadata": {
            "tags": []
          },
          "execution_count": 29
        }
      ]
    },
    {
      "cell_type": "code",
      "metadata": {
        "colab": {
          "base_uri": "https://localhost:8080/"
        },
        "id": "Ybspq85orcJn",
        "outputId": "28f76a98-cf15-4543-ea29-302921b8b5be"
      },
      "source": [
        "list('안녕하세요')"
      ],
      "execution_count": 30,
      "outputs": [
        {
          "output_type": "execute_result",
          "data": {
            "text/plain": [
              "['안', '녕', '하', '세', '요']"
            ]
          },
          "metadata": {
            "tags": []
          },
          "execution_count": 30
        }
      ]
    },
    {
      "cell_type": "markdown",
      "metadata": {
        "id": "jHly0dWOr2Yl"
      },
      "source": [
        "###  언팩킹(Unpacking)\n",
        "\n",
        "- 튜플이나 리스트는 엘리먼트 갯수만 맞으면 언팩킹 됨"
      ]
    },
    {
      "cell_type": "code",
      "metadata": {
        "colab": {
          "base_uri": "https://localhost:8080/"
        },
        "id": "EC-JsFe1rtol",
        "outputId": "becaf85e-2066-490a-ce71-9308c51ebdfb"
      },
      "source": [
        "# Tuple Unpacking\n",
        "a = (1, 3, 4)\n",
        "x, y, z = a\n",
        "x, y, z"
      ],
      "execution_count": 31,
      "outputs": [
        {
          "output_type": "execute_result",
          "data": {
            "text/plain": [
              "(1, 3, 4)"
            ]
          },
          "metadata": {
            "tags": []
          },
          "execution_count": 31
        }
      ]
    },
    {
      "cell_type": "code",
      "metadata": {
        "colab": {
          "base_uri": "https://localhost:8080/"
        },
        "id": "0RqN1oxWsE88",
        "outputId": "06d75e6a-6792-4cc1-9b0d-6bdf9b39561c"
      },
      "source": [
        "# List Unpacking\n",
        "x, y, z = [1, 3, 5]\n",
        "x, y, z"
      ],
      "execution_count": 32,
      "outputs": [
        {
          "output_type": "execute_result",
          "data": {
            "text/plain": [
              "(1, 3, 5)"
            ]
          },
          "metadata": {
            "tags": []
          },
          "execution_count": 32
        }
      ]
    }
  ]
}