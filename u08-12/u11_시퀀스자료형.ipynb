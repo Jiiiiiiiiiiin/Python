{
  "nbformat": 4,
  "nbformat_minor": 0,
  "metadata": {
    "colab": {
      "name": "u11_시퀀스자료형.ipynb",
      "provenance": [],
      "collapsed_sections": []
    },
    "kernelspec": {
      "name": "python3",
      "display_name": "Python 3"
    },
    "language_info": {
      "name": "python"
    }
  },
  "cells": [
    {
      "cell_type": "markdown",
      "metadata": {
        "id": "PV7qxPjXte7e"
      },
      "source": [
        "# Unit 11. 시퀀스(Sequence) 자료형\n",
        "- 리스트, 튜플, 레인지 문자열 - 값이 연속적으로 이어져있다\n",
        "- 반복문 사용 가능"
      ]
    },
    {
      "cell_type": "code",
      "metadata": {
        "colab": {
          "base_uri": "https://localhost:8080/"
        },
        "id": "sOVIxabstd63",
        "outputId": "7e64e122-0f69-403a-c829-8fbdf390f48d"
      },
      "source": [
        "for i in [1, 2, 3, 4]:\n",
        "    print(i, end=' ')"
      ],
      "execution_count": 1,
      "outputs": [
        {
          "output_type": "stream",
          "text": [
            "1 2 3 4 "
          ],
          "name": "stdout"
        }
      ]
    },
    {
      "cell_type": "code",
      "metadata": {
        "colab": {
          "base_uri": "https://localhost:8080/"
        },
        "id": "vhlf4bPAuDci",
        "outputId": "19df6332-5d53-40db-9dad-cf3ba8e627c0"
      },
      "source": [
        "for i in (1, 2, 3, 4):\n",
        "    print(i, end=' ')"
      ],
      "execution_count": 2,
      "outputs": [
        {
          "output_type": "stream",
          "text": [
            "1 2 3 4 "
          ],
          "name": "stdout"
        }
      ]
    },
    {
      "cell_type": "code",
      "metadata": {
        "colab": {
          "base_uri": "https://localhost:8080/"
        },
        "id": "1tu5xIR0uJ1c",
        "outputId": "d7ef8699-a091-418d-de5c-517906ab4b61"
      },
      "source": [
        "for i in range(1,5,1):\n",
        "    print(i, end=' ')\n",
        "  "
      ],
      "execution_count": 6,
      "outputs": [
        {
          "output_type": "stream",
          "text": [
            "1 2 3 4 "
          ],
          "name": "stdout"
        }
      ]
    },
    {
      "cell_type": "code",
      "metadata": {
        "colab": {
          "base_uri": "https://localhost:8080/"
        },
        "id": "JYN9JGGWuQYM",
        "outputId": "07acd7ec-b901-4c9c-f376-01c7faa8153f"
      },
      "source": [
        "for i in 'Hello':\n",
        "    print(i, end=' ')"
      ],
      "execution_count": 4,
      "outputs": [
        {
          "output_type": "stream",
          "text": [
            "H e l l o "
          ],
          "name": "stdout"
        }
      ]
    },
    {
      "cell_type": "markdown",
      "metadata": {
        "id": "dt8NhGsEuzgV"
      },
      "source": [
        "## 11.1 시퀀스 자료형의 공통기능 사용하기\n",
        "\n"
      ]
    },
    {
      "cell_type": "markdown",
      "metadata": {
        "id": "LjJ4GHTFu_y1"
      },
      "source": [
        "### 특정값 존재 여부 in"
      ]
    },
    {
      "cell_type": "code",
      "metadata": {
        "colab": {
          "base_uri": "https://localhost:8080/"
        },
        "id": "iHFwbFoAuThJ",
        "outputId": "fdb1e09a-4e0b-4eed-ece4-d5714dc22303"
      },
      "source": [
        "a = list(range(0,100,10))\n",
        "a"
      ],
      "execution_count": 8,
      "outputs": [
        {
          "output_type": "execute_result",
          "data": {
            "text/plain": [
              "[0, 10, 20, 30, 40, 50, 60, 70, 80, 90]"
            ]
          },
          "metadata": {
            "tags": []
          },
          "execution_count": 8
        }
      ]
    },
    {
      "cell_type": "code",
      "metadata": {
        "colab": {
          "base_uri": "https://localhost:8080/"
        },
        "id": "m7BPtQKlvD4K",
        "outputId": "d6ff7ec1-2a0b-4e4f-9415-266ff226d61c"
      },
      "source": [
        "30 in a, 33 in a, 33 not in a"
      ],
      "execution_count": 11,
      "outputs": [
        {
          "output_type": "execute_result",
          "data": {
            "text/plain": [
              "(True, False, True)"
            ]
          },
          "metadata": {
            "tags": []
          },
          "execution_count": 11
        }
      ]
    },
    {
      "cell_type": "code",
      "metadata": {
        "colab": {
          "base_uri": "https://localhost:8080/"
        },
        "id": "bQWb93xrvHqF",
        "outputId": "98f30e0f-17a4-4403-be64-8dc2d517a1a9"
      },
      "source": [
        "5 in range(5)"
      ],
      "execution_count": 12,
      "outputs": [
        {
          "output_type": "execute_result",
          "data": {
            "text/plain": [
              "False"
            ]
          },
          "metadata": {
            "tags": []
          },
          "execution_count": 12
        }
      ]
    },
    {
      "cell_type": "code",
      "metadata": {
        "colab": {
          "base_uri": "https://localhost:8080/"
        },
        "id": "LFXNyiqRvXgi",
        "outputId": "e1f3984f-e89c-43c1-d197-bde6664b5f49"
      },
      "source": [
        "'h' in 'Hello'"
      ],
      "execution_count": 13,
      "outputs": [
        {
          "output_type": "execute_result",
          "data": {
            "text/plain": [
              "False"
            ]
          },
          "metadata": {
            "tags": []
          },
          "execution_count": 13
        }
      ]
    },
    {
      "cell_type": "markdown",
      "metadata": {
        "id": "Fb4xA5v-vnY3"
      },
      "source": [
        "### 시퀀스 객체 연결(Conctactenation)"
      ]
    },
    {
      "cell_type": "code",
      "metadata": {
        "colab": {
          "base_uri": "https://localhost:8080/",
          "height": 35
        },
        "id": "4sbY_KXTvdiF",
        "outputId": "51b07dac-18e0-4d47-e6d1-c52bbd3d5a17"
      },
      "source": [
        "'HEllo' + ' ' + 'World'"
      ],
      "execution_count": 14,
      "outputs": [
        {
          "output_type": "execute_result",
          "data": {
            "application/vnd.google.colaboratory.intrinsic+json": {
              "type": "string"
            },
            "text/plain": [
              "'HEllo World'"
            ]
          },
          "metadata": {
            "tags": []
          },
          "execution_count": 14
        }
      ]
    },
    {
      "cell_type": "code",
      "metadata": {
        "colab": {
          "base_uri": "https://localhost:8080/"
        },
        "id": "rkdw5tpbvz4Q",
        "outputId": "bc5f8c44-aadc-4a08-847f-3af40dc49fa7"
      },
      "source": [
        "[2, 4, 6] + [1, 3, 5]"
      ],
      "execution_count": 15,
      "outputs": [
        {
          "output_type": "execute_result",
          "data": {
            "text/plain": [
              "[2, 4, 6, 1, 3, 5]"
            ]
          },
          "metadata": {
            "tags": []
          },
          "execution_count": 15
        }
      ]
    },
    {
      "cell_type": "code",
      "metadata": {
        "colab": {
          "base_uri": "https://localhost:8080/"
        },
        "id": "pgMZUWoQv9Bh",
        "outputId": "d6942035-d0e1-431f-f580-ff79adc3bc1a"
      },
      "source": [
        "(1, 3, 5) + (7, 9, 11)"
      ],
      "execution_count": 16,
      "outputs": [
        {
          "output_type": "execute_result",
          "data": {
            "text/plain": [
              "(1, 3, 5, 7, 9, 11)"
            ]
          },
          "metadata": {
            "tags": []
          },
          "execution_count": 16
        }
      ]
    },
    {
      "cell_type": "code",
      "metadata": {
        "colab": {
          "base_uri": "https://localhost:8080/",
          "height": 190
        },
        "id": "D4kWMFsDv_zp",
        "outputId": "b9678ca3-269c-41d9-c0a5-d615dab28f16"
      },
      "source": [
        "#range는 불가\n",
        "range(5) + range(5,10)"
      ],
      "execution_count": 17,
      "outputs": [
        {
          "output_type": "error",
          "ename": "TypeError",
          "evalue": "ignored",
          "traceback": [
            "\u001b[0;31m---------------------------------------------------------------------------\u001b[0m",
            "\u001b[0;31mTypeError\u001b[0m                                 Traceback (most recent call last)",
            "\u001b[0;32m<ipython-input-17-625fca5b0d1b>\u001b[0m in \u001b[0;36m<module>\u001b[0;34m()\u001b[0m\n\u001b[1;32m      1\u001b[0m \u001b[0;31m#range는 불가\u001b[0m\u001b[0;34m\u001b[0m\u001b[0;34m\u001b[0m\u001b[0;34m\u001b[0m\u001b[0m\n\u001b[0;32m----> 2\u001b[0;31m \u001b[0mrange\u001b[0m\u001b[0;34m(\u001b[0m\u001b[0;36m5\u001b[0m\u001b[0;34m)\u001b[0m \u001b[0;34m+\u001b[0m \u001b[0mrange\u001b[0m\u001b[0;34m(\u001b[0m\u001b[0;36m5\u001b[0m\u001b[0;34m,\u001b[0m\u001b[0;36m10\u001b[0m\u001b[0;34m)\u001b[0m\u001b[0;34m\u001b[0m\u001b[0;34m\u001b[0m\u001b[0m\n\u001b[0m",
            "\u001b[0;31mTypeError\u001b[0m: unsupported operand type(s) for +: 'range' and 'range'"
          ]
        }
      ]
    },
    {
      "cell_type": "code",
      "metadata": {
        "colab": {
          "base_uri": "https://localhost:8080/",
          "height": 35
        },
        "id": "Lgno3ChXwMJF",
        "outputId": "44603530-6d9f-492a-b521-52df36b1a2d6"
      },
      "source": [
        "# 특수케이스: 문자열 + 정수, \"Number\" + 5 ---> \"Number5\" 자바와 c에서는 되지만 파이썬에서눈 안된다\n",
        "'Number' + str(5)    #파이썬에서는 이렇게 할 수 있지만 old string"
      ],
      "execution_count": 20,
      "outputs": [
        {
          "output_type": "execute_result",
          "data": {
            "application/vnd.google.colaboratory.intrinsic+json": {
              "type": "string"
            },
            "text/plain": [
              "'Number5'"
            ]
          },
          "metadata": {
            "tags": []
          },
          "execution_count": 20
        }
      ]
    },
    {
      "cell_type": "code",
      "metadata": {
        "colab": {
          "base_uri": "https://localhost:8080/",
          "height": 35
        },
        "id": "iK3ECGLdwu5t",
        "outputId": "ce1c0259-fec2-47ac-d35a-0a6a077d2ad4"
      },
      "source": [
        "# 파이썬 3.6부터는 Formatted String 사용 가능 New string\n",
        "# 앞에 f를 붙임\n",
        "pi = 1.34\n",
        "f'Number{5:02d}: {pi:.4f}'"
      ],
      "execution_count": 27,
      "outputs": [
        {
          "output_type": "execute_result",
          "data": {
            "application/vnd.google.colaboratory.intrinsic+json": {
              "type": "string"
            },
            "text/plain": [
              "'Number05: 1.3400'"
            ]
          },
          "metadata": {
            "tags": []
          },
          "execution_count": 27
        }
      ]
    },
    {
      "cell_type": "code",
      "metadata": {
        "colab": {
          "base_uri": "https://localhost:8080/"
        },
        "id": "gHQdjoC4xb3d",
        "outputId": "f285879b-2d51-4205-a5e0-c13c99cdc2d8"
      },
      "source": [
        "# 파이썬 버전 확인\n",
        "!python --version"
      ],
      "execution_count": 28,
      "outputs": [
        {
          "output_type": "stream",
          "text": [
            "Python 3.7.11\n"
          ],
          "name": "stdout"
        }
      ]
    },
    {
      "cell_type": "markdown",
      "metadata": {
        "id": "MTn5lJKtyITN"
      },
      "source": [
        "### 반복\n",
        "- range는 반복이 안되기 때문에 튜플이나 리스트로 만들어서 해야 함"
      ]
    },
    {
      "cell_type": "code",
      "metadata": {
        "colab": {
          "base_uri": "https://localhost:8080/"
        },
        "id": "2hBwIdGSxlQm",
        "outputId": "c5dbda0f-b14a-4687-bbdf-a35943a29d3f"
      },
      "source": [
        "[1, 2, 3] * 3, 3 * [1, 2, 3]"
      ],
      "execution_count": 30,
      "outputs": [
        {
          "output_type": "execute_result",
          "data": {
            "text/plain": [
              "([1, 2, 3, 1, 2, 3, 1, 2, 3], [1, 2, 3, 1, 2, 3, 1, 2, 3])"
            ]
          },
          "metadata": {
            "tags": []
          },
          "execution_count": 30
        }
      ]
    },
    {
      "cell_type": "code",
      "metadata": {
        "colab": {
          "base_uri": "https://localhost:8080/",
          "height": 35
        },
        "id": "GImCLdmyyRLW",
        "outputId": "df8f5384-69c0-44f7-8156-1fd562fa9ee2"
      },
      "source": [
        "'Hello ' * 3"
      ],
      "execution_count": 32,
      "outputs": [
        {
          "output_type": "execute_result",
          "data": {
            "application/vnd.google.colaboratory.intrinsic+json": {
              "type": "string"
            },
            "text/plain": [
              "'Hello Hello Hello '"
            ]
          },
          "metadata": {
            "tags": []
          },
          "execution_count": 32
        }
      ]
    },
    {
      "cell_type": "markdown",
      "metadata": {
        "id": "0JVu0CaBywyF"
      },
      "source": [
        "## 11.2 요소 갯수\n",
        "\n",
        "- len 함수 이용"
      ]
    },
    {
      "cell_type": "code",
      "metadata": {
        "colab": {
          "base_uri": "https://localhost:8080/"
        },
        "id": "1F3jstAuycXw",
        "outputId": "190ce597-71bb-482e-b77d-7e2e08307cd1"
      },
      "source": [
        "len(range(10))"
      ],
      "execution_count": 33,
      "outputs": [
        {
          "output_type": "execute_result",
          "data": {
            "text/plain": [
              "10"
            ]
          },
          "metadata": {
            "tags": []
          },
          "execution_count": 33
        }
      ]
    },
    {
      "cell_type": "code",
      "metadata": {
        "colab": {
          "base_uri": "https://localhost:8080/"
        },
        "id": "qkFKD0qBy_DS",
        "outputId": "dc6a72e2-7328-4420-e0f2-d1c865abd042"
      },
      "source": [
        "len([1, 2, 3]), len((1, 2, 3, 4)), len('hello')"
      ],
      "execution_count": 35,
      "outputs": [
        {
          "output_type": "execute_result",
          "data": {
            "text/plain": [
              "(3, 4, 5)"
            ]
          },
          "metadata": {
            "tags": []
          },
          "execution_count": 35
        }
      ]
    },
    {
      "cell_type": "code",
      "metadata": {
        "colab": {
          "base_uri": "https://localhost:8080/"
        },
        "id": "7jeyh2fMzKq2",
        "outputId": "56f39f8c-7557-41e3-a8ac-f1d46de86806"
      },
      "source": [
        "len('안녕하세요?')"
      ],
      "execution_count": 36,
      "outputs": [
        {
          "output_type": "execute_result",
          "data": {
            "text/plain": [
              "6"
            ]
          },
          "metadata": {
            "tags": []
          },
          "execution_count": 36
        }
      ]
    },
    {
      "cell_type": "markdown",
      "metadata": {
        "id": "AloyRwG1za-l"
      },
      "source": [
        "## 11.3 인덱싱 (Indexing)\n",
        "\n",
        "- a[] 로 표현. 항상 0부터 시작"
      ]
    },
    {
      "cell_type": "code",
      "metadata": {
        "colab": {
          "base_uri": "https://localhost:8080/"
        },
        "id": "T-nLxezjzdj1",
        "outputId": "6735ab99-cf5a-4b40-af90-1cccea199000"
      },
      "source": [
        "a = list(range(10))\n",
        "a"
      ],
      "execution_count": 37,
      "outputs": [
        {
          "output_type": "execute_result",
          "data": {
            "text/plain": [
              "[0, 1, 2, 3, 4, 5, 6, 7, 8, 9]"
            ]
          },
          "metadata": {
            "tags": []
          },
          "execution_count": 37
        }
      ]
    },
    {
      "cell_type": "code",
      "metadata": {
        "colab": {
          "base_uri": "https://localhost:8080/"
        },
        "id": "KsA7udnI2Sfi",
        "outputId": "789a89ed-2bad-4449-a098-5c691ed20ba0"
      },
      "source": [
        "a[0], a[len(a)-1]"
      ],
      "execution_count": 38,
      "outputs": [
        {
          "output_type": "execute_result",
          "data": {
            "text/plain": [
              "(0, 9)"
            ]
          },
          "metadata": {
            "tags": []
          },
          "execution_count": 38
        }
      ]
    },
    {
      "cell_type": "code",
      "metadata": {
        "colab": {
          "base_uri": "https://localhost:8080/"
        },
        "id": "601EgHOb2uqe",
        "outputId": "612306d8-df2b-4a07-de3d-5af3c791a0b1"
      },
      "source": [
        "s ='Hello, world!'\n",
        "s[2], s[5], s[10]"
      ],
      "execution_count": 41,
      "outputs": [
        {
          "output_type": "execute_result",
          "data": {
            "text/plain": [
              "('l', ',', 'l')"
            ]
          },
          "metadata": {
            "tags": []
          },
          "execution_count": 41
        }
      ]
    },
    {
      "cell_type": "markdown",
      "metadata": {
        "id": "4e0FWaWX3FEF"
      },
      "source": [
        "### 음수 인덱스"
      ]
    },
    {
      "cell_type": "code",
      "metadata": {
        "colab": {
          "base_uri": "https://localhost:8080/"
        },
        "id": "oD7M7DLQ3HVX",
        "outputId": "76f77c9f-4b68-41a0-dd73-b85b423fa88f"
      },
      "source": [
        "a[0], a[-1]"
      ],
      "execution_count": 43,
      "outputs": [
        {
          "output_type": "execute_result",
          "data": {
            "text/plain": [
              "(0, 9)"
            ]
          },
          "metadata": {
            "tags": []
          },
          "execution_count": 43
        }
      ]
    },
    {
      "cell_type": "code",
      "metadata": {
        "colab": {
          "base_uri": "https://localhost:8080/"
        },
        "id": "robBmXqx24nY",
        "outputId": "547286eb-4830-443e-ca25-2fe49b1c124f"
      },
      "source": [
        "a[-10], a[-1]"
      ],
      "execution_count": 44,
      "outputs": [
        {
          "output_type": "execute_result",
          "data": {
            "text/plain": [
              "(0, 9)"
            ]
          },
          "metadata": {
            "tags": []
          },
          "execution_count": 44
        }
      ]
    },
    {
      "cell_type": "code",
      "metadata": {
        "colab": {
          "base_uri": "https://localhost:8080/"
        },
        "id": "4oEiwLTi3YOD",
        "outputId": "99926ee3-a37c-421a-bd9c-1991c4d00cf2"
      },
      "source": [
        "fox = 'A quick brown fox jumps over the lazy dog.'\n",
        "fox[-4], fox[-3], fox[-2], fox[-1]"
      ],
      "execution_count": 46,
      "outputs": [
        {
          "output_type": "execute_result",
          "data": {
            "text/plain": [
              "('d', 'o', 'g', '.')"
            ]
          },
          "metadata": {
            "tags": []
          },
          "execution_count": 46
        }
      ]
    },
    {
      "cell_type": "code",
      "metadata": {
        "colab": {
          "base_uri": "https://localhost:8080/"
        },
        "id": "IVZN9PuC3in3",
        "outputId": "c7ae50cc-f6c0-48ac-efa5-b52b4225fcee"
      },
      "source": [
        "fox[len(fox)-4], fox[-4]"
      ],
      "execution_count": 47,
      "outputs": [
        {
          "output_type": "execute_result",
          "data": {
            "text/plain": [
              "('d', 'd')"
            ]
          },
          "metadata": {
            "tags": []
          },
          "execution_count": 47
        }
      ]
    },
    {
      "cell_type": "code",
      "metadata": {
        "colab": {
          "base_uri": "https://localhost:8080/",
          "height": 190
        },
        "id": "9pXkKDlT33XY",
        "outputId": "3bb5dec4-04ab-44ac-857e-0fb69ccfa7d2"
      },
      "source": [
        "# 익덱스 범위를 벗어나면 에러 발생\n",
        "a[10]"
      ],
      "execution_count": 48,
      "outputs": [
        {
          "output_type": "error",
          "ename": "IndexError",
          "evalue": "ignored",
          "traceback": [
            "\u001b[0;31m---------------------------------------------------------------------------\u001b[0m",
            "\u001b[0;31mIndexError\u001b[0m                                Traceback (most recent call last)",
            "\u001b[0;32m<ipython-input-48-828f778975ae>\u001b[0m in \u001b[0;36m<module>\u001b[0;34m()\u001b[0m\n\u001b[1;32m      1\u001b[0m \u001b[0;31m# 익덱스 범위를 벗어나면 에러 발생\u001b[0m\u001b[0;34m\u001b[0m\u001b[0;34m\u001b[0m\u001b[0;34m\u001b[0m\u001b[0m\n\u001b[0;32m----> 2\u001b[0;31m \u001b[0ma\u001b[0m\u001b[0;34m[\u001b[0m\u001b[0;36m10\u001b[0m\u001b[0;34m]\u001b[0m\u001b[0;34m\u001b[0m\u001b[0;34m\u001b[0m\u001b[0m\n\u001b[0m",
            "\u001b[0;31mIndexError\u001b[0m: list index out of range"
          ]
        }
      ]
    },
    {
      "cell_type": "markdown",
      "metadata": {
        "id": "ucP9csnb4KR9"
      },
      "source": [
        "### 요소에 값 할당\n",
        "\n",
        "-list만 가능"
      ]
    },
    {
      "cell_type": "code",
      "metadata": {
        "colab": {
          "base_uri": "https://localhost:8080/"
        },
        "id": "w0oiaXnJ4GEd",
        "outputId": "d22d8a6f-d090-4b95-a4d9-8b5df15acb95"
      },
      "source": [
        "a[5] = 100\n",
        "a"
      ],
      "execution_count": 49,
      "outputs": [
        {
          "output_type": "execute_result",
          "data": {
            "text/plain": [
              "[0, 1, 2, 3, 4, 100, 6, 7, 8, 9]"
            ]
          },
          "metadata": {
            "tags": []
          },
          "execution_count": 49
        }
      ]
    },
    {
      "cell_type": "code",
      "metadata": {
        "colab": {
          "base_uri": "https://localhost:8080/",
          "height": 208
        },
        "id": "ZIqAHJmF4UEU",
        "outputId": "c16326f1-e80b-46de-ebf2-a99bf8d472b3"
      },
      "source": [
        "# 튜플은 값을 변경할 수 없다\n",
        "b = 3, 4, 5\n",
        "b[2] =10"
      ],
      "execution_count": 51,
      "outputs": [
        {
          "output_type": "error",
          "ename": "TypeError",
          "evalue": "ignored",
          "traceback": [
            "\u001b[0;31m---------------------------------------------------------------------------\u001b[0m",
            "\u001b[0;31mTypeError\u001b[0m                                 Traceback (most recent call last)",
            "\u001b[0;32m<ipython-input-51-73fbb2df2c8c>\u001b[0m in \u001b[0;36m<module>\u001b[0;34m()\u001b[0m\n\u001b[1;32m      1\u001b[0m \u001b[0;31m# 튜플은 값을 변경할 수 없다\u001b[0m\u001b[0;34m\u001b[0m\u001b[0;34m\u001b[0m\u001b[0;34m\u001b[0m\u001b[0m\n\u001b[1;32m      2\u001b[0m \u001b[0mb\u001b[0m \u001b[0;34m=\u001b[0m \u001b[0;36m3\u001b[0m\u001b[0;34m,\u001b[0m \u001b[0;36m4\u001b[0m\u001b[0;34m,\u001b[0m \u001b[0;36m5\u001b[0m\u001b[0;34m\u001b[0m\u001b[0;34m\u001b[0m\u001b[0m\n\u001b[0;32m----> 3\u001b[0;31m \u001b[0mb\u001b[0m\u001b[0;34m[\u001b[0m\u001b[0;36m2\u001b[0m\u001b[0;34m]\u001b[0m \u001b[0;34m=\u001b[0m\u001b[0;36m10\u001b[0m\u001b[0;34m\u001b[0m\u001b[0;34m\u001b[0m\u001b[0m\n\u001b[0m",
            "\u001b[0;31mTypeError\u001b[0m: 'tuple' object does not support item assignment"
          ]
        }
      ]
    },
    {
      "cell_type": "code",
      "metadata": {
        "colab": {
          "base_uri": "https://localhost:8080/",
          "height": 190
        },
        "id": "IuugoDAg4d4c",
        "outputId": "8075ddad-d5a3-4249-cdfe-d29682e892df"
      },
      "source": [
        "s[-1] = '*'\n",
        "s"
      ],
      "execution_count": 52,
      "outputs": [
        {
          "output_type": "error",
          "ename": "TypeError",
          "evalue": "ignored",
          "traceback": [
            "\u001b[0;31m---------------------------------------------------------------------------\u001b[0m",
            "\u001b[0;31mTypeError\u001b[0m                                 Traceback (most recent call last)",
            "\u001b[0;32m<ipython-input-52-112945748764>\u001b[0m in \u001b[0;36m<module>\u001b[0;34m()\u001b[0m\n\u001b[0;32m----> 1\u001b[0;31m \u001b[0ms\u001b[0m\u001b[0;34m[\u001b[0m\u001b[0;34m-\u001b[0m\u001b[0;36m1\u001b[0m\u001b[0;34m]\u001b[0m \u001b[0;34m=\u001b[0m \u001b[0;34m'*'\u001b[0m\u001b[0;34m\u001b[0m\u001b[0;34m\u001b[0m\u001b[0m\n\u001b[0m\u001b[1;32m      2\u001b[0m \u001b[0ms\u001b[0m\u001b[0;34m\u001b[0m\u001b[0;34m\u001b[0m\u001b[0m\n",
            "\u001b[0;31mTypeError\u001b[0m: 'str' object does not support item assignment"
          ]
        }
      ]
    },
    {
      "cell_type": "markdown",
      "metadata": {
        "id": "bcU50StJ5Boc"
      },
      "source": [
        "### 요소삭제"
      ]
    },
    {
      "cell_type": "code",
      "metadata": {
        "colab": {
          "base_uri": "https://localhost:8080/"
        },
        "id": "YpSuK02h498Y",
        "outputId": "479e98c7-cf32-499d-80fb-73f69d2cbf11"
      },
      "source": [
        "del a[5]\n",
        "a"
      ],
      "execution_count": 53,
      "outputs": [
        {
          "output_type": "execute_result",
          "data": {
            "text/plain": [
              "[0, 1, 2, 3, 4, 6, 7, 8, 9]"
            ]
          },
          "metadata": {
            "tags": []
          },
          "execution_count": 53
        }
      ]
    },
    {
      "cell_type": "markdown",
      "metadata": {
        "id": "BFy9V5s55Ww8"
      },
      "source": [
        "## 11.4 Slicing\n",
        "\n",
        " - [시작 : 끝 (: 증가분)]              () 안은 생략가능\n",
        " - a[:]\n",
        " - 슬라이스는 객체로 거의 사용되지 않는다"
      ]
    },
    {
      "cell_type": "code",
      "metadata": {
        "colab": {
          "base_uri": "https://localhost:8080/"
        },
        "id": "9rSn_OZ75Iez",
        "outputId": "2e8f8015-a28e-4de5-81bf-1e9f6563d163"
      },
      "source": [
        " a = list(range(0,100,10))\n",
        " a"
      ],
      "execution_count": 55,
      "outputs": [
        {
          "output_type": "execute_result",
          "data": {
            "text/plain": [
              "[0, 10, 20, 30, 40, 50, 60, 70, 80, 90]"
            ]
          },
          "metadata": {
            "tags": []
          },
          "execution_count": 55
        }
      ]
    },
    {
      "cell_type": "code",
      "metadata": {
        "colab": {
          "base_uri": "https://localhost:8080/"
        },
        "id": "WiaNDlTq5lMU",
        "outputId": "395a5a90-b6c8-4f07-d0db-abdd04f4c1b9"
      },
      "source": [
        "a[3:6]"
      ],
      "execution_count": 56,
      "outputs": [
        {
          "output_type": "execute_result",
          "data": {
            "text/plain": [
              "[30, 40, 50]"
            ]
          },
          "metadata": {
            "tags": []
          },
          "execution_count": 56
        }
      ]
    },
    {
      "cell_type": "code",
      "metadata": {
        "colab": {
          "base_uri": "https://localhost:8080/"
        },
        "id": "DCQ5GFy55xJi",
        "outputId": "ef49eb9a-1f71-404d-e6cb-00af99fcf2a0"
      },
      "source": [
        "a[0:3], a[:3]"
      ],
      "execution_count": 57,
      "outputs": [
        {
          "output_type": "execute_result",
          "data": {
            "text/plain": [
              "([0, 10, 20], [0, 10, 20])"
            ]
          },
          "metadata": {
            "tags": []
          },
          "execution_count": 57
        }
      ]
    },
    {
      "cell_type": "code",
      "metadata": {
        "colab": {
          "base_uri": "https://localhost:8080/"
        },
        "id": "w1pydCtn6ODi",
        "outputId": "6e16b041-3aa1-46c9-833c-3cc5432e1f94"
      },
      "source": [
        "a[7:9], a[7:-1]"
      ],
      "execution_count": 59,
      "outputs": [
        {
          "output_type": "execute_result",
          "data": {
            "text/plain": [
              "([70, 80], [70, 80])"
            ]
          },
          "metadata": {
            "tags": []
          },
          "execution_count": 59
        }
      ]
    },
    {
      "cell_type": "code",
      "metadata": {
        "colab": {
          "base_uri": "https://localhost:8080/"
        },
        "id": "wzYMsD6s6RVs",
        "outputId": "a5097694-640e-48b2-cc82-ae6ef2759ec4"
      },
      "source": [
        "a[7:], a[7:11]"
      ],
      "execution_count": 62,
      "outputs": [
        {
          "output_type": "execute_result",
          "data": {
            "text/plain": [
              "([70, 80, 90], [70, 80, 90])"
            ]
          },
          "metadata": {
            "tags": []
          },
          "execution_count": 62
        }
      ]
    },
    {
      "cell_type": "code",
      "metadata": {
        "colab": {
          "base_uri": "https://localhost:8080/"
        },
        "id": "5FlXDYT66bIQ",
        "outputId": "603bdcc0-f36f-4aae-cd62-20fc36bfe5ad"
      },
      "source": [
        "a[::2], a[1::2]"
      ],
      "execution_count": 64,
      "outputs": [
        {
          "output_type": "execute_result",
          "data": {
            "text/plain": [
              "([0, 20, 40, 60, 80], [10, 30, 50, 70, 90])"
            ]
          },
          "metadata": {
            "tags": []
          },
          "execution_count": 64
        }
      ]
    },
    {
      "cell_type": "markdown",
      "metadata": {
        "id": "iQUkKll57-vE"
      },
      "source": [
        "### 11.4.6 튜플, rangem 문자열에서 slice"
      ]
    },
    {
      "cell_type": "code",
      "metadata": {
        "colab": {
          "base_uri": "https://localhost:8080/",
          "height": 35
        },
        "id": "T-3Yx0AH6z6Z",
        "outputId": "fc30d406-f20a-45ef-ee4b-9c41fe182412"
      },
      "source": [
        "fox"
      ],
      "execution_count": 65,
      "outputs": [
        {
          "output_type": "execute_result",
          "data": {
            "application/vnd.google.colaboratory.intrinsic+json": {
              "type": "string"
            },
            "text/plain": [
              "'A quick brown fox jumps over the lazy dog.'"
            ]
          },
          "metadata": {
            "tags": []
          },
          "execution_count": 65
        }
      ]
    },
    {
      "cell_type": "code",
      "metadata": {
        "colab": {
          "base_uri": "https://localhost:8080/",
          "height": 35
        },
        "id": "zfHSq9R_8Ecs",
        "outputId": "a8f66691-172c-43f6-a023-4fd2a61cb96d"
      },
      "source": [
        "fox[-4:]"
      ],
      "execution_count": 66,
      "outputs": [
        {
          "output_type": "execute_result",
          "data": {
            "application/vnd.google.colaboratory.intrinsic+json": {
              "type": "string"
            },
            "text/plain": [
              "'dog.'"
            ]
          },
          "metadata": {
            "tags": []
          },
          "execution_count": 66
        }
      ]
    },
    {
      "cell_type": "code",
      "metadata": {
        "colab": {
          "base_uri": "https://localhost:8080/",
          "height": 35
        },
        "id": "xYB6MmiH8Hv0",
        "outputId": "4fa1dfbb-1631-46d5-9055-b11b74eabc63"
      },
      "source": [
        "fox.split()[-1]"
      ],
      "execution_count": 67,
      "outputs": [
        {
          "output_type": "execute_result",
          "data": {
            "application/vnd.google.colaboratory.intrinsic+json": {
              "type": "string"
            },
            "text/plain": [
              "'dog.'"
            ]
          },
          "metadata": {
            "tags": []
          },
          "execution_count": 67
        }
      ]
    },
    {
      "cell_type": "code",
      "metadata": {
        "colab": {
          "base_uri": "https://localhost:8080/"
        },
        "id": "WAYyK8cJ9RWN",
        "outputId": "c7cb8ea9-d3c5-4eb4-e5d0-f37823a73f82"
      },
      "source": [
        "# 불규칙한 요소 뽑기. 리스트 표현식을 사용하면 임의의 인덱스에 해당하는 값을 불러올 수 있다\n",
        "a\n",
        "[a[i] for i in [1, 4, 5]]"
      ],
      "execution_count": 70,
      "outputs": [
        {
          "output_type": "execute_result",
          "data": {
            "text/plain": [
              "[10, 40, 50]"
            ]
          },
          "metadata": {
            "tags": []
          },
          "execution_count": 70
        }
      ]
    },
    {
      "cell_type": "markdown",
      "metadata": {
        "id": "kBqRbcpB8e4_"
      },
      "source": [
        "### 슬라이스 요소에 할당"
      ]
    },
    {
      "cell_type": "code",
      "metadata": {
        "colab": {
          "base_uri": "https://localhost:8080/"
        },
        "id": "0SDmf_oR8P7E",
        "outputId": "6c7357f6-0e54-4983-9312-20c7af6c2e82"
      },
      "source": [
        "a[2:5] = ['a', 'b', 'c']\n",
        "a"
      ],
      "execution_count": 71,
      "outputs": [
        {
          "output_type": "execute_result",
          "data": {
            "text/plain": [
              "[0, 10, 'a', 'b', 'c', 50, 60, 70, 80, 90]"
            ]
          },
          "metadata": {
            "tags": []
          },
          "execution_count": 71
        }
      ]
    },
    {
      "cell_type": "code",
      "metadata": {
        "colab": {
          "base_uri": "https://localhost:8080/"
        },
        "id": "HbAK_F5T94zA",
        "outputId": "7cd2034b-920a-434c-a100-003be7f2c45c"
      },
      "source": [
        "b = list(range(10))\n",
        "b[2:5] = [10, 20, 30, 40, 50]\n",
        "b"
      ],
      "execution_count": 74,
      "outputs": [
        {
          "output_type": "execute_result",
          "data": {
            "text/plain": [
              "[0, 1, 10, 20, 30, 40, 50, 5, 6, 7, 8, 9]"
            ]
          },
          "metadata": {
            "tags": []
          },
          "execution_count": 74
        }
      ]
    },
    {
      "cell_type": "code",
      "metadata": {
        "colab": {
          "base_uri": "https://localhost:8080/"
        },
        "id": "bp2Eqw8r-CoG",
        "outputId": "561d9d5a-c6f4-4552-a436-74bdb785ac18"
      },
      "source": [
        "c = list(range(10))\n",
        "c[2] = [10, 20, 30]\n",
        "c"
      ],
      "execution_count": 75,
      "outputs": [
        {
          "output_type": "execute_result",
          "data": {
            "text/plain": [
              "[0, 1, [10, 20, 30], 3, 4, 5, 6, 7, 8, 9]"
            ]
          },
          "metadata": {
            "tags": []
          },
          "execution_count": 75
        }
      ]
    },
    {
      "cell_type": "code",
      "metadata": {
        "colab": {
          "base_uri": "https://localhost:8080/"
        },
        "id": "Ozg9vd2r-VVX",
        "outputId": "cfd6abb2-8a59-4293-855e-00b380372857"
      },
      "source": [
        "d = list(range(10))\n",
        "d[2:3] = [10, 20 ,30]\n",
        "d"
      ],
      "execution_count": 76,
      "outputs": [
        {
          "output_type": "execute_result",
          "data": {
            "text/plain": [
              "[0, 1, 10, 20, 30, 3, 4, 5, 6, 7, 8, 9]"
            ]
          },
          "metadata": {
            "tags": []
          },
          "execution_count": 76
        }
      ]
    },
    {
      "cell_type": "markdown",
      "metadata": {
        "id": "DNN30oqz-y7z"
      },
      "source": [
        "### 11.4.8. del로 슬라이스 삭제하기"
      ]
    },
    {
      "cell_type": "code",
      "metadata": {
        "colab": {
          "base_uri": "https://localhost:8080/"
        },
        "id": "uiPiOsy8-e1k",
        "outputId": "437643f9-8889-4216-b2bc-137c3fdf187f"
      },
      "source": [
        "del d[2:5]\n",
        "d"
      ],
      "execution_count": 77,
      "outputs": [
        {
          "output_type": "execute_result",
          "data": {
            "text/plain": [
              "[0, 1, 3, 4, 5, 6, 7, 8, 9]"
            ]
          },
          "metadata": {
            "tags": []
          },
          "execution_count": 77
        }
      ]
    },
    {
      "cell_type": "code",
      "metadata": {
        "colab": {
          "base_uri": "https://localhost:8080/"
        },
        "id": "eclq8oym_Ghx",
        "outputId": "0554da7d-7356-48b4-aefc-cc6dd0e55ec9"
      },
      "source": [
        "del c[::2]\n",
        "c"
      ],
      "execution_count": 78,
      "outputs": [
        {
          "output_type": "execute_result",
          "data": {
            "text/plain": [
              "[1, 3, 5, 7, 9]"
            ]
          },
          "metadata": {
            "tags": []
          },
          "execution_count": 78
        }
      ]
    },
    {
      "cell_type": "code",
      "metadata": {
        "id": "4y_PAgXH_VFD"
      },
      "source": [
        ""
      ],
      "execution_count": null,
      "outputs": []
    }
  ]
}