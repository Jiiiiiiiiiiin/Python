{
  "nbformat": 4,
  "nbformat_minor": 0,
  "metadata": {
    "colab": {
      "name": "u34_클래스.ipynb",
      "provenance": [],
      "collapsed_sections": []
    },
    "kernelspec": {
      "name": "python3",
      "display_name": "Python 3"
    },
    "language_info": {
      "name": "python"
    }
  },
  "cells": [
    {
      "cell_type": "markdown",
      "metadata": {
        "id": "x3OQZkJ766P9"
      },
      "source": [
        "# Unit 34. 클래스(Class)"
      ]
    },
    {
      "cell_type": "markdown",
      "metadata": {
        "id": "JIOXg79J7z7y"
      },
      "source": [
        "34.1 클래스와 메서드 만들기\n",
        "\n",
        "- int, list, dict"
      ]
    },
    {
      "cell_type": "code",
      "metadata": {
        "id": "ds9ykFkawtjb"
      },
      "source": [
        "class Person:    # 클래스 이름은 대문자로 시작 퍼슨은 붕어빵 틀\n",
        "  def greeting(self):\n",
        "    print('Hello')"
      ],
      "execution_count": 1,
      "outputs": []
    },
    {
      "cell_type": "code",
      "metadata": {
        "id": "H1ZxIp5-7-0-"
      },
      "source": [
        "# 인스턴스를 만들어야 클래스를 사용할 수 있다 제임스와 마리아가 각 인스턴스 만들어진 붕어빵 하나하나. 인스턴스도 변수\n",
        "james = Person()\n",
        "maria = Person()\n"
      ],
      "execution_count": 4,
      "outputs": []
    },
    {
      "cell_type": "code",
      "metadata": {
        "colab": {
          "base_uri": "https://localhost:8080/"
        },
        "id": "5H7glWzN8VcA",
        "outputId": "0a4a8dc1-7d06-4009-f1f3-a5fc3672c47f"
      },
      "source": [
        "james.greeting()"
      ],
      "execution_count": 5,
      "outputs": [
        {
          "output_type": "stream",
          "text": [
            "Hello\n"
          ],
          "name": "stdout"
        }
      ]
    },
    {
      "cell_type": "code",
      "metadata": {
        "colab": {
          "base_uri": "https://localhost:8080/"
        },
        "id": "8rc_CP0e8X84",
        "outputId": "ec089646-0229-4752-a598-6af01163e288"
      },
      "source": [
        "maria.greeting()"
      ],
      "execution_count": 6,
      "outputs": [
        {
          "output_type": "stream",
          "text": [
            "Hello\n"
          ],
          "name": "stdout"
        }
      ]
    },
    {
      "cell_type": "code",
      "metadata": {
        "colab": {
          "base_uri": "https://localhost:8080/"
        },
        "id": "od4jGtpt8Z1Z",
        "outputId": "0b24b244-03aa-43a5-b6ee-5165aedbc42a"
      },
      "source": [
        "Person().greeting()   #인스턴스도 변수. 변수명 안하고 쓸때"
      ],
      "execution_count": 7,
      "outputs": [
        {
          "output_type": "stream",
          "text": [
            "Hello\n"
          ],
          "name": "stdout"
        }
      ]
    },
    {
      "cell_type": "code",
      "metadata": {
        "id": "S38-1E4_8hHz"
      },
      "source": [
        "# 클래스 내에서 메서드 호출\n",
        "# 메서드 안에서 메서드를 호출할 때는 다음과 같이 self.메서드() 형식으로 호출해야 합니다. \n",
        "# self 없이 메서드 이름만 사용하면 클래스 바깥쪽에 있는 함수를 호출한다는 뜻\n",
        "\n",
        "class Person:\n",
        "  def greeting(self):\n",
        "    print('Hello')\n",
        "  \n",
        "  def hello(self):\n",
        "    self.greeting()"
      ],
      "execution_count": 10,
      "outputs": []
    },
    {
      "cell_type": "code",
      "metadata": {
        "colab": {
          "base_uri": "https://localhost:8080/"
        },
        "id": "NP6mNav0-Y1T",
        "outputId": "4e8c2b0b-6b2c-4459-809a-93c0e26e1dc8"
      },
      "source": [
        "james = Person()\n",
        "james.hello()"
      ],
      "execution_count": 11,
      "outputs": [
        {
          "output_type": "stream",
          "text": [
            "Hello\n"
          ],
          "name": "stdout"
        }
      ]
    },
    {
      "cell_type": "code",
      "metadata": {
        "colab": {
          "base_uri": "https://localhost:8080/"
        },
        "id": "2xj7rcen-c5S",
        "outputId": "55769b98-5dcf-405e-a3de-571821789ba2"
      },
      "source": [
        "isinstance(james, Person)"
      ],
      "execution_count": 12,
      "outputs": [
        {
          "output_type": "execute_result",
          "data": {
            "text/plain": [
              "True"
            ]
          },
          "metadata": {
            "tags": []
          },
          "execution_count": 12
        }
      ]
    },
    {
      "cell_type": "code",
      "metadata": {
        "id": "AOv8i3Jx-mo6"
      },
      "source": [
        "def factorial(n):\n",
        "  if not isinstance(n, int) or n < 0:\n",
        "    return None\n",
        "  if n == 0:\n",
        "    return 1\n",
        "  return n*factorial(n-1)"
      ],
      "execution_count": 13,
      "outputs": []
    },
    {
      "cell_type": "code",
      "metadata": {
        "id": "GWMuk3-c_Ohe"
      },
      "source": [
        "factorial(3.14)"
      ],
      "execution_count": 14,
      "outputs": []
    },
    {
      "cell_type": "code",
      "metadata": {
        "colab": {
          "base_uri": "https://localhost:8080/"
        },
        "id": "IMvwKYmC_UZb",
        "outputId": "42f976a0-e817-4997-aa6d-97b5e9c3df41"
      },
      "source": [
        "factorial(6)"
      ],
      "execution_count": 15,
      "outputs": [
        {
          "output_type": "execute_result",
          "data": {
            "text/plain": [
              "720"
            ]
          },
          "metadata": {
            "tags": []
          },
          "execution_count": 15
        }
      ]
    },
    {
      "cell_type": "markdown",
      "metadata": {
        "id": "UBIaZD4h_jYx"
      },
      "source": [
        "## 34.2 속성(attribute)\n",
        "\n",
        "- 속성(attribute)을 만들 때는 _ _ init _ _ 메서드 안에서 self.속성에 값을 할당"
      ]
    },
    {
      "cell_type": "code",
      "metadata": {
        "id": "M4zYMcPh_WRu"
      },
      "source": [
        "class Person:\n",
        "  def __init__(self):\n",
        "    self.hello = '안녕하세요'    #hello가 속성이 됨\n",
        "\n",
        "  def greeting(self):              #greeting은 속성 출력\n",
        "    print(self.hello)                  \n"
      ],
      "execution_count": 20,
      "outputs": []
    },
    {
      "cell_type": "code",
      "metadata": {
        "colab": {
          "base_uri": "https://localhost:8080/"
        },
        "id": "KDDUDw9cAGQq",
        "outputId": "275b7b37-ad3e-4def-f857-20d28f63f68b"
      },
      "source": [
        "maria = Person()\n",
        "maria.greeting()"
      ],
      "execution_count": 21,
      "outputs": [
        {
          "output_type": "stream",
          "text": [
            "안녕하세요\n"
          ],
          "name": "stdout"
        }
      ]
    },
    {
      "cell_type": "code",
      "metadata": {
        "colab": {
          "base_uri": "https://localhost:8080/"
        },
        "id": "Q4_r5BerAKuk",
        "outputId": "9b492eb4-f925-45bf-f989-551f0eb6aabf"
      },
      "source": [
        "maria.hello = 'How are you?'\n",
        "maria.greeting()"
      ],
      "execution_count": 23,
      "outputs": [
        {
          "output_type": "stream",
          "text": [
            "How are you?\n"
          ],
          "name": "stdout"
        }
      ]
    },
    {
      "cell_type": "code",
      "metadata": {
        "id": "en9vaY7VApbO"
      },
      "source": [
        "# 일반적인 방법\n",
        "\n",
        "class Person:\n",
        "  def __init__(self, hello):        #constructor\n",
        "    self.hello = hello\n",
        "\n",
        "  def greeting(self):\n",
        "    print(self.hello)"
      ],
      "execution_count": 31,
      "outputs": []
    },
    {
      "cell_type": "code",
      "metadata": {
        "id": "tWFgRiqaBi49"
      },
      "source": [
        "james = Person('안녕하세요')\n",
        "maria = Person('How are you?')"
      ],
      "execution_count": 32,
      "outputs": []
    },
    {
      "cell_type": "code",
      "metadata": {
        "colab": {
          "base_uri": "https://localhost:8080/"
        },
        "id": "aOPHhZkDB5_3",
        "outputId": "341cbe84-d7eb-44b9-a870-32c150457c3b"
      },
      "source": [
        "james.greeting()\n",
        "maria.greeting()"
      ],
      "execution_count": 33,
      "outputs": [
        {
          "output_type": "stream",
          "text": [
            "안녕하세요\n",
            "How are you?\n"
          ],
          "name": "stdout"
        }
      ]
    },
    {
      "cell_type": "code",
      "metadata": {
        "id": "8uIkTeABB9Gs"
      },
      "source": [
        "class Person:\n",
        "  def __init__(self, name, age, addr):                \n",
        "    self.hello = '안녕하세요?'\n",
        "    self.name = name\n",
        "    self.age = age\n",
        "    self.addr = addr\n",
        "\n",
        "  def greeting(self):\n",
        "    print(f'{self.hello} 저는 {self.name}입니다.')\n",
        "\n",
        "# Java의 soString() method\n",
        "  def __str__(self):\n",
        "    return f'hello: {self.hello}, name:{self.name}, age:{self.age}, addr:{self.addr}'"
      ],
      "execution_count": 44,
      "outputs": []
    },
    {
      "cell_type": "code",
      "metadata": {
        "id": "qPVDh4rBC_Zi"
      },
      "source": [
        "maria = Person('마리아', 23, '서울시 관악구')"
      ],
      "execution_count": 35,
      "outputs": []
    },
    {
      "cell_type": "code",
      "metadata": {
        "colab": {
          "base_uri": "https://localhost:8080/"
        },
        "id": "WxAENyrsDIVU",
        "outputId": "2ebc38a8-ec46-462b-a97a-e57ab1931c2a"
      },
      "source": [
        "maria.greeting()"
      ],
      "execution_count": 42,
      "outputs": [
        {
          "output_type": "stream",
          "text": [
            "안녕하세요? 저는 마리아입니다.\n"
          ],
          "name": "stdout"
        }
      ]
    },
    {
      "cell_type": "code",
      "metadata": {
        "colab": {
          "base_uri": "https://localhost:8080/"
        },
        "id": "USnhXOYRV90r",
        "outputId": "d580b5c0-ba51-4959-8c00-066c2e9313e6"
      },
      "source": [
        "print(maria)"
      ],
      "execution_count": 45,
      "outputs": [
        {
          "output_type": "stream",
          "text": [
            "<__main__.Person object at 0x7fbbb0c1ad90>\n"
          ],
          "name": "stdout"
        }
      ]
    },
    {
      "cell_type": "code",
      "metadata": {
        "id": "6BhCQxXHDLsx"
      },
      "source": [
        "# 혼자연습\n",
        "\n",
        "class Person:\n",
        "  def __init__(self, ID, Passward):\n",
        "    self.email = email\n",
        "    self.ID = ID\n",
        "    self.Passward = Passward\n",
        "  \n",
        "  def sign_in(self):\n",
        "    print(f'ID: {self.ID} Passward: {self.Passward}')\n",
        "\n",
        "  def __str__(self):\n",
        "    return f'email: {self.email}, ID: {self.ID}. Passward: {self.Passward}'"
      ],
      "execution_count": 53,
      "outputs": []
    },
    {
      "cell_type": "code",
      "metadata": {
        "colab": {
          "base_uri": "https://localhost:8080/",
          "height": 173
        },
        "id": "bVR3JOdUVKd-",
        "outputId": "55d615a0-ddeb-4f7a-8455-d850b9ffa849"
      },
      "source": [
        "jinyoung = Person('jinyounggmailcom', 'jinyoung', 'hahah11')"
      ],
      "execution_count": 54,
      "outputs": [
        {
          "output_type": "error",
          "ename": "TypeError",
          "evalue": "ignored",
          "traceback": [
            "\u001b[0;31m---------------------------------------------------------------------------\u001b[0m",
            "\u001b[0;31mTypeError\u001b[0m                                 Traceback (most recent call last)",
            "\u001b[0;32m<ipython-input-54-72b0b85c676c>\u001b[0m in \u001b[0;36m<module>\u001b[0;34m()\u001b[0m\n\u001b[0;32m----> 1\u001b[0;31m \u001b[0mjinyoung\u001b[0m \u001b[0;34m=\u001b[0m \u001b[0mPerson\u001b[0m\u001b[0;34m(\u001b[0m\u001b[0;34m'jinyounggmailcom'\u001b[0m\u001b[0;34m,\u001b[0m \u001b[0;34m'jinyoung'\u001b[0m\u001b[0;34m,\u001b[0m \u001b[0;34m'hahah11'\u001b[0m\u001b[0;34m)\u001b[0m\u001b[0;34m\u001b[0m\u001b[0;34m\u001b[0m\u001b[0m\n\u001b[0m",
            "\u001b[0;31mTypeError\u001b[0m: __init__() takes 3 positional arguments but 4 were given"
          ]
        }
      ]
    },
    {
      "cell_type": "code",
      "metadata": {
        "id": "4Uw0N7d3Uc47"
      },
      "source": [
        "print(jinyoung)"
      ],
      "execution_count": null,
      "outputs": []
    },
    {
      "cell_type": "markdown",
      "metadata": {
        "id": "2rDbUjEUWBFr"
      },
      "source": [
        "## 34.3 비공개 속성"
      ]
    },
    {
      "cell_type": "code",
      "metadata": {
        "id": "LUI8YPCQWDFF"
      },
      "source": [
        "#얼마든지 속성을 바꿀 수 있다\n",
        "maria.age = 30\n",
        "print(maria)"
      ],
      "execution_count": null,
      "outputs": []
    },
    {
      "cell_type": "code",
      "metadata": {
        "id": "9XkHzxBMWRD1"
      },
      "source": [
        "class Person:\n",
        "  def __init__(self, name, age, addr, wallet):                \n",
        "    self.name = name\n",
        "    self.age = age\n",
        "    self.addr = addr\n",
        "    self.__wallet = wallet                    # __wallet 속성은 비공개\n",
        "\n",
        "  def greeting(self):\n",
        "    print(f'안녕하세요 저는 {self.name}입니다.')\n",
        "\n",
        "  def pay(self, amount):\n",
        "    if self.__wallet - amount < 0:\n",
        "      print('지갑에 돈이 부족합니다.')\n",
        "      return\n",
        "    self.__wallet -= amount\n",
        "    print(f'지갑에 남은 돈은 {self.__wallet}입니다.')\n",
        "\n",
        "# Java의 soString() method\n",
        "  def __str__(self):\n",
        "    return f'name:{self.name}, age:{self.age}, addr:{self.addr}, wallet:{self.__wallet}'"
      ],
      "execution_count": 70,
      "outputs": []
    },
    {
      "cell_type": "code",
      "metadata": {
        "id": "TrJ8AbV1Wrv7"
      },
      "source": [
        "james = Person('제임스', 27, '서울 강남구', 10000)"
      ],
      "execution_count": 71,
      "outputs": []
    },
    {
      "cell_type": "code",
      "metadata": {
        "colab": {
          "base_uri": "https://localhost:8080/"
        },
        "id": "DELplU95W3iD",
        "outputId": "333b3dbc-c0bb-42ef-9e09-862ed61c7585"
      },
      "source": [
        "james.greeting()"
      ],
      "execution_count": 72,
      "outputs": [
        {
          "output_type": "stream",
          "text": [
            "안녕하세요 저는 제임스입니다.\n"
          ],
          "name": "stdout"
        }
      ]
    },
    {
      "cell_type": "code",
      "metadata": {
        "colab": {
          "base_uri": "https://localhost:8080/"
        },
        "id": "2cW76HLgW952",
        "outputId": "92dc0c97-90ba-4ec5-a583-c0090ed22001"
      },
      "source": [
        "#비공개속성 __wallet 은 클래스 밖에서는 값이 바뀌지 않는다(변경 불가)\n",
        "james.__wallet = 1000000              \n",
        "print(james)"
      ],
      "execution_count": 73,
      "outputs": [
        {
          "output_type": "stream",
          "text": [
            "name:제임스, age:27, addr:서울 강남구, wallet:10000\n"
          ],
          "name": "stdout"
        }
      ]
    },
    {
      "cell_type": "code",
      "metadata": {
        "colab": {
          "base_uri": "https://localhost:8080/"
        },
        "id": "M4EcqU7dXLZu",
        "outputId": "fdba2cf7-735f-4af9-a38c-c2a1b0041a2c"
      },
      "source": [
        "james.pay(5000)"
      ],
      "execution_count": 74,
      "outputs": [
        {
          "output_type": "stream",
          "text": [
            "지갑에 남은 돈은 5000입니다.\n"
          ],
          "name": "stdout"
        }
      ]
    },
    {
      "cell_type": "code",
      "metadata": {
        "colab": {
          "base_uri": "https://localhost:8080/"
        },
        "id": "nyyXTYxPYWVg",
        "outputId": "48f0327e-9bdb-476d-fae1-fb704678dd4f"
      },
      "source": [
        "print(james)"
      ],
      "execution_count": 75,
      "outputs": [
        {
          "output_type": "stream",
          "text": [
            "name:제임스, age:27, addr:서울 강남구, wallet:5000\n"
          ],
          "name": "stdout"
        }
      ]
    },
    {
      "cell_type": "code",
      "metadata": {
        "colab": {
          "base_uri": "https://localhost:8080/"
        },
        "id": "iU5DbRGbYXme",
        "outputId": "9e7b9916-5ec8-445a-dfe2-0745b2464c36"
      },
      "source": [
        "james.pay(10000)"
      ],
      "execution_count": 76,
      "outputs": [
        {
          "output_type": "stream",
          "text": [
            "지갑에 돈이 부족합니다.\n"
          ],
          "name": "stdout"
        }
      ]
    },
    {
      "cell_type": "code",
      "metadata": {
        "colab": {
          "base_uri": "https://localhost:8080/"
        },
        "id": "xmFncu3vYZ9D",
        "outputId": "e4d7d009-e19e-4cab-dabb-9890de2833d3"
      },
      "source": [
        "print(james)"
      ],
      "execution_count": 77,
      "outputs": [
        {
          "output_type": "stream",
          "text": [
            "name:제임스, age:27, addr:서울 강남구, wallet:5000\n"
          ],
          "name": "stdout"
        }
      ]
    },
    {
      "cell_type": "markdown",
      "metadata": {
        "id": "vOG6_AA_ZPwP"
      },
      "source": [
        "#### 연습문제\n",
        "\n",
        "- 계좌 account에\n",
        "- ano : 계좌번호 문자열 6글자, '123456'\n",
        "- owner : 문자열\n",
        "- balance: 잔액, 비공개 속성\n",
        "\n",
        "- 생성자\n",
        "- deposit (amount) 잔액이 1000만원 이상은 입금 불가\n",
        "- withdraw (amount) 잔액이 0원 미만이면 출금할 수 없음\n",
        "- 출력 가능하게"
      ]
    },
    {
      "cell_type": "code",
      "metadata": {
        "id": "yfgo6mBmYatu"
      },
      "source": [
        "# 내 답\n",
        "\n",
        "class Account:\n",
        "  def __init__(self, ano, owner, balance):\n",
        "    self.ano: str(*args)\n",
        "    self.owner: str()\n",
        "    self.__balance: int()\n",
        "  \n",
        "  def pay(self, amount):\n",
        "    if self.__balance >= 10000000 :\n",
        "      print(f'입금할 수 없습니다.')\n",
        "    if self.__balance < 0 :\n",
        "      print(f'출금할 수 없습니다.')\n",
        "    return f'현재 잔액은 {self.__balance} 입니다.'\n",
        "\n",
        "  \n",
        "\n"
      ],
      "execution_count": 86,
      "outputs": []
    },
    {
      "cell_type": "code",
      "metadata": {
        "id": "482kZwIHcwx_"
      },
      "source": [
        "class Account:\n",
        "  def __init__(self, ano, owner, balance):\n",
        "    self.ano = ano\n",
        "    self.owner = owner\n",
        "    self.__balance = balance\n",
        "\n",
        "  def deposit(self, amount):\n",
        "    if amount + self.__balance >= 10000000:\n",
        "      print('천만원 이상은 입금할 수 없습니다.')\n",
        "      return\n",
        "    self.__balance += amount\n",
        "  def withdraw(self, amount):\n",
        "    if self.__balance - amount < 0 :\n",
        "      print('잔액이 부족합니다.')\n",
        "      return\n",
        "    self.__balance -= amount\n",
        "\n",
        "  def __str__(self):\n",
        "      return f'계좌번호: {self.ano}, 소유주: {self.owner}, 잔액: {self.__balance:9,d}'"
      ],
      "execution_count": 140,
      "outputs": []
    },
    {
      "cell_type": "code",
      "metadata": {
        "colab": {
          "base_uri": "https://localhost:8080/"
        },
        "id": "4x_8M5igeH2f",
        "outputId": "803e1037-cd45-4769-a637-2a8e6dd5f8cb"
      },
      "source": [
        "acc = Account('123456', '릴리', 100000)\n",
        "print(acc)"
      ],
      "execution_count": 141,
      "outputs": [
        {
          "output_type": "stream",
          "text": [
            "계좌번호: 123456, 소유주: 릴리, 잔액:   100,000\n"
          ],
          "name": "stdout"
        }
      ]
    },
    {
      "cell_type": "code",
      "metadata": {
        "colab": {
          "base_uri": "https://localhost:8080/"
        },
        "id": "aixoTtu9eQKS",
        "outputId": "a77d5049-9db0-4cbf-a010-81ad3e3c6800"
      },
      "source": [
        "acc.deposit(3000000)\n",
        "print(acc)"
      ],
      "execution_count": 142,
      "outputs": [
        {
          "output_type": "stream",
          "text": [
            "계좌번호: 123456, 소유주: 릴리, 잔액: 3,100,000\n"
          ],
          "name": "stdout"
        }
      ]
    },
    {
      "cell_type": "code",
      "metadata": {
        "colab": {
          "base_uri": "https://localhost:8080/"
        },
        "id": "mmOqtnt2eitZ",
        "outputId": "50457c16-ea3c-47f0-dafd-78de45b7727a"
      },
      "source": [
        "acc.deposit(7000000)\n",
        "print(acc)"
      ],
      "execution_count": 143,
      "outputs": [
        {
          "output_type": "stream",
          "text": [
            "천만원 이상은 입금할 수 없습니다.\n",
            "계좌번호: 123456, 소유주: 릴리, 잔액: 3,100,000\n"
          ],
          "name": "stdout"
        }
      ]
    },
    {
      "cell_type": "code",
      "metadata": {
        "colab": {
          "base_uri": "https://localhost:8080/"
        },
        "id": "ERi0yHaXelWu",
        "outputId": "38708e3f-ad6f-4b1b-93e7-85ef4142d8e1"
      },
      "source": [
        "acc.withdraw(2000000)\n",
        "print(acc)"
      ],
      "execution_count": 144,
      "outputs": [
        {
          "output_type": "stream",
          "text": [
            "계좌번호: 123456, 소유주: 릴리, 잔액: 1,100,000\n"
          ],
          "name": "stdout"
        }
      ]
    },
    {
      "cell_type": "code",
      "metadata": {
        "colab": {
          "base_uri": "https://localhost:8080/"
        },
        "id": "aYwjTSg5eoe7",
        "outputId": "74c9f390-7575-45fc-8cb3-3988d7c22cb3"
      },
      "source": [
        "acc.withdraw(2000000)\n",
        "print(acc)"
      ],
      "execution_count": 145,
      "outputs": [
        {
          "output_type": "stream",
          "text": [
            "잔액이 부족합니다.\n",
            "계좌번호: 123456, 소유주: 릴리, 잔액: 1,100,000\n"
          ],
          "name": "stdout"
        }
      ]
    },
    {
      "cell_type": "code",
      "metadata": {
        "colab": {
          "base_uri": "https://localhost:8080/"
        },
        "id": "lF9ihfgte70j",
        "outputId": "cd2ef631-22cf-4833-fc37-d091192e40d0"
      },
      "source": [
        "acc2 = Account('987432','마리',3000000)\n",
        "print(acc2)"
      ],
      "execution_count": 146,
      "outputs": [
        {
          "output_type": "stream",
          "text": [
            "계좌번호: 987432, 소유주: 마리, 잔액: 3,000,000\n"
          ],
          "name": "stdout"
        }
      ]
    },
    {
      "cell_type": "code",
      "metadata": {
        "id": "fcmbO-MZfZaL"
      },
      "source": [
        "acc_list = [acc, acc2]"
      ],
      "execution_count": 147,
      "outputs": []
    },
    {
      "cell_type": "code",
      "metadata": {
        "colab": {
          "base_uri": "https://localhost:8080/"
        },
        "id": "u0vn5BSnfCSe",
        "outputId": "e68a358d-8702-4083-a65d-cf1cc746b798"
      },
      "source": [
        "for account in acc_list:\n",
        "  print(account)"
      ],
      "execution_count": 148,
      "outputs": [
        {
          "output_type": "stream",
          "text": [
            "계좌번호: 123456, 소유주: 릴리, 잔액: 1,100,000\n",
            "계좌번호: 987432, 소유주: 마리, 잔액: 3,000,000\n"
          ],
          "name": "stdout"
        }
      ]
    },
    {
      "cell_type": "markdown",
      "metadata": {
        "id": "k0qFvC7mf0lr"
      },
      "source": [
        "#### 사용자로부터 필요한 정보를 입력 받아서 계좌를 생성\n",
        "\n",
        "def create_account():\n",
        "  pass\n",
        "\n",
        "1:계좌생성, 2:계좌목록, 3:입금, 4:출금, 5:종료"
      ]
    },
    {
      "cell_type": "code",
      "metadata": {
        "id": "hIKBePl1oR_M"
      },
      "source": [
        "# 사용자로부터 필요한 정보를 입력 받아서 계좌를 생성\n",
        "\n",
        "def check_duplicate(ano):                              #중복체크\n",
        "  for acc in acc_list:\n",
        "    if ano == acc.ano:\n",
        "      return True\n",
        "  return False\n",
        "\n",
        "def create_account():\n",
        "  while True:\n",
        "    s = input('계좌번호 성명 금액>').split()\n",
        "    ano, owner = s[0], s[1]\n",
        "    amount = int(s[2])\n",
        "    if not check_duplicate(ano):\n",
        "      break\n",
        "  acc = Account(ano, owner, amount)\n",
        "  acc_list.append(acc)\n",
        "\n",
        "\n",
        " #  s = input('계좌번호 성명 금액> ').split()\n",
        " # ano, owner = s[0], s[1]\n",
        " # amount = int(s[2])\n",
        " # acc = Account(ano, owner, amoumt)\n",
        " # acc_list.appned(acc)"
      ],
      "execution_count": 169,
      "outputs": []
    },
    {
      "cell_type": "code",
      "metadata": {
        "id": "CxKIGPdLkFny"
      },
      "source": [
        "# 사용자로부터 입금\n",
        "def deposit_account():\n",
        "  s = input('계좌번호 금액> ').split()\n",
        "  ano, amount = s[0], int(s[1])\n",
        "  for acc in acc_list:\n",
        "    if acc.ano == ano:\n",
        "      acc.deposit(amount)\n",
        "      return\n",
        "  "
      ],
      "execution_count": 170,
      "outputs": []
    },
    {
      "cell_type": "code",
      "metadata": {
        "id": "iVg28D0vkJNy"
      },
      "source": [
        "# 출금\n",
        "def withdraw_account():\n",
        "  s = input('계좌번호 금액> ').split()\n",
        "  ano, amount = s[0], int(s[1])\n",
        "  for acc in acc_list:\n",
        "    if acc.ano == ano:\n",
        "      acc.withdraw(amount)\n",
        "      return"
      ],
      "execution_count": 171,
      "outputs": []
    },
    {
      "cell_type": "code",
      "metadata": {
        "colab": {
          "base_uri": "https://localhost:8080/"
        },
        "id": "0sCKnvn-fXtx",
        "outputId": "9965f0e8-050b-4c02-caab-53f93bd87e79"
      },
      "source": [
        "while True:\n",
        "  menu = int(input('1:계좌생성, 2:계좌목록, 3:입금, 4:출금, 5:종료> '))\n",
        "  if menu == 5:\n",
        "    break\n",
        "  if menu == 1:\n",
        "    create_account()\n",
        "  elif menu == 2:\n",
        "    for account in acc_list:\n",
        "      print(account)\n",
        "  elif menu ==3:\n",
        "    deposit_account()\n",
        "  elif menu == 4:\n",
        "    withdraw_account()\n",
        "  else:\n",
        "    print('잘못된 명령어입니다.')\n",
        "  \n",
        "  print()"
      ],
      "execution_count": 172,
      "outputs": [
        {
          "output_type": "stream",
          "text": [
            "1:계좌생성, 2:계좌목록, 3:입금, 4:출금, 5:종료> 1\n",
            "계좌번호 성명 금액>123459 이뫼 6000000\n",
            "\n",
            "1:계좌생성, 2:계좌목록, 3:입금, 4:출금, 5:종료> 2\n",
            "계좌번호: 123456, 소유주: 릴리, 잔액: 1,100,000\n",
            "계좌번호: 987432, 소유주: 마리, 잔액: 3,000,000\n",
            "계좌번호: 123459, 소유주: 이뫼, 잔액: 6,000,000\n",
            "\n",
            "1:계좌생성, 2:계좌목록, 3:입금, 4:출금, 5:종료> 3\n",
            "계좌번호 금액> 123456 500000\n",
            "\n",
            "1:계좌생성, 2:계좌목록, 3:입금, 4:출금, 5:종료> 2\n",
            "계좌번호: 123456, 소유주: 릴리, 잔액: 1,600,000\n",
            "계좌번호: 987432, 소유주: 마리, 잔액: 3,000,000\n",
            "계좌번호: 123459, 소유주: 이뫼, 잔액: 6,000,000\n",
            "\n",
            "1:계좌생성, 2:계좌목록, 3:입금, 4:출금, 5:종료> 4\n",
            "계좌번호 금액> 123459 6000000\n",
            "\n",
            "1:계좌생성, 2:계좌목록, 3:입금, 4:출금, 5:종료> 2\n",
            "계좌번호: 123456, 소유주: 릴리, 잔액: 1,600,000\n",
            "계좌번호: 987432, 소유주: 마리, 잔액: 3,000,000\n",
            "계좌번호: 123459, 소유주: 이뫼, 잔액:         0\n",
            "\n",
            "1:계좌생성, 2:계좌목록, 3:입금, 4:출금, 5:종료> 5\n"
          ],
          "name": "stdout"
        }
      ]
    },
    {
      "cell_type": "code",
      "metadata": {
        "id": "_LNN8XwAgGOi"
      },
      "source": [
        ""
      ],
      "execution_count": null,
      "outputs": []
    }
  ]
}