{
  "nbformat": 4,
  "nbformat_minor": 0,
  "metadata": {
    "colab": {
      "name": "u27_파일.ipynb",
      "provenance": [],
      "collapsed_sections": []
    },
    "kernelspec": {
      "name": "python3",
      "display_name": "Python 3"
    },
    "language_info": {
      "name": "python"
    }
  },
  "cells": [
    {
      "cell_type": "markdown",
      "metadata": {
        "id": "wMDslo02lQ2-"
      },
      "source": [
        "# Unit 27. 파일 사용하기\n"
      ]
    },
    {
      "cell_type": "markdown",
      "metadata": {
        "id": "8NSoEXW9mFP0"
      },
      "source": [
        "##  27.1.1 파일에 문자열 쓰기, 일기\n",
        "\n",
        "- open - read/write - close\n",
        "\n",
        "\n",
        "\n",
        "- 파일객체 = open(파일이름, 파일모드)\n",
        "- 파일객체.write('문자열')\n",
        "- 파일객체.close()"
      ]
    },
    {
      "cell_type": "code",
      "metadata": {
        "colab": {
          "base_uri": "https://localhost:8080/"
        },
        "id": "jMXnT8YclMDt",
        "outputId": "63892862-0210-4902-ba0d-90a8d02ae5cf"
      },
      "source": [
        "!ls - l sample_data/"
      ],
      "execution_count": 1,
      "outputs": [
        {
          "output_type": "stream",
          "text": [
            "ls: cannot access '-': No such file or directory\n",
            "ls: cannot access 'l': No such file or directory\n",
            "sample_data/:\n",
            "anscombe.json\t\t      mnist_test.csv\n",
            "california_housing_test.csv   mnist_train_small.csv\n",
            "california_housing_train.csv  README.md\n"
          ],
          "name": "stdout"
        }
      ]
    },
    {
      "cell_type": "code",
      "metadata": {
        "id": "tjpJrGTzmcmF"
      },
      "source": [
        "file = open('hello.txt','w')\n",
        "file.write('Hello, world!')\n",
        "file.close()"
      ],
      "execution_count": 2,
      "outputs": []
    },
    {
      "cell_type": "code",
      "metadata": {
        "colab": {
          "base_uri": "https://localhost:8080/"
        },
        "id": "GKb-eLAVnJfn",
        "outputId": "6dd58288-7b66-411c-bb22-1b281ae733d8"
      },
      "source": [
        "!cat hello.txt"
      ],
      "execution_count": 3,
      "outputs": [
        {
          "output_type": "stream",
          "text": [
            "Hello, world!"
          ],
          "name": "stdout"
        }
      ]
    },
    {
      "cell_type": "code",
      "metadata": {
        "colab": {
          "base_uri": "https://localhost:8080/"
        },
        "id": "P4DxyyTcnL2a",
        "outputId": "b3ef4c2a-0aca-494b-95b0-6636c78285a5"
      },
      "source": [
        "file = open('hello.txt')    # 'r' mode가 default. 만들어졌으면 읽기로 열림\n",
        "file.read()\n",
        "print(s)\n",
        "file.close()                   # 파이썬 스타일 아님"
      ],
      "execution_count": 6,
      "outputs": [
        {
          "output_type": "stream",
          "text": [
            "Hello, world!\n"
          ],
          "name": "stdout"
        }
      ]
    },
    {
      "cell_type": "code",
      "metadata": {
        "colab": {
          "base_uri": "https://localhost:8080/"
        },
        "id": "jR3mgg-cn34U",
        "outputId": "f917d9eb-391b-4ed8-d37e-9a95704499c5"
      },
      "source": [
        "#파이썬 스타일\n",
        "\n",
        "with open('hello.txt') as file:\n",
        "  s = file.read()\n",
        "print(s)"
      ],
      "execution_count": 5,
      "outputs": [
        {
          "output_type": "stream",
          "text": [
            "Hello, world!\n"
          ],
          "name": "stdout"
        }
      ]
    },
    {
      "cell_type": "markdown",
      "metadata": {
        "id": "GFrnDmtLqDpI"
      },
      "source": [
        "## 27.2 문자열 여러줄"
      ]
    },
    {
      "cell_type": "code",
      "metadata": {
        "id": "UN2SuP3PqGbv"
      },
      "source": [
        "with open('hello.txt','w') as file:\n",
        "  for i in range(3):\n",
        "    file.write(f'Hello, world! {i+1}\\n')"
      ],
      "execution_count": 8,
      "outputs": []
    },
    {
      "cell_type": "code",
      "metadata": {
        "colab": {
          "base_uri": "https://localhost:8080/"
        },
        "id": "hM53b3Ptq0wF",
        "outputId": "f2ab52ee-c58b-4fb6-bac4-1b8f8d8d623b"
      },
      "source": [
        "!cat hello.txt"
      ],
      "execution_count": 10,
      "outputs": [
        {
          "output_type": "stream",
          "text": [
            "Hello, world! 1\n",
            "Hello, world! 2\n",
            "Hello, world! 3\n"
          ],
          "name": "stdout"
        }
      ]
    },
    {
      "cell_type": "code",
      "metadata": {
        "id": "NyWdFu-1q2BJ"
      },
      "source": [
        "lines = ['안녕하세요.\\n', '파이썬\\n', '코팅도장입니다.\\n']\n",
        "with open('hello.txt', 'w', encoding='euc-kr') as file:\n",
        "  file.writelines(lines)"
      ],
      "execution_count": 17,
      "outputs": []
    },
    {
      "cell_type": "code",
      "metadata": {
        "colab": {
          "base_uri": "https://localhost:8080/"
        },
        "id": "h9TjRGUprzQe",
        "outputId": "d8a49d9f-792d-481e-b473-f2c25bd9a266"
      },
      "source": [
        "!cat hello.txt"
      ],
      "execution_count": 15,
      "outputs": [
        {
          "output_type": "stream",
          "text": [
            "�ȳ��ϼ���.\n",
            "���̽�\n",
            "���õ����Դϴ�.\n"
          ],
          "name": "stdout"
        }
      ]
    },
    {
      "cell_type": "code",
      "metadata": {
        "id": "dIu_lhrRsmJg"
      },
      "source": [
        "s = '''안녕하세요.\n",
        "파이썬\n",
        "코딩도장입니다.'''\n",
        "with open('hello.txt','w') as file:\n",
        "  file.write(s)"
      ],
      "execution_count": 19,
      "outputs": []
    },
    {
      "cell_type": "code",
      "metadata": {
        "colab": {
          "base_uri": "https://localhost:8080/"
        },
        "id": "14pS_ieVszqf",
        "outputId": "6d981752-012c-49ca-998c-3f7836358ad0"
      },
      "source": [
        "!cat hello.txt"
      ],
      "execution_count": 20,
      "outputs": [
        {
          "output_type": "stream",
          "text": [
            "안녕하세요.\n",
            "파이썬\n",
            "코딩도장입니다."
          ],
          "name": "stdout"
        }
      ]
    },
    {
      "cell_type": "code",
      "metadata": {
        "colab": {
          "base_uri": "https://localhost:8080/"
        },
        "id": "6NDLmWGqtDfA",
        "outputId": "a0c2dfb8-1fa7-4852-fc24-e12a93d66ad4"
      },
      "source": [
        "# 읽기\n",
        "with open('hello.txt') as file:\n",
        "  s = file.read()\n",
        "print(s)  "
      ],
      "execution_count": 21,
      "outputs": [
        {
          "output_type": "stream",
          "text": [
            "안녕하세요.\n",
            "파이썬\n",
            "코딩도장입니다.\n"
          ],
          "name": "stdout"
        }
      ]
    },
    {
      "cell_type": "code",
      "metadata": {
        "colab": {
          "base_uri": "https://localhost:8080/"
        },
        "id": "pVna6vrztKy1",
        "outputId": "5e328d72-0c08-42e9-90c8-1a12fd6bb39a"
      },
      "source": [
        "with open('hello.txt') as file:\n",
        "  s = file.readline()\n",
        "print(s)"
      ],
      "execution_count": 22,
      "outputs": [
        {
          "output_type": "stream",
          "text": [
            "안녕하세요.\n",
            "\n"
          ],
          "name": "stdout"
        }
      ]
    },
    {
      "cell_type": "code",
      "metadata": {
        "colab": {
          "base_uri": "https://localhost:8080/"
        },
        "id": "Af4A190jtRw6",
        "outputId": "7129c00d-91dd-4bd9-cfdf-de1590c9b9cd"
      },
      "source": [
        "with open('hello.txt') as file:\n",
        "  line=None\n",
        "  while line  != '':\n",
        "    line = file.readline()\n",
        "    print(line.strip('\\n'))"
      ],
      "execution_count": 29,
      "outputs": [
        {
          "output_type": "stream",
          "text": [
            "안녕하세요.\n",
            "파이썬\n",
            "코딩도장입니다.\n",
            "\n"
          ],
          "name": "stdout"
        }
      ]
    },
    {
      "cell_type": "code",
      "metadata": {
        "colab": {
          "base_uri": "https://localhost:8080/"
        },
        "id": "npG8FTJit2nf",
        "outputId": "4d1a0aa4-1565-4809-e2ad-ddab70140070"
      },
      "source": [
        "with open('hello.txt') as file:\n",
        "  for line in file:\n",
        "    print(line.strip('\\n'))"
      ],
      "execution_count": 30,
      "outputs": [
        {
          "output_type": "stream",
          "text": [
            "안녕하세요.\n",
            "파이썬\n",
            "코딩도장입니다.\n"
          ],
          "name": "stdout"
        }
      ]
    },
    {
      "cell_type": "code",
      "metadata": {
        "colab": {
          "base_uri": "https://localhost:8080/"
        },
        "id": "HRQl2RAjw_Hn",
        "outputId": "e63cf051-915f-4a72-e9c7-49690cc18992"
      },
      "source": [
        "dir(file)   # __iter__ 가 정의되어 있으면 for문으로 사용 가능"
      ],
      "execution_count": 31,
      "outputs": [
        {
          "output_type": "execute_result",
          "data": {
            "text/plain": [
              "['_CHUNK_SIZE',\n",
              " '__class__',\n",
              " '__del__',\n",
              " '__delattr__',\n",
              " '__dict__',\n",
              " '__dir__',\n",
              " '__doc__',\n",
              " '__enter__',\n",
              " '__eq__',\n",
              " '__exit__',\n",
              " '__format__',\n",
              " '__ge__',\n",
              " '__getattribute__',\n",
              " '__getstate__',\n",
              " '__gt__',\n",
              " '__hash__',\n",
              " '__init__',\n",
              " '__init_subclass__',\n",
              " '__iter__',\n",
              " '__le__',\n",
              " '__lt__',\n",
              " '__ne__',\n",
              " '__new__',\n",
              " '__next__',\n",
              " '__reduce__',\n",
              " '__reduce_ex__',\n",
              " '__repr__',\n",
              " '__setattr__',\n",
              " '__sizeof__',\n",
              " '__str__',\n",
              " '__subclasshook__',\n",
              " '_checkClosed',\n",
              " '_checkReadable',\n",
              " '_checkSeekable',\n",
              " '_checkWritable',\n",
              " '_finalizing',\n",
              " 'buffer',\n",
              " 'close',\n",
              " 'closed',\n",
              " 'detach',\n",
              " 'encoding',\n",
              " 'errors',\n",
              " 'fileno',\n",
              " 'flush',\n",
              " 'isatty',\n",
              " 'line_buffering',\n",
              " 'mode',\n",
              " 'name',\n",
              " 'newlines',\n",
              " 'read',\n",
              " 'readable',\n",
              " 'readline',\n",
              " 'readlines',\n",
              " 'reconfigure',\n",
              " 'seek',\n",
              " 'seekable',\n",
              " 'tell',\n",
              " 'truncate',\n",
              " 'writable',\n",
              " 'write',\n",
              " 'write_through',\n",
              " 'writelines']"
            ]
          },
          "metadata": {
            "tags": []
          },
          "execution_count": 31
        }
      ]
    },
    {
      "cell_type": "code",
      "metadata": {
        "colab": {
          "base_uri": "https://localhost:8080/"
        },
        "id": "LXF6TFNdxOJe",
        "outputId": "96ac62e1-b57b-4fb1-8b63-59d233aa5c4a"
      },
      "source": [
        "x = {'a':10, 'b':20}\n",
        "dir(x)  # dir은 객체가 가지고 있는 속성과 메소드를 보여준다 __iter__ 객체로, "
      ],
      "execution_count": 33,
      "outputs": [
        {
          "output_type": "execute_result",
          "data": {
            "text/plain": [
              "['__class__',\n",
              " '__contains__',\n",
              " '__delattr__',\n",
              " '__delitem__',\n",
              " '__dir__',\n",
              " '__doc__',\n",
              " '__eq__',\n",
              " '__format__',\n",
              " '__ge__',\n",
              " '__getattribute__',\n",
              " '__getitem__',\n",
              " '__gt__',\n",
              " '__hash__',\n",
              " '__init__',\n",
              " '__init_subclass__',\n",
              " '__iter__',\n",
              " '__le__',\n",
              " '__len__',\n",
              " '__lt__',\n",
              " '__ne__',\n",
              " '__new__',\n",
              " '__reduce__',\n",
              " '__reduce_ex__',\n",
              " '__repr__',\n",
              " '__setattr__',\n",
              " '__setitem__',\n",
              " '__sizeof__',\n",
              " '__str__',\n",
              " '__subclasshook__',\n",
              " 'clear',\n",
              " 'copy',\n",
              " 'fromkeys',\n",
              " 'get',\n",
              " 'items',\n",
              " 'keys',\n",
              " 'pop',\n",
              " 'popitem',\n",
              " 'setdefault',\n",
              " 'update',\n",
              " 'values']"
            ]
          },
          "metadata": {
            "tags": []
          },
          "execution_count": 33
        }
      ]
    },
    {
      "cell_type": "code",
      "metadata": {
        "id": "IJuv0drCxpEC"
      },
      "source": [
        "for a in x.keys():\n",
        "  print(a)"
      ],
      "execution_count": 35,
      "outputs": []
    },
    {
      "cell_type": "code",
      "metadata": {
        "colab": {
          "base_uri": "https://localhost:8080/"
        },
        "id": "8wwqn9gLxxJU",
        "outputId": "5ca6c230-3304-4591-eb7a-32015f580bdc"
      },
      "source": [
        "with open('hello.txt') as file:\n",
        "  s = file.read(10)\n",
        "print(s)"
      ],
      "execution_count": 36,
      "outputs": [
        {
          "output_type": "stream",
          "text": [
            "안녕하세요.\n",
            "파이썬\n"
          ],
          "name": "stdout"
        }
      ]
    },
    {
      "cell_type": "markdown",
      "metadata": {
        "id": "evo_GtuOyy96"
      },
      "source": [
        "### append"
      ]
    },
    {
      "cell_type": "code",
      "metadata": {
        "id": "tpcS0Wd8yf38"
      },
      "source": [
        "with open('hello.txt','a') as file:\n",
        "  file.write('Append\\n')"
      ],
      "execution_count": 37,
      "outputs": []
    },
    {
      "cell_type": "code",
      "metadata": {
        "colab": {
          "base_uri": "https://localhost:8080/"
        },
        "id": "P0ptV6xSzKUV",
        "outputId": "b58233e7-0bce-4019-845b-50db5c283601"
      },
      "source": [
        "!cat hello.txt"
      ],
      "execution_count": 38,
      "outputs": [
        {
          "output_type": "stream",
          "text": [
            "안녕하세요.\n",
            "파이썬\n",
            "코딩도장입니다.Append\n"
          ],
          "name": "stdout"
        }
      ]
    },
    {
      "cell_type": "markdown",
      "metadata": {
        "id": "ZcR_nDX7zbSY"
      },
      "source": [
        "### binary mode"
      ]
    },
    {
      "cell_type": "code",
      "metadata": {
        "colab": {
          "base_uri": "https://localhost:8080/"
        },
        "id": "LG9JmIzXzPSh",
        "outputId": "9ae086fe-0e28-4b0b-adf3-6fa45c1514d0"
      },
      "source": [
        "with open('2021-08-01.png', 'rb') as bin:\n",
        "  x = bin.read(10)\n",
        "print(x)"
      ],
      "execution_count": 44,
      "outputs": [
        {
          "output_type": "stream",
          "text": [
            "b'\\x89PNG\\r\\n\\x1a\\n\\x00\\x00'\n"
          ],
          "name": "stdout"
        }
      ]
    },
    {
      "cell_type": "markdown",
      "metadata": {
        "id": "4hQi9VRf1Sw5"
      },
      "source": [
        "## 27.3 파이썬 객체 읽고 쓰기"
      ]
    },
    {
      "cell_type": "code",
      "metadata": {
        "id": "3natXXl00PO7"
      },
      "source": [
        "import pickle\n",
        "\n",
        "scores = {'kor':90, 'eng':90, 'mat':80}\n",
        "with open('binary.pkl', 'wb') as file:\n",
        "  pickle.dump(scores, file)"
      ],
      "execution_count": 46,
      "outputs": []
    },
    {
      "cell_type": "code",
      "metadata": {
        "colab": {
          "base_uri": "https://localhost:8080/"
        },
        "id": "xqf4vVrm1pTY",
        "outputId": "8565be00-c4bd-4c23-d036-1675a861a439"
      },
      "source": [
        "!cat binary.pkl"
      ],
      "execution_count": 47,
      "outputs": [
        {
          "output_type": "stream",
          "text": [
            "�\u0003}q\u0000(X\u0003\u0000\u0000\u0000korq\u0001KZX\u0003\u0000\u0000\u0000engq\u0002KZX\u0003\u0000\u0000\u0000matq\u0003KPu."
          ],
          "name": "stdout"
        }
      ]
    },
    {
      "cell_type": "code",
      "metadata": {
        "colab": {
          "base_uri": "https://localhost:8080/"
        },
        "id": "LchxbIp41vU6",
        "outputId": "5991f778-7761-4496-c104-570ea64dded1"
      },
      "source": [
        "!hd binary.pkl"
      ],
      "execution_count": 48,
      "outputs": [
        {
          "output_type": "stream",
          "text": [
            "00000000  80 03 7d 71 00 28 58 03  00 00 00 6b 6f 72 71 01  |..}q.(X....korq.|\n",
            "00000010  4b 5a 58 03 00 00 00 65  6e 67 71 02 4b 5a 58 03  |KZX....engq.KZX.|\n",
            "00000020  00 00 00 6d 61 74 71 03  4b 50 75 2e              |...matq.KPu.|\n",
            "0000002c\n"
          ],
          "name": "stdout"
        }
      ]
    },
    {
      "cell_type": "code",
      "metadata": {
        "colab": {
          "base_uri": "https://localhost:8080/"
        },
        "id": "PaqCDK_B1y4D",
        "outputId": "a1b9ddc5-3f99-4004-898d-07f86eeea22a"
      },
      "source": [
        "with open('binary.pkl','rb') as file:\n",
        "  new_scores = pickle.load(file)\n",
        "\n",
        "new_scores"
      ],
      "execution_count": 49,
      "outputs": [
        {
          "output_type": "execute_result",
          "data": {
            "text/plain": [
              "{'eng': 90, 'kor': 90, 'mat': 80}"
            ]
          },
          "metadata": {
            "tags": []
          },
          "execution_count": 49
        }
      ]
    },
    {
      "cell_type": "code",
      "metadata": {
        "id": "M2B8HCQQ2ctR"
      },
      "source": [
        ""
      ],
      "execution_count": null,
      "outputs": []
    }
  ]
}