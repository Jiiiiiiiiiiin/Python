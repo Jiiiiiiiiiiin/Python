{
  "nbformat": 4,
  "nbformat_minor": 0,
  "metadata": {
    "colab": {
      "name": "u29_함수.ipynb",
      "provenance": [],
      "collapsed_sections": []
    },
    "kernelspec": {
      "name": "python3",
      "display_name": "Python 3"
    },
    "language_info": {
      "name": "python"
    }
  },
  "cells": [
    {
      "cell_type": "markdown",
      "metadata": {
        "id": "ukk5H36tMb87"
      },
      "source": [
        "# Unit 29. 함수"
      ]
    },
    {
      "cell_type": "markdown",
      "metadata": {
        "id": "ZkWWVUafM7-D"
      },
      "source": [
        "- 같은 코드가 반복될 경우, 함수형태로 만들어 놓으면 프로그램이 간결해지고 실수를 줄일 수 있다."
      ]
    },
    {
      "cell_type": "markdown",
      "metadata": {
        "id": "bNGjM69VPMHS"
      },
      "source": [
        "## 29.1 출력 함수 만들기"
      ]
    },
    {
      "cell_type": "code",
      "metadata": {
        "id": "Lhb193TSMYZz"
      },
      "source": [
        "def hello():\n",
        "  print('Hello, world!')\n",
        "\n"
      ],
      "execution_count": 2,
      "outputs": []
    },
    {
      "cell_type": "code",
      "metadata": {
        "colab": {
          "base_uri": "https://localhost:8080/"
        },
        "id": "IVReIaYlPIq_",
        "outputId": "4c19ea87-0615-41b7-a2a9-b682b1286f61"
      },
      "source": [
        "hello()"
      ],
      "execution_count": 4,
      "outputs": [
        {
          "output_type": "stream",
          "text": [
            "Hello, world!\n"
          ],
          "name": "stdout"
        }
      ]
    },
    {
      "cell_type": "code",
      "metadata": {
        "id": "alhRocK9PUIR"
      },
      "source": [
        "def hello2():\n",
        "  print('Hello, world!')"
      ],
      "execution_count": 5,
      "outputs": []
    },
    {
      "cell_type": "code",
      "metadata": {
        "colab": {
          "base_uri": "https://localhost:8080/"
        },
        "id": "fZeafHUAPbvm",
        "outputId": "ed02a927-b425-4944-d5d8-134c16d3893b"
      },
      "source": [
        "hello2()"
      ],
      "execution_count": 6,
      "outputs": [
        {
          "output_type": "stream",
          "text": [
            "Hello, world!\n"
          ],
          "name": "stdout"
        }
      ]
    },
    {
      "cell_type": "code",
      "metadata": {
        "id": "GgFUzR31PdR2"
      },
      "source": [
        "def hello():\n",
        "  pass"
      ],
      "execution_count": 7,
      "outputs": []
    },
    {
      "cell_type": "markdown",
      "metadata": {
        "id": "vfZLvePZPwZC"
      },
      "source": [
        "## 29.2 덧셈 함수"
      ]
    },
    {
      "cell_type": "code",
      "metadata": {
        "id": "lBDAv6DTPjCB"
      },
      "source": [
        "#매개변수, parameter, argument\n",
        "def add(a, b):\n",
        "  print(a+b)"
      ],
      "execution_count": 8,
      "outputs": []
    },
    {
      "cell_type": "code",
      "metadata": {
        "colab": {
          "base_uri": "https://localhost:8080/"
        },
        "id": "VzJ-WbI1P9-C",
        "outputId": "859be8df-440f-4f70-cffb-c7a4cebb25bc"
      },
      "source": [
        "add(4,5)"
      ],
      "execution_count": 11,
      "outputs": [
        {
          "output_type": "stream",
          "text": [
            "9\n"
          ],
          "name": "stdout"
        }
      ]
    },
    {
      "cell_type": "code",
      "metadata": {
        "id": "FXw2EmcuQCnS"
      },
      "source": [
        "# Docstrings\n",
        "def add(a,b):\n",
        "  \"\"\"\n",
        "  이 함수는 a와 b를 더한 뒤 결과를 반환하는 함수입니다.\n",
        "  \"\"\"\n",
        "  print(a + b)"
      ],
      "execution_count": 12,
      "outputs": []
    },
    {
      "cell_type": "code",
      "metadata": {
        "id": "3bIr8cjYRK9x"
      },
      "source": [
        "#도움말 호출\n",
        "add?"
      ],
      "execution_count": 15,
      "outputs": []
    },
    {
      "cell_type": "code",
      "metadata": {
        "id": "yEPPnAuARMjU"
      },
      "source": [
        "print?"
      ],
      "execution_count": 16,
      "outputs": []
    },
    {
      "cell_type": "markdown",
      "metadata": {
        "id": "g4L9WOETRVf0"
      },
      "source": [
        "## 29.3 결과값 반환"
      ]
    },
    {
      "cell_type": "code",
      "metadata": {
        "id": "rkG9FduORNkK"
      },
      "source": [
        "def add(a,b):\n",
        "  return a+b"
      ],
      "execution_count": 17,
      "outputs": []
    },
    {
      "cell_type": "code",
      "metadata": {
        "colab": {
          "base_uri": "https://localhost:8080/"
        },
        "id": "tXc5mRTvRrwz",
        "outputId": "cc511e02-f85d-45ba-9d1f-62f9fddadff2"
      },
      "source": [
        "add(4,5), add(10,20)"
      ],
      "execution_count": 18,
      "outputs": [
        {
          "output_type": "execute_result",
          "data": {
            "text/plain": [
              "(9, 30)"
            ]
          },
          "metadata": {
            "tags": []
          },
          "execution_count": 18
        }
      ]
    },
    {
      "cell_type": "code",
      "metadata": {
        "colab": {
          "base_uri": "https://localhost:8080/"
        },
        "id": "E0AxDfiaRufP",
        "outputId": "134709cc-d825-4d70-fc9d-9c9bfdeb2597"
      },
      "source": [
        "x =add(23,45)\n",
        "x"
      ],
      "execution_count": 19,
      "outputs": [
        {
          "output_type": "execute_result",
          "data": {
            "text/plain": [
              "68"
            ]
          },
          "metadata": {
            "tags": []
          },
          "execution_count": 19
        }
      ]
    },
    {
      "cell_type": "code",
      "metadata": {
        "id": "vRhEIonqR3c1"
      },
      "source": [
        "def is_ten(x):\n",
        "  return x==10"
      ],
      "execution_count": 20,
      "outputs": []
    },
    {
      "cell_type": "code",
      "metadata": {
        "colab": {
          "base_uri": "https://localhost:8080/"
        },
        "id": "WbSuCPo0SHDe",
        "outputId": "bca2de5f-bc4e-4df0-c18a-495f8a5fddc2"
      },
      "source": [
        "is_ten(101//10)"
      ],
      "execution_count": 21,
      "outputs": [
        {
          "output_type": "execute_result",
          "data": {
            "text/plain": [
              "True"
            ]
          },
          "metadata": {
            "tags": []
          },
          "execution_count": 21
        }
      ]
    },
    {
      "cell_type": "code",
      "metadata": {
        "id": "XNqwPezXSM1A"
      },
      "source": [
        "def not_ten(x):\n",
        "  if x==10:\n",
        "    return\n",
        "  else:\n",
        "    print('It is not 10.')"
      ],
      "execution_count": 24,
      "outputs": []
    },
    {
      "cell_type": "code",
      "metadata": {
        "colab": {
          "base_uri": "https://localhost:8080/"
        },
        "id": "ZB5xLk79SaZ9",
        "outputId": "50ebacce-8131-4e67-eb7c-39ab6cb0ec5c"
      },
      "source": [
        "not_ten(9)"
      ],
      "execution_count": 26,
      "outputs": [
        {
          "output_type": "stream",
          "text": [
            "It is not 10.\n"
          ],
          "name": "stdout"
        }
      ]
    },
    {
      "cell_type": "code",
      "metadata": {
        "id": "G9hagtSGSg5w"
      },
      "source": [
        "def not_ten(x):\n",
        "  if x==10:\n",
        "    return\n",
        "  print('It is not 10.')"
      ],
      "execution_count": 27,
      "outputs": []
    },
    {
      "cell_type": "code",
      "metadata": {
        "colab": {
          "base_uri": "https://localhost:8080/"
        },
        "id": "KYXCxAzZS8tE",
        "outputId": "7e6c08b6-27a6-455a-bf24-a888c23d9bb8"
      },
      "source": [
        "not_ten(1)"
      ],
      "execution_count": 28,
      "outputs": [
        {
          "output_type": "stream",
          "text": [
            "It is not 10.\n"
          ],
          "name": "stdout"
        }
      ]
    },
    {
      "cell_type": "markdown",
      "metadata": {
        "id": "SEojjzJ7Tag8"
      },
      "source": [
        "## 29.4. 여러개의 결과값 반환"
      ]
    },
    {
      "cell_type": "code",
      "metadata": {
        "id": "zyhh2AtUS_FB"
      },
      "source": [
        "def add_sub(a,b):\n",
        "  return a+b, a-b"
      ],
      "execution_count": 29,
      "outputs": []
    },
    {
      "cell_type": "code",
      "metadata": {
        "id": "voqPF92lT5_v"
      },
      "source": [
        "x, y = add_sub(15,7)"
      ],
      "execution_count": 30,
      "outputs": []
    },
    {
      "cell_type": "code",
      "metadata": {
        "colab": {
          "base_uri": "https://localhost:8080/"
        },
        "id": "i36RjA_NT81X",
        "outputId": "00cf6a14-aa83-4e9e-958e-a38a030f7e56"
      },
      "source": [
        "x, y"
      ],
      "execution_count": 31,
      "outputs": [
        {
          "output_type": "execute_result",
          "data": {
            "text/plain": [
              "(22, 8)"
            ]
          },
          "metadata": {
            "tags": []
          },
          "execution_count": 31
        }
      ]
    },
    {
      "cell_type": "markdown",
      "metadata": {
        "id": "mFM7uejPUU62"
      },
      "source": [
        "## 29.5 함수의 호출 과정\n",
        "\n",
        "- stack을 이용"
      ]
    },
    {
      "cell_type": "markdown",
      "metadata": {
        "id": "AbI9_AUHViiO"
      },
      "source": [
        "### 연습문제\n",
        "\n",
        "- 3자리수 정수 두개를 곱해서 나온 결과가 팔린드롬(Palindrome)이 되도록 할 때, 가장 큰 숫자는?\n",
        "- Palindrome은 중간값을 기준으로 앞뒤가 데칼코마니같이 같음. ex 이효리 12321"
      ]
    },
    {
      "cell_type": "code",
      "metadata": {
        "id": "u6ygvqBcT-IX"
      },
      "source": [
        "def mul(x,y):\n",
        "  print.mul(x*y)"
      ],
      "execution_count": 34,
      "outputs": []
    },
    {
      "cell_type": "code",
      "metadata": {
        "id": "mJk5PzAMUb-p"
      },
      "source": [
        "if mul is "
      ],
      "execution_count": null,
      "outputs": []
    },
    {
      "cell_type": "code",
      "metadata": {
        "id": "18Hy_QhSbWTN"
      },
      "source": [
        ""
      ],
      "execution_count": null,
      "outputs": []
    },
    {
      "cell_type": "code",
      "metadata": {
        "id": "AQveMs9Rbx2M"
      },
      "source": [
        "# 정답\n",
        "\n",
        "def is_palindrom(x):\n",
        "  s = str(x)\n",
        "  return s == s[::-1]"
      ],
      "execution_count": 35,
      "outputs": []
    },
    {
      "cell_type": "code",
      "metadata": {
        "colab": {
          "base_uri": "https://localhost:8080/"
        },
        "id": "QO6ScklkdEBD",
        "outputId": "df959ac4-8a96-48e2-faf0-e096a407a7ed"
      },
      "source": [
        "is_palindrom(12345), is_palindrom(906609)"
      ],
      "execution_count": 36,
      "outputs": [
        {
          "output_type": "execute_result",
          "data": {
            "text/plain": [
              "(False, True)"
            ]
          },
          "metadata": {
            "tags": []
          },
          "execution_count": 36
        }
      ]
    },
    {
      "cell_type": "code",
      "metadata": {
        "colab": {
          "base_uri": "https://localhost:8080/"
        },
        "id": "tZJHqgdUdLys",
        "outputId": "d1498161-9ea4-4637-ed1c-ecf687a18f3b"
      },
      "source": [
        "max_pal, m, n = 0, 0, 0\n",
        "for i in range(100,1000):\n",
        "  for k in range(i, 1000):\n",
        "    if is_palindrom(i*k):\n",
        "      if i*k > max_pal:\n",
        "        max_pal= i*k\n",
        "        m = i\n",
        "        n = k\n",
        "\n",
        "print(f'{m} x {n} = {max_pal}')"
      ],
      "execution_count": 38,
      "outputs": [
        {
          "output_type": "stream",
          "text": [
            "913 x 993 = 906609\n"
          ],
          "name": "stdout"
        }
      ]
    },
    {
      "cell_type": "code",
      "metadata": {
        "id": "r2nPJaBWeKkH"
      },
      "source": [
        ""
      ],
      "execution_count": null,
      "outputs": []
    }
  ]
}