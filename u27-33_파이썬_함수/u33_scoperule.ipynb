{
  "nbformat": 4,
  "nbformat_minor": 0,
  "metadata": {
    "colab": {
      "name": "u33_scoperule.ipynb",
      "provenance": [],
      "collapsed_sections": []
    },
    "kernelspec": {
      "name": "python3",
      "display_name": "Python 3"
    },
    "language_info": {
      "name": "python"
    }
  },
  "cells": [
    {
      "cell_type": "markdown",
      "metadata": {
        "id": "EOUbtLzLriAH"
      },
      "source": [
        "# Unit 33. 변수의 사용 범위 (Scope Rule)"
      ]
    },
    {
      "cell_type": "code",
      "metadata": {
        "colab": {
          "base_uri": "https://localhost:8080/"
        },
        "id": "cTsUdiKMrqsm",
        "outputId": "d9709317-50bd-450f-fa32-4413a2b88eaa"
      },
      "source": [
        "x = 10           #전역 변수 gloal variable\n",
        "def foo():\n",
        "  print(x)\n",
        "\n",
        "foo()\n",
        "print(x)"
      ],
      "execution_count": 1,
      "outputs": [
        {
          "output_type": "stream",
          "text": [
            "10\n",
            "10\n"
          ],
          "name": "stdout"
        }
      ]
    },
    {
      "cell_type": "code",
      "metadata": {
        "colab": {
          "base_uri": "https://localhost:8080/",
          "height": 230
        },
        "id": "NIDsJ0SnsFou",
        "outputId": "c16c8f5a-7fa7-4d63-f111-9ebd6c937028"
      },
      "source": [
        "def foo():\n",
        "  y=10          #지역변수 local variable \n",
        "  print(y)\n",
        "\n",
        "foo()\n",
        "print(y)                 # y는 foo 함수의 지역변수이기 때문에 함수 밖에서는 사용 불가"
      ],
      "execution_count": 3,
      "outputs": [
        {
          "output_type": "stream",
          "text": [
            "10\n"
          ],
          "name": "stdout"
        },
        {
          "output_type": "error",
          "ename": "NameError",
          "evalue": "ignored",
          "traceback": [
            "\u001b[0;31m---------------------------------------------------------------------------\u001b[0m",
            "\u001b[0;31mNameError\u001b[0m                                 Traceback (most recent call last)",
            "\u001b[0;32m<ipython-input-3-e384b884520c>\u001b[0m in \u001b[0;36m<module>\u001b[0;34m()\u001b[0m\n\u001b[1;32m      4\u001b[0m \u001b[0;34m\u001b[0m\u001b[0m\n\u001b[1;32m      5\u001b[0m \u001b[0mfoo\u001b[0m\u001b[0;34m(\u001b[0m\u001b[0;34m)\u001b[0m\u001b[0;34m\u001b[0m\u001b[0;34m\u001b[0m\u001b[0m\n\u001b[0;32m----> 6\u001b[0;31m \u001b[0mprint\u001b[0m\u001b[0;34m(\u001b[0m\u001b[0my\u001b[0m\u001b[0;34m)\u001b[0m\u001b[0;34m\u001b[0m\u001b[0;34m\u001b[0m\u001b[0m\n\u001b[0m",
            "\u001b[0;31mNameError\u001b[0m: name 'y' is not defined"
          ]
        }
      ]
    },
    {
      "cell_type": "markdown",
      "metadata": {
        "id": "LtnumquDt_NU"
      },
      "source": [
        "### 함수 안에서 전역 변수 변경하기"
      ]
    },
    {
      "cell_type": "code",
      "metadata": {
        "colab": {
          "base_uri": "https://localhost:8080/"
        },
        "id": "T34U6N0Ut-bt",
        "outputId": "2b97c98b-e587-4852-d718-0f48bed19ef7"
      },
      "source": [
        "x = 10               #전역변수\n",
        "def foo():\n",
        "  x = 20                    #로컬변수. 함수 밖을 벗어나면 소멸됨\n",
        "  print(x)\n",
        "\n",
        "foo()\n",
        "print(x)"
      ],
      "execution_count": 5,
      "outputs": [
        {
          "output_type": "stream",
          "text": [
            "20\n",
            "10\n"
          ],
          "name": "stdout"
        }
      ]
    },
    {
      "cell_type": "code",
      "metadata": {
        "colab": {
          "base_uri": "https://localhost:8080/"
        },
        "id": "qmcjwfRqsJ5L",
        "outputId": "b8549812-5623-4642-a6e7-292503c90e4e"
      },
      "source": [
        "x = 10               #전역변수\n",
        "def foo():\n",
        "  global x\n",
        "  x = 20                    #전역변수\n",
        "  print(x)\n",
        "\n",
        "foo()\n",
        "print(x)"
      ],
      "execution_count": 6,
      "outputs": [
        {
          "output_type": "stream",
          "text": [
            "20\n",
            "20\n"
          ],
          "name": "stdout"
        }
      ]
    },
    {
      "cell_type": "code",
      "metadata": {
        "colab": {
          "base_uri": "https://localhost:8080/"
        },
        "id": "s_NYnNsKugJE",
        "outputId": "1669c0a2-c771-4f3a-fff9-f575cab0960e"
      },
      "source": [
        "def foo():\n",
        "  global z\n",
        "  z = 10\n",
        "  print(z)\n",
        "\n",
        "foo()\n",
        "print(z)"
      ],
      "execution_count": 7,
      "outputs": [
        {
          "output_type": "stream",
          "text": [
            "10\n",
            "10\n"
          ],
          "name": "stdout"
        }
      ]
    },
    {
      "cell_type": "code",
      "metadata": {
        "id": "P1at9T43wBpB"
      },
      "source": [
        ""
      ],
      "execution_count": null,
      "outputs": []
    }
  ]
}