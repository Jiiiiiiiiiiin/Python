{
  "nbformat": 4,
  "nbformat_minor": 0,
  "metadata": {
    "colab": {
      "name": "u30_위치인수_키워드인수.ipynb",
      "provenance": [],
      "collapsed_sections": []
    },
    "kernelspec": {
      "name": "python3",
      "display_name": "Python 3"
    },
    "language_info": {
      "name": "python"
    }
  },
  "cells": [
    {
      "cell_type": "markdown",
      "metadata": {
        "id": "vAYBvK4af1PI"
      },
      "source": [
        "# Unit 30. 위치 인수와 키워드 인수\n"
      ]
    },
    {
      "cell_type": "markdown",
      "metadata": {
        "id": "LuHAXUT0f61u"
      },
      "source": [
        "## 30.1 위치 인수\n",
        "\n",
        "- 위치인수가 먼저오고 키워드인수가 나중에 옴"
      ]
    },
    {
      "cell_type": "code",
      "metadata": {
        "colab": {
          "base_uri": "https://localhost:8080/"
        },
        "id": "T-vZji3Jf0UW",
        "outputId": "ba09b8b0-26f0-4d20-c016-72bdeb52ebb1"
      },
      "source": [
        "print(10, 20, 30)   # 10 20 30 위치인수"
      ],
      "execution_count": 1,
      "outputs": [
        {
          "output_type": "stream",
          "text": [
            "10 20 30\n"
          ],
          "name": "stdout"
        }
      ]
    },
    {
      "cell_type": "code",
      "metadata": {
        "colab": {
          "base_uri": "https://localhost:8080/"
        },
        "id": "W99UhNRzf-d9",
        "outputId": "b97bf7c3-347f-4f31-f2ea-03bc6adf250e"
      },
      "source": [
        "print(10, 20, 30, sep=', ')    #sep=', ' 키워드 인수"
      ],
      "execution_count": 2,
      "outputs": [
        {
          "output_type": "stream",
          "text": [
            "10, 20, 30\n"
          ],
          "name": "stdout"
        }
      ]
    },
    {
      "cell_type": "code",
      "metadata": {
        "colab": {
          "base_uri": "https://localhost:8080/",
          "height": 137
        },
        "id": "fVqyijbWgFmg",
        "outputId": "6b960451-d49a-47a8-fb69-bd4de1c00215"
      },
      "source": [
        "print(10, 20, 30, sep=', ', 40)    #순서는 항상 위치인수가 먼저 키워드인수가 나중"
      ],
      "execution_count": 3,
      "outputs": [
        {
          "output_type": "error",
          "ename": "SyntaxError",
          "evalue": "ignored",
          "traceback": [
            "\u001b[0;36m  File \u001b[0;32m\"<ipython-input-3-ae2cfbf92bca>\"\u001b[0;36m, line \u001b[0;32m1\u001b[0m\n\u001b[0;31m    print(10, 20, 30, sep=', ', 40)\u001b[0m\n\u001b[0m                               ^\u001b[0m\n\u001b[0;31mSyntaxError\u001b[0m\u001b[0;31m:\u001b[0m positional argument follows keyword argument\n"
          ]
        }
      ]
    },
    {
      "cell_type": "code",
      "metadata": {
        "colab": {
          "base_uri": "https://localhost:8080/"
        },
        "id": "APH8l1j3gN5M",
        "outputId": "f4421791-f20a-45be-fade-44527f190d83"
      },
      "source": [
        "print(10, 20, 30, 40, 50, 60, 70, 80, 90, 100)   #위치인수 갯수와 무관"
      ],
      "execution_count": 6,
      "outputs": [
        {
          "output_type": "stream",
          "text": [
            "10 20 30 40 50 60 70 80 90 100\n"
          ],
          "name": "stdout"
        }
      ]
    },
    {
      "cell_type": "code",
      "metadata": {
        "id": "uaBYnhn5gdXx"
      },
      "source": [
        "def print_numbers(a,b,c):\n",
        "  print(a)\n",
        "  print(b)\n",
        "  print(c)"
      ],
      "execution_count": 7,
      "outputs": []
    },
    {
      "cell_type": "code",
      "metadata": {
        "colab": {
          "base_uri": "https://localhost:8080/"
        },
        "id": "MfsPYvYzg35o",
        "outputId": "947747e3-59e3-4e19-c7c7-9381557d554a"
      },
      "source": [
        "print_numbers(10,20,30)"
      ],
      "execution_count": 8,
      "outputs": [
        {
          "output_type": "stream",
          "text": [
            "10\n",
            "20\n",
            "30\n"
          ],
          "name": "stdout"
        }
      ]
    },
    {
      "cell_type": "code",
      "metadata": {
        "colab": {
          "base_uri": "https://localhost:8080/"
        },
        "id": "UkL6ajH1hEr0",
        "outputId": "c67187ed-443b-40a5-d48f-9efad9dc046b"
      },
      "source": [
        "# *x *y : 리스트, 튜플 언팩킹 \n",
        "x, y = [10,20,30], (40,50,60)\n",
        "print_numbers(*x)\n",
        "print_numbers(*y)"
      ],
      "execution_count": 11,
      "outputs": [
        {
          "output_type": "stream",
          "text": [
            "10\n",
            "20\n",
            "30\n",
            "40\n",
            "50\n",
            "60\n"
          ],
          "name": "stdout"
        }
      ]
    },
    {
      "cell_type": "markdown",
      "metadata": {
        "id": "0iYZ9Pozh-XT"
      },
      "source": [
        "### 가변 인수 함수 variable argument(인수의 갯수가 정해지지 않은 인수)\n",
        "\n",
        "- 같은 함수에 인수 한개를 넣을 수 있고 10개를 넣을 수도, 안 넣을 수도 있다.\n",
        "- 매개변수 앞에 *를 붙인다. 함수이름( * 매개변수)"
      ]
    },
    {
      "cell_type": "code",
      "metadata": {
        "id": "2eD2DDoIh-HW"
      },
      "source": [
        "def print_numbers(*args):\n",
        "  for arg in args:\n",
        "    print(arg)"
      ],
      "execution_count": 12,
      "outputs": []
    },
    {
      "cell_type": "code",
      "metadata": {
        "colab": {
          "base_uri": "https://localhost:8080/"
        },
        "id": "5teax3ElhNIb",
        "outputId": "faa917f7-acb8-46fb-ccf2-ea3aa27fdc7d"
      },
      "source": [
        "print_numbers(10,20,30,40)"
      ],
      "execution_count": 13,
      "outputs": [
        {
          "output_type": "stream",
          "text": [
            "10\n",
            "20\n",
            "30\n",
            "40\n"
          ],
          "name": "stdout"
        }
      ]
    },
    {
      "cell_type": "markdown",
      "metadata": {
        "id": "OC9wbvfiiuzd"
      },
      "source": [
        "### 고정 인수와 가변인수\n",
        "\n",
        "- def print_numbers(a, *args):   a 고정인수, * args 가변인수\n",
        "- ...     print(a)\n",
        "- ...     print(args)\n",
        "- 고정 위치 인수가 가변 위치 인수보다 먼저 나온다\n"
      ]
    },
    {
      "cell_type": "code",
      "metadata": {
        "id": "LNzH49wjimC9"
      },
      "source": [
        "def print_numbers3(a, *args):\n",
        "  print(a)\n",
        "  print(args)"
      ],
      "execution_count": 16,
      "outputs": []
    },
    {
      "cell_type": "code",
      "metadata": {
        "colab": {
          "base_uri": "https://localhost:8080/"
        },
        "id": "8A0w9SFFiIGE",
        "outputId": "df01119b-f9e0-4fc5-bc83-7d08650bb0b1"
      },
      "source": [
        "print_numbers3(1,10,20)"
      ],
      "execution_count": 17,
      "outputs": [
        {
          "output_type": "stream",
          "text": [
            "1\n",
            "(10, 20)\n"
          ],
          "name": "stdout"
        }
      ]
    },
    {
      "cell_type": "code",
      "metadata": {
        "colab": {
          "base_uri": "https://localhost:8080/"
        },
        "id": "Jq_Pnj2ii5Rz",
        "outputId": "40230fef-e936-4525-a88c-9fc886c889a6"
      },
      "source": [
        "print_numbers3(*x)"
      ],
      "execution_count": 18,
      "outputs": [
        {
          "output_type": "stream",
          "text": [
            "10\n",
            "(20, 30)\n"
          ],
          "name": "stdout"
        }
      ]
    },
    {
      "cell_type": "code",
      "metadata": {
        "id": "14mfewRajAVt"
      },
      "source": [
        "print_numbers4(a, *args):"
      ],
      "execution_count": null,
      "outputs": []
    },
    {
      "cell_type": "markdown",
      "metadata": {
        "id": "1-R59mfUmUxN"
      },
      "source": [
        "## 30.2 키워드 인수\n",
        "\n",
        "- 위치와 관계없이 키워드가 같으니 결과값이 동일"
      ]
    },
    {
      "cell_type": "code",
      "metadata": {
        "id": "X2gf51O0mXxz"
      },
      "source": [
        "def personal_info(name, age, addr):\n",
        "  print('이름:', name)\n",
        "  print('나이:', age)\n",
        "  print('주소:', addr)"
      ],
      "execution_count": 19,
      "outputs": []
    },
    {
      "cell_type": "code",
      "metadata": {
        "colab": {
          "base_uri": "https://localhost:8080/"
        },
        "id": "WhLCgzZ2m0Rb",
        "outputId": "c71dc177-d8e6-4b35-fcd7-d34b78dff487"
      },
      "source": [
        "personal_info('홍길동',30,'서울 강남구')"
      ],
      "execution_count": 20,
      "outputs": [
        {
          "output_type": "stream",
          "text": [
            "이름: 홍길동\n",
            "나이: 30\n",
            "주소: 서울 강남구\n"
          ],
          "name": "stdout"
        }
      ]
    },
    {
      "cell_type": "code",
      "metadata": {
        "colab": {
          "base_uri": "https://localhost:8080/"
        },
        "id": "NLOQzxeCm5Mq",
        "outputId": "404faa12-7f29-4cab-e017-d406c6f0fc06"
      },
      "source": [
        "personal_info(age=30,addr='서울 강남구 도곡동',name='홍길동')"
      ],
      "execution_count": 21,
      "outputs": [
        {
          "output_type": "stream",
          "text": [
            "이름: 홍길동\n",
            "나이: 30\n",
            "주소: 서울 강남구 도곡동\n"
          ],
          "name": "stdout"
        }
      ]
    },
    {
      "cell_type": "markdown",
      "metadata": {
        "id": "5uWFHL_mnbam"
      },
      "source": [
        "## 30.3 키워드 인수와 딕셔너리 언패킹\n",
        "\n",
        "- 딕셔너리에 '키워드': 값 형식으로 인수를 저장하고, 앞에 **를 붙여서 함수에 넣어줍니다. 이때 딕셔너리의 키워드(키)는 반드시 문자열 형태라야 합니다.\n",
        "\n",
        "- 딕셔너리는  * * 처럼  * 를 두 번! 딕셔너리는 키-값 쌍 형태로 값이 저장되어 있기 때문"
      ]
    },
    {
      "cell_type": "code",
      "metadata": {
        "colab": {
          "base_uri": "https://localhost:8080/"
        },
        "id": "MhAWmNVinHnX",
        "outputId": "43f33fe6-048d-4657-d8af-12577c07fd6d"
      },
      "source": [
        "x = {'name':'홍길동', 'age':30, 'addr':'서울 강남구 도곡동'}\n",
        "personal_info(**x)"
      ],
      "execution_count": 29,
      "outputs": [
        {
          "output_type": "stream",
          "text": [
            "이름: 홍길동\n",
            "나이: 30\n",
            "주소: 서울 강남구 도곡동\n"
          ],
          "name": "stdout"
        }
      ]
    },
    {
      "cell_type": "markdown",
      "metadata": {
        "id": "j04S9Amjorz2"
      },
      "source": [
        "### 가변 키워드 인수\n",
        "\n",
        "- 관례적으로 keyword arguments를 줄여서 kwargs. for로 반복가능\n",
        "\n",
        "- def personal_info(**kwargs):\n",
        "-     for kw, arg in kwargs.items():\n",
        "-         print(kw, ': ', arg, sep='')"
      ]
    },
    {
      "cell_type": "code",
      "metadata": {
        "id": "JVB3urYyonMt"
      },
      "source": [
        "def personal_info2(**kwargs):\n",
        "  for key, value in kwargs.items():\n",
        "    print(f'{key}: {value}')"
      ],
      "execution_count": 30,
      "outputs": []
    },
    {
      "cell_type": "code",
      "metadata": {
        "colab": {
          "base_uri": "https://localhost:8080/"
        },
        "id": "VLt2IENUnwd9",
        "outputId": "0910d1ed-24e8-4346-ef64-740574d12d83"
      },
      "source": [
        "personal_info2(**x)"
      ],
      "execution_count": 31,
      "outputs": [
        {
          "output_type": "stream",
          "text": [
            "name: 홍길동\n",
            "age: 30\n",
            "addr: 서울 강남구 도곡동\n"
          ],
          "name": "stdout"
        }
      ]
    },
    {
      "cell_type": "code",
      "metadata": {
        "colab": {
          "base_uri": "https://localhost:8080/"
        },
        "id": "28vFUCvko-rQ",
        "outputId": "88a7e7bd-0ff4-499f-dbbd-3d4197156e6e"
      },
      "source": [
        "personal_info2(name='홍길동',age=30)"
      ],
      "execution_count": 33,
      "outputs": [
        {
          "output_type": "stream",
          "text": [
            "name: 홍길동\n",
            "age: 30\n"
          ],
          "name": "stdout"
        }
      ]
    },
    {
      "cell_type": "markdown",
      "metadata": {
        "id": "Dd917qTHprQe"
      },
      "source": [
        "### 고정 인수와 가변 키워드 인수\n",
        "\n",
        "- 고정 매개변수를 먼저 지정하고, 그 다음 매개변수에 **를 붙임.\n",
        "- def personal_info(name, **kwargs):"
      ]
    },
    {
      "cell_type": "code",
      "metadata": {
        "id": "bVp3tSHOpWJz"
      },
      "source": [
        "def personal_info3(name, **kwargs):\n",
        "  print(name)\n",
        "  print(kwargs)"
      ],
      "execution_count": 34,
      "outputs": []
    },
    {
      "cell_type": "code",
      "metadata": {
        "colab": {
          "base_uri": "https://localhost:8080/"
        },
        "id": "UGFY-revqBFu",
        "outputId": "bed82605-ccce-4c1f-dd64-f3491113d768"
      },
      "source": [
        "personal_info3(**x)"
      ],
      "execution_count": 35,
      "outputs": [
        {
          "output_type": "stream",
          "text": [
            "홍길동\n",
            "{'age': 30, 'addr': '서울 강남구 도곡동'}\n"
          ],
          "name": "stdout"
        }
      ]
    },
    {
      "cell_type": "markdown",
      "metadata": {
        "id": "t9uXdHkCqfTn"
      },
      "source": [
        "### 위치 인수와 키워드 인수"
      ]
    },
    {
      "cell_type": "code",
      "metadata": {
        "colab": {
          "base_uri": "https://localhost:8080/"
        },
        "id": "ZULl1m9YqD7g",
        "outputId": "a845de1f-fee8-483a-94b1-07d2aee6ce73"
      },
      "source": [
        "def my_print(*args, **kwargs):\n",
        "  print(*args,**kwargs)\n",
        "\n",
        "my_print(10,20,30, sep=', ')"
      ],
      "execution_count": 39,
      "outputs": [
        {
          "output_type": "stream",
          "text": [
            "10, 20, 30\n"
          ],
          "name": "stdout"
        }
      ]
    },
    {
      "cell_type": "markdown",
      "metadata": {
        "id": "tQTnDC95raWF"
      },
      "source": [
        "### 30.4 매개변수에 초기값 지정\n",
        "\n",
        "- 함수이름(매개변수=값):\n",
        "- 초기값이 지정된 매개변수는 맨 뒤에 위치."
      ]
    },
    {
      "cell_type": "code",
      "metadata": {
        "id": "hq6W7hGCqwxM"
      },
      "source": [
        "def personal_info4(name, age, addr='비공개'):\n",
        "     print('이름: ', name)\n",
        "     print('나이: ', age)\n",
        "     print('주소: ', addr)"
      ],
      "execution_count": 50,
      "outputs": []
    },
    {
      "cell_type": "code",
      "metadata": {
        "colab": {
          "base_uri": "https://localhost:8080/"
        },
        "id": "JasPhq7nrsAP",
        "outputId": "e1f147de-b119-4a4b-cab1-6804123f0760"
      },
      "source": [
        "personal_info4('홍길동',30)"
      ],
      "execution_count": 42,
      "outputs": [
        {
          "output_type": "stream",
          "text": [
            "이름:  홍길동\n",
            "나이:  30\n",
            "주소:  비공개\n"
          ],
          "name": "stdout"
        }
      ]
    },
    {
      "cell_type": "code",
      "metadata": {
        "colab": {
          "base_uri": "https://localhost:8080/"
        },
        "id": "-Nk9cjULrysK",
        "outputId": "7ce0fc72-5989-413a-d917-fc79b2cf85c8"
      },
      "source": [
        "personal_info4(**x)"
      ],
      "execution_count": 51,
      "outputs": [
        {
          "output_type": "stream",
          "text": [
            "이름:  홍길동\n",
            "나이:  30\n",
            "주소:  서울 강남구 도곡동\n"
          ],
          "name": "stdout"
        }
      ]
    },
    {
      "cell_type": "code",
      "metadata": {
        "id": "XsUNcsRWr4DL"
      },
      "source": [
        ""
      ],
      "execution_count": null,
      "outputs": []
    }
  ]
}