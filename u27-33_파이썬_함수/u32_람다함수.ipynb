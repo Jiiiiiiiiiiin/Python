{
  "nbformat": 4,
  "nbformat_minor": 0,
  "metadata": {
    "colab": {
      "name": "u32_람다함수.ipynb",
      "provenance": [],
      "collapsed_sections": []
    },
    "kernelspec": {
      "name": "python3",
      "display_name": "Python 3"
    },
    "language_info": {
      "name": "python"
    }
  },
  "cells": [
    {
      "cell_type": "markdown",
      "metadata": {
        "id": "gdCE5FsLg38B"
      },
      "source": [
        "# Unit 32. 람다 함수(람다 표현식, 익명 Anonymous 함수)"
      ]
    },
    {
      "cell_type": "markdown",
      "metadata": {
        "id": "e-mmFEi4hME4"
      },
      "source": [
        "## 32.1 람다 표현식으로 함수 만들기"
      ]
    },
    {
      "cell_type": "code",
      "metadata": {
        "id": "XZfawc0fXdwx"
      },
      "source": [
        "def plus_ten(x):\n",
        "  return x+10"
      ],
      "execution_count": 1,
      "outputs": []
    },
    {
      "cell_type": "code",
      "metadata": {
        "colab": {
          "base_uri": "https://localhost:8080/"
        },
        "id": "C4SlgthfhezH",
        "outputId": "aeca42da-d793-4254-96cd-cc718f7d827d"
      },
      "source": [
        "plus_ten(15)"
      ],
      "execution_count": 2,
      "outputs": [
        {
          "output_type": "execute_result",
          "data": {
            "text/plain": [
              "25"
            ]
          },
          "metadata": {
            "tags": []
          },
          "execution_count": 2
        }
      ]
    },
    {
      "cell_type": "code",
      "metadata": {
        "colab": {
          "base_uri": "https://localhost:8080/"
        },
        "id": "Rxe0WVVchqXD",
        "outputId": "4dbe7bd0-0c6d-474a-934e-ca369a66d226"
      },
      "source": [
        "plus_ten2 = lambda x: x+10\n",
        "plus_ten2(5)"
      ],
      "execution_count": 7,
      "outputs": [
        {
          "output_type": "execute_result",
          "data": {
            "text/plain": [
              "15"
            ]
          },
          "metadata": {
            "tags": []
          },
          "execution_count": 7
        }
      ]
    },
    {
      "cell_type": "code",
      "metadata": {
        "colab": {
          "base_uri": "https://localhost:8080/"
        },
        "id": "TBP-agbHiQ2i",
        "outputId": "382fd8c7-3185-4a94-c7e4-2529dcd196e9"
      },
      "source": [
        "(lambda x: x+10)(5)"
      ],
      "execution_count": 8,
      "outputs": [
        {
          "output_type": "execute_result",
          "data": {
            "text/plain": [
              "15"
            ]
          },
          "metadata": {
            "tags": []
          },
          "execution_count": 8
        }
      ]
    },
    {
      "cell_type": "code",
      "metadata": {
        "colab": {
          "base_uri": "https://localhost:8080/"
        },
        "id": "sk7tWxPHigQG",
        "outputId": "35ad5edd-b9ab-4a5c-b7bd-f823d76a7a20"
      },
      "source": [
        "# 사용 예\n",
        "map(lambda x: int(x)+10, input().split())"
      ],
      "execution_count": 9,
      "outputs": [
        {
          "output_type": "stream",
          "text": [
            "2 5 10\n"
          ],
          "name": "stdout"
        },
        {
          "output_type": "execute_result",
          "data": {
            "text/plain": [
              "<map at 0x7fb5a180e890>"
            ]
          },
          "metadata": {
            "tags": []
          },
          "execution_count": 9
        }
      ]
    },
    {
      "cell_type": "code",
      "metadata": {
        "colab": {
          "base_uri": "https://localhost:8080/"
        },
        "id": "V_NB4ZSwi8yd",
        "outputId": "295a2337-1b33-49ae-d7fb-f3d3618d90de"
      },
      "source": [
        "list(map(lambda x: int(x)+10, input().split()))"
      ],
      "execution_count": 10,
      "outputs": [
        {
          "output_type": "stream",
          "text": [
            "2 5 10\n"
          ],
          "name": "stdout"
        },
        {
          "output_type": "execute_result",
          "data": {
            "text/plain": [
              "[12, 15, 20]"
            ]
          },
          "metadata": {
            "tags": []
          },
          "execution_count": 10
        }
      ]
    },
    {
      "cell_type": "code",
      "metadata": {
        "colab": {
          "base_uri": "https://localhost:8080/"
        },
        "id": "muM9sLSqjAMn",
        "outputId": "5f65f492-f49d-45fb-8475-d4e7c3a90be3"
      },
      "source": [
        "def plus_ten(x):\n",
        "  return int(x)+10\n",
        "list(map(plus_ten, input().split()))"
      ],
      "execution_count": 12,
      "outputs": [
        {
          "output_type": "stream",
          "text": [
            "2 5 10\n"
          ],
          "name": "stdout"
        },
        {
          "output_type": "execute_result",
          "data": {
            "text/plain": [
              "[12, 15, 20]"
            ]
          },
          "metadata": {
            "tags": []
          },
          "execution_count": 12
        }
      ]
    },
    {
      "cell_type": "markdown",
      "metadata": {
        "id": "oHH7qm5Gj8Og"
      },
      "source": [
        "### 제약 사항\n",
        "\n",
        "- 람다함수에서 변수를 만들 수 없음 (lambda x: y=10; x+y)  -> y= 10 (lambda x:x+y)(3)"
      ]
    },
    {
      "cell_type": "code",
      "metadata": {
        "colab": {
          "base_uri": "https://localhost:8080/",
          "height": 138
        },
        "id": "L83y14JIjSbZ",
        "outputId": "c1a661b4-0763-40fa-b3f0-5d179b968e97"
      },
      "source": [
        "(lambda x: y=10; x+y)"
      ],
      "execution_count": 13,
      "outputs": [
        {
          "output_type": "error",
          "ename": "SyntaxError",
          "evalue": "ignored",
          "traceback": [
            "\u001b[0;36m  File \u001b[0;32m\"<ipython-input-13-2e5d4252b396>\"\u001b[0;36m, line \u001b[0;32m1\u001b[0m\n\u001b[0;31m    (lambda x: y=10; x+y)\u001b[0m\n\u001b[0m                ^\u001b[0m\n\u001b[0;31mSyntaxError\u001b[0m\u001b[0;31m:\u001b[0m invalid syntax\n"
          ]
        }
      ]
    },
    {
      "cell_type": "code",
      "metadata": {
        "colab": {
          "base_uri": "https://localhost:8080/"
        },
        "id": "w50dGUUzkR0D",
        "outputId": "c083a104-e86a-42e5-bb46-ac7385751a0f"
      },
      "source": [
        "y= 10 \n",
        "(lambda x:x+y)(3)"
      ],
      "execution_count": 14,
      "outputs": [
        {
          "output_type": "execute_result",
          "data": {
            "text/plain": [
              "13"
            ]
          },
          "metadata": {
            "tags": []
          },
          "execution_count": 14
        }
      ]
    },
    {
      "cell_type": "markdown",
      "metadata": {
        "id": "Fv2R8QxMksmw"
      },
      "source": [
        "### 32.2.1 람다함수에서 조건부 표현식 사용하기\n",
        "\n",
        "- 식1 if 조건식 else 식2"
      ]
    },
    {
      "cell_type": "code",
      "metadata": {
        "colab": {
          "base_uri": "https://localhost:8080/"
        },
        "id": "FEFbZA5GkT9v",
        "outputId": "deb15338-c279-470a-e733-a6a3b01c66ff"
      },
      "source": [
        "# 리스트 a에서 3의 배수를 문자열로 반환\n",
        "a = list(range(1,16))\n",
        "list(map(lambda x:str(x) if x%3==0 else x, a))   # 3항 연산자"
      ],
      "execution_count": 19,
      "outputs": [
        {
          "output_type": "execute_result",
          "data": {
            "text/plain": [
              "[1, 2, '3', 4, 5, '6', 7, 8, '9', 10, 11, '12', 13, 14, '15']"
            ]
          },
          "metadata": {
            "tags": []
          },
          "execution_count": 19
        }
      ]
    },
    {
      "cell_type": "code",
      "metadata": {
        "colab": {
          "base_uri": "https://localhost:8080/"
        },
        "id": "Kg2qw19Cla6M",
        "outputId": "759f5a75-4a9d-4308-fa5e-2eefd2444f1f"
      },
      "source": [
        "# 리스트 a에서 3의 배수는 문자열로, 5의 배수는 실수로 변환\n",
        "list(map(lambda x:str(x) if x%3==0 else float(x) if x%5==0 else x, a))"
      ],
      "execution_count": 20,
      "outputs": [
        {
          "output_type": "execute_result",
          "data": {
            "text/plain": [
              "[1, 2, '3', 4, 5.0, '6', 7, 8, '9', 10.0, 11, '12', 13, 14, '15']"
            ]
          },
          "metadata": {
            "tags": []
          },
          "execution_count": 20
        }
      ]
    },
    {
      "cell_type": "markdown",
      "metadata": {
        "id": "5Vp1ZsmAnyBw"
      },
      "source": [
        "### map에 여러개 객체 넣기\n",
        "\n",
        "- lmabda x, y : x *y"
      ]
    },
    {
      "cell_type": "code",
      "metadata": {
        "colab": {
          "base_uri": "https://localhost:8080/"
        },
        "id": "ShcHZ9-DmSZu",
        "outputId": "8a21cb41-be57-48a1-ae78-10b36f1f3b42"
      },
      "source": [
        "a = [1,2,3,4,5]\n",
        "b =[6,7,8,9,10]\n",
        "list(map(lambda x, y: x*y,a, b))"
      ],
      "execution_count": 21,
      "outputs": [
        {
          "output_type": "execute_result",
          "data": {
            "text/plain": [
              "[6, 14, 24, 36, 50]"
            ]
          },
          "metadata": {
            "tags": []
          },
          "execution_count": 21
        }
      ]
    },
    {
      "cell_type": "markdown",
      "metadata": {
        "id": "nIoJg5g_olkY"
      },
      "source": [
        "### filter\n",
        "\n",
        "- 범위 지정. "
      ]
    },
    {
      "cell_type": "code",
      "metadata": {
        "colab": {
          "base_uri": "https://localhost:8080/"
        },
        "id": "EqEaI0tRoIJS",
        "outputId": "6f7c9f2b-b373-42ce-b463-a90e9772a9f5"
      },
      "source": [
        "a = list(range(1,11))\n",
        "list(filter(lambda x:4 <= x < 8,a))"
      ],
      "execution_count": 22,
      "outputs": [
        {
          "output_type": "execute_result",
          "data": {
            "text/plain": [
              "[4, 5, 6, 7]"
            ]
          },
          "metadata": {
            "tags": []
          },
          "execution_count": 22
        }
      ]
    },
    {
      "cell_type": "code",
      "metadata": {
        "id": "3bkKPGqioxm-"
      },
      "source": [
        ""
      ],
      "execution_count": null,
      "outputs": []
    }
  ]
}