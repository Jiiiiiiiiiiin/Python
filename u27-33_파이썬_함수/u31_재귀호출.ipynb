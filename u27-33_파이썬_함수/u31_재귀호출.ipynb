{
  "nbformat": 4,
  "nbformat_minor": 0,
  "metadata": {
    "colab": {
      "name": "u31_재귀호출.ipynb",
      "provenance": [],
      "collapsed_sections": []
    },
    "kernelspec": {
      "name": "python3",
      "display_name": "Python 3"
    },
    "language_info": {
      "name": "python"
    }
  },
  "cells": [
    {
      "cell_type": "markdown",
      "metadata": {
        "id": "v8THCA1uuAnH"
      },
      "source": [
        "# Unit 31. 재귀호출 (Recursive call)\n",
        "\n",
        "- n! = n*(n-1)! 단 n=0일 경우 1\n",
        "- 0! = 1\n"
      ]
    },
    {
      "cell_type": "code",
      "metadata": {
        "id": "efwXHi3Xt9T1"
      },
      "source": [
        "def factorial(n):\n",
        "  if n==0:             # n==1:\n",
        "    return 1\n",
        "  return n*factorial(n-1)"
      ],
      "execution_count": 1,
      "outputs": []
    },
    {
      "cell_type": "code",
      "metadata": {
        "colab": {
          "base_uri": "https://localhost:8080/"
        },
        "id": "1MyI-rpGu0QW",
        "outputId": "edd3f9f7-7609-4ad7-bb31-8eee04266097"
      },
      "source": [
        "factorial(5)"
      ],
      "execution_count": 2,
      "outputs": [
        {
          "output_type": "execute_result",
          "data": {
            "text/plain": [
              "120"
            ]
          },
          "metadata": {
            "tags": []
          },
          "execution_count": 2
        }
      ]
    },
    {
      "cell_type": "code",
      "metadata": {
        "colab": {
          "base_uri": "https://localhost:8080/"
        },
        "id": "iDAcB4zrvNLY",
        "outputId": "88c3e221-43bc-445d-9fb2-0cdfdff8a8c3"
      },
      "source": [
        "# 피보나치 수열 함수로 만들기\n",
        "def fibo(n):\n",
        "  a=1\n",
        "  b=1\n",
        "  if n==1:\n",
        "    print('0')\n",
        "  elif n==2:\n",
        "    print('0', '1')\n",
        "  else:\n",
        "    print(1)\n",
        "    print(1)\n",
        "    for i in range(n-3):\n",
        "       total = a + b\n",
        "       b=a\n",
        "       a=total\n",
        "       print(total)\n",
        "\n",
        "fibo(15)\n",
        "\n"
      ],
      "execution_count": 32,
      "outputs": [
        {
          "output_type": "stream",
          "text": [
            "1\n",
            "1\n",
            "2\n",
            "3\n",
            "5\n",
            "8\n",
            "13\n",
            "21\n",
            "34\n",
            "55\n",
            "89\n",
            "144\n",
            "233\n",
            "377\n"
          ],
          "name": "stdout"
        }
      ]
    },
    {
      "cell_type": "code",
      "metadata": {
        "colab": {
          "base_uri": "https://localhost:8080/"
        },
        "id": "lzlRZkNMwnjK",
        "outputId": "7c9f9a06-b57d-4a47-da2c-6902fdb1a8b4"
      },
      "source": [
        "fibo(3)"
      ],
      "execution_count": 21,
      "outputs": [
        {
          "output_type": "execute_result",
          "data": {
            "text/plain": [
              "2"
            ]
          },
          "metadata": {
            "tags": []
          },
          "execution_count": 21
        }
      ]
    },
    {
      "cell_type": "code",
      "metadata": {
        "id": "QipyRs-nwuFV"
      },
      "source": [
        "def fibo(n):\n",
        "  if n ==1 or n==2:\n",
        "    return 1\n",
        "  return fibo(n-1) + fibo(n-2)\n"
      ],
      "execution_count": 33,
      "outputs": []
    },
    {
      "cell_type": "code",
      "metadata": {
        "colab": {
          "base_uri": "https://localhost:8080/"
        },
        "id": "_nIY9LgPxims",
        "outputId": "808afe81-0e40-41a9-c223-47006cf99820"
      },
      "source": [
        "[fibo(i) for i in range(1,11)]"
      ],
      "execution_count": 35,
      "outputs": [
        {
          "output_type": "execute_result",
          "data": {
            "text/plain": [
              "[1, 1, 2, 3, 5, 8, 13, 21, 34, 55]"
            ]
          },
          "metadata": {
            "tags": []
          },
          "execution_count": 35
        }
      ]
    },
    {
      "cell_type": "code",
      "metadata": {
        "id": "vLmXXaUt0uip"
      },
      "source": [
        ""
      ],
      "execution_count": null,
      "outputs": []
    }
  ]
}