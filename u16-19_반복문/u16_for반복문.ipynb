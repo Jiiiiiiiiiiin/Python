{
  "nbformat": 4,
  "nbformat_minor": 0,
  "metadata": {
    "colab": {
      "name": "u16_for반복문.ipynb",
      "provenance": [],
      "collapsed_sections": []
    },
    "kernelspec": {
      "name": "python3",
      "display_name": "Python 3"
    },
    "language_info": {
      "name": "python"
    }
  },
  "cells": [
    {
      "cell_type": "markdown",
      "metadata": {
        "id": "jXUE0NU1s8CK"
      },
      "source": [
        "# Unit 16. for 반복문"
      ]
    },
    {
      "cell_type": "markdown",
      "metadata": {
        "id": "D7le3veztjpI"
      },
      "source": [
        "## Unit 16.1 for와 range\n",
        "\n",
        "- C 언어에서 기원. for)i=0, i<10; i++) {\n",
        "  반복할 내용 \n",
        "  }\n",
        "- array, list 형태 - enhanced for loop\n",
        "\n",
        "  for element in list:\n",
        "   반복할 내용\n",
        "- 파이썬에선 두개 결합\n",
        "- for loop(반복문)은 반복 횟수가 정해져있을 때 사용. 그렇지 않은 경우는 file을 사용"
      ]
    },
    {
      "cell_type": "code",
      "metadata": {
        "colab": {
          "base_uri": "https://localhost:8080/"
        },
        "id": "YRxBa1oQsiaw",
        "outputId": "e7807ddd-9ec1-4ee3-bdf2-a473606bd13a"
      },
      "source": [
        "for i in range(10):\n",
        "  print('Hello, world!')"
      ],
      "execution_count": 1,
      "outputs": [
        {
          "output_type": "stream",
          "text": [
            "Hello, world!\n",
            "Hello, world!\n",
            "Hello, world!\n",
            "Hello, world!\n",
            "Hello, world!\n",
            "Hello, world!\n",
            "Hello, world!\n",
            "Hello, world!\n",
            "Hello, world!\n",
            "Hello, world!\n"
          ],
          "name": "stdout"
        }
      ]
    },
    {
      "cell_type": "code",
      "metadata": {
        "colab": {
          "base_uri": "https://localhost:8080/"
        },
        "id": "ImmK-cj6tdYk",
        "outputId": "0fc0655e-2f6c-4a5b-e844-96bfc7db3daf"
      },
      "source": [
        "for i in range(10):\n",
        "  print('Hello, world!',i)"
      ],
      "execution_count": 2,
      "outputs": [
        {
          "output_type": "stream",
          "text": [
            "Hello, world! 0\n",
            "Hello, world! 1\n",
            "Hello, world! 2\n",
            "Hello, world! 3\n",
            "Hello, world! 4\n",
            "Hello, world! 5\n",
            "Hello, world! 6\n",
            "Hello, world! 7\n",
            "Hello, world! 8\n",
            "Hello, world! 9\n"
          ],
          "name": "stdout"
        }
      ]
    },
    {
      "cell_type": "code",
      "metadata": {
        "colab": {
          "base_uri": "https://localhost:8080/"
        },
        "id": "AsAaDogFvOQH",
        "outputId": "5e833fb3-a7b4-4fc5-cef1-b09be64b7f1d"
      },
      "source": [
        "# _ 의 의미는 for loop에서 i 변수를 쓰지 않는다는 의미\n",
        "for _ in range(5):\n",
        "  print('Hello, world!')"
      ],
      "execution_count": 3,
      "outputs": [
        {
          "output_type": "stream",
          "text": [
            "Hello, world!\n",
            "Hello, world!\n",
            "Hello, world!\n",
            "Hello, world!\n",
            "Hello, world!\n"
          ],
          "name": "stdout"
        }
      ]
    },
    {
      "cell_type": "markdown",
      "metadata": {
        "id": "li_uCSICx6sh"
      },
      "source": [
        "## 16.2 for 와 range 응용"
      ]
    },
    {
      "cell_type": "code",
      "metadata": {
        "colab": {
          "base_uri": "https://localhost:8080/"
        },
        "id": "QRL2f3hByKGP",
        "outputId": "360befc8-605e-40be-b396-0fd91cb74384"
      },
      "source": [
        "for i in range(6, 10):\n",
        "  print('Hello, world!',i)"
      ],
      "execution_count": 4,
      "outputs": [
        {
          "output_type": "stream",
          "text": [
            "Hello, world! 6\n",
            "Hello, world! 7\n",
            "Hello, world! 8\n",
            "Hello, world! 9\n"
          ],
          "name": "stdout"
        }
      ]
    },
    {
      "cell_type": "code",
      "metadata": {
        "colab": {
          "base_uri": "https://localhost:8080/"
        },
        "id": "N6dwKzgiyMb3",
        "outputId": "95c5dc87-07f1-4544-eb3d-5d003eb8756e"
      },
      "source": [
        "for i in range(0,10,2):\n",
        "  print('Hello, world!',i)"
      ],
      "execution_count": 5,
      "outputs": [
        {
          "output_type": "stream",
          "text": [
            "Hello, world! 0\n",
            "Hello, world! 2\n",
            "Hello, world! 4\n",
            "Hello, world! 6\n",
            "Hello, world! 8\n"
          ],
          "name": "stdout"
        }
      ]
    },
    {
      "cell_type": "code",
      "metadata": {
        "colab": {
          "base_uri": "https://localhost:8080/"
        },
        "id": "2tkt8vc1ySRB",
        "outputId": "3ad49a87-555c-43e5-f83e-7446fb9fb84b"
      },
      "source": [
        "for i in range(10,0,-2):\n",
        "  print('Hello, world!',i)"
      ],
      "execution_count": 6,
      "outputs": [
        {
          "output_type": "stream",
          "text": [
            "Hello, world! 10\n",
            "Hello, world! 8\n",
            "Hello, world! 6\n",
            "Hello, world! 4\n",
            "Hello, world! 2\n"
          ],
          "name": "stdout"
        }
      ]
    },
    {
      "cell_type": "code",
      "metadata": {
        "id": "bC7BCsG1yWv8"
      },
      "source": [
        "# list 정리할 때 reversed를 이용. range는 잘 안쓴다"
      ],
      "execution_count": null,
      "outputs": []
    },
    {
      "cell_type": "code",
      "metadata": {
        "colab": {
          "base_uri": "https://localhost:8080/"
        },
        "id": "8CDCB2_oy3YR",
        "outputId": "ee0939e4-e7bb-406a-e2bf-5b3597d83bd4"
      },
      "source": [
        "for i in range(1,101):\n",
        "  print('FIzz'*(i%3==0) + 'Buzz'*(i%5==0) or i, end=' ')\n",
        "  if(i%10 == 0):\n",
        "    print()"
      ],
      "execution_count": 8,
      "outputs": [
        {
          "output_type": "stream",
          "text": [
            "1 2 FIzz 4 Buzz FIzz 7 8 FIzz Buzz \n",
            "11 FIzz 13 14 FIzzBuzz 16 17 FIzz 19 Buzz \n",
            "FIzz 22 23 FIzz Buzz 26 FIzz 28 29 FIzzBuzz \n",
            "31 32 FIzz 34 Buzz FIzz 37 38 FIzz Buzz \n",
            "41 FIzz 43 44 FIzzBuzz 46 47 FIzz 49 Buzz \n",
            "FIzz 52 53 FIzz Buzz 56 FIzz 58 59 FIzzBuzz \n",
            "61 62 FIzz 64 Buzz FIzz 67 68 FIzz Buzz \n",
            "71 FIzz 73 74 FIzzBuzz 76 77 FIzz 79 Buzz \n",
            "FIzz 82 83 FIzz Buzz 86 FIzz 88 89 FIzzBuzz \n",
            "91 92 FIzz 94 Buzz FIzz 97 98 FIzz Buzz \n"
          ],
          "name": "stdout"
        }
      ]
    },
    {
      "cell_type": "markdown",
      "metadata": {
        "id": "3FeSeBo0z3lx"
      },
      "source": [
        "## 16.3 시퀀스 객체로 반복"
      ]
    },
    {
      "cell_type": "code",
      "metadata": {
        "colab": {
          "base_uri": "https://localhost:8080/"
        },
        "id": "m1u0s-X8zSQ0",
        "outputId": "c14e7798-c31a-4b94-f75a-d359f5db617f"
      },
      "source": [
        "fruits = ['apple', 'banana', 'cherry']\n",
        "for element in fruits:\n",
        "  print(element)"
      ],
      "execution_count": 11,
      "outputs": [
        {
          "output_type": "stream",
          "text": [
            "apple\n",
            "banana\n",
            "cherry\n"
          ],
          "name": "stdout"
        }
      ]
    },
    {
      "cell_type": "code",
      "metadata": {
        "colab": {
          "base_uri": "https://localhost:8080/"
        },
        "id": "WXq_VUoE0Q8p",
        "outputId": "b9d78df4-77f2-4c3e-9d8e-b995410570cb"
      },
      "source": [
        "# 단수로 표현\n",
        "for fruit in fruits:\n",
        "  print(fruit)\n",
        "\n",
        "#list로 표현\n",
        "fruit_list = ['apple', 'banana', 'cherry']\n",
        "for fruit in fruit_list:\n",
        "  print(fruit)"
      ],
      "execution_count": 13,
      "outputs": [
        {
          "output_type": "stream",
          "text": [
            "apple\n",
            "banana\n",
            "cherry\n",
            "apple\n",
            "banana\n",
            "cherry\n"
          ],
          "name": "stdout"
        }
      ]
    },
    {
      "cell_type": "code",
      "metadata": {
        "colab": {
          "base_uri": "https://localhost:8080/"
        },
        "id": "e4FT-swM0jRG",
        "outputId": "ced6de28-747b-4867-e09a-d620053fe952"
      },
      "source": [
        "for letter in 'Python':\n",
        "  print(letter, end= ' ')"
      ],
      "execution_count": 16,
      "outputs": [
        {
          "output_type": "stream",
          "text": [
            "P y t h o n "
          ],
          "name": "stdout"
        }
      ]
    },
    {
      "cell_type": "code",
      "metadata": {
        "colab": {
          "base_uri": "https://localhost:8080/"
        },
        "id": "10k-UHJz2Zat",
        "outputId": "eaf2def7-c119-4fc2-8056-f1a980f161a3"
      },
      "source": [
        "for character in reversed('Python'):\n",
        "  print(character, end=' ')"
      ],
      "execution_count": 24,
      "outputs": [
        {
          "output_type": "stream",
          "text": [
            "n o h t y P "
          ],
          "name": "stdout"
        }
      ]
    },
    {
      "cell_type": "code",
      "metadata": {
        "colab": {
          "base_uri": "https://localhost:8080/"
        },
        "id": "vWsLBFQ92tND",
        "outputId": "3a9cf799-81ae-4185-8179-c1dacebc47c7"
      },
      "source": [
        "for number in (10, 20 ,30):\n",
        "  print(number)"
      ],
      "execution_count": 21,
      "outputs": [
        {
          "output_type": "stream",
          "text": [
            "10\n",
            "20\n",
            "30\n"
          ],
          "name": "stdout"
        }
      ]
    },
    {
      "cell_type": "markdown",
      "metadata": {
        "id": "Da7mHGsZ3i1c"
      },
      "source": [
        "### Perfect Number\n",
        "\n",
        "- 자기자신을 제외한 약수의 합이 자기자신과 같은 수\n",
        "- 6의 약수: 1, 2, 3, 6\n",
        "- 6 = 1 + 2 + 3\n",
        "- 10000 이하의 자연수 중에서는 4개"
      ]
    },
    {
      "cell_type": "code",
      "metadata": {
        "colab": {
          "base_uri": "https://localhost:8080/"
        },
        "id": "K9XHEkdC3Bay",
        "outputId": "d4bb5e90-80be-4f46-e340-3d18cb9134bd"
      },
      "source": [
        "for i in range(2,10001):\n",
        "  sum_of_divisor = 0\n",
        "  for k in range(1, i):\n",
        "    if i % k == 0:\n",
        "      sum_of_divisor += k\n",
        "\n",
        "  if i == sum_of_divisor:\n",
        "    print(i)"
      ],
      "execution_count": 26,
      "outputs": [
        {
          "output_type": "stream",
          "text": [
            "6\n",
            "28\n",
            "496\n",
            "8128\n"
          ],
          "name": "stdout"
        }
      ]
    },
    {
      "cell_type": "code",
      "metadata": {
        "colab": {
          "base_uri": "https://localhost:8080/"
        },
        "id": "oC1sP21b4wPN",
        "outputId": "73a728c5-70a7-4d81-d97b-a0bc9266ffa4"
      },
      "source": [
        "perfect_numbers = []\n",
        "for i in range(2,10001):\n",
        "  divisor_list = []\n",
        "  for k in range(1, i):\n",
        "    if i % k == 0:\n",
        "      divisor_list.append(k)\n",
        "\n",
        "  if i == sum(divisor_list):\n",
        "    perfect_numbers.append(i)\n",
        "\n",
        "print(perfect_numbers)"
      ],
      "execution_count": 31,
      "outputs": [
        {
          "output_type": "stream",
          "text": [
            "[6, 28, 496, 8128]\n"
          ],
          "name": "stdout"
        }
      ]
    },
    {
      "cell_type": "code",
      "metadata": {
        "id": "O4k03xMq9Y02"
      },
      "source": [
        ""
      ],
      "execution_count": 31,
      "outputs": []
    }
  ]
}