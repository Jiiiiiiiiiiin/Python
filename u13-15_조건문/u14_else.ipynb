{
  "nbformat": 4,
  "nbformat_minor": 0,
  "metadata": {
    "colab": {
      "name": "u14_else.ipynb",
      "provenance": [],
      "collapsed_sections": []
    },
    "kernelspec": {
      "name": "python3",
      "display_name": "Python 3"
    },
    "language_info": {
      "name": "python"
    }
  },
  "cells": [
    {
      "cell_type": "markdown",
      "metadata": {
        "id": "_dsRgojzl4QK"
      },
      "source": [
        "# Unit 14. else"
      ]
    },
    {
      "cell_type": "code",
      "metadata": {
        "colab": {
          "base_uri": "https://localhost:8080/"
        },
        "id": "Vr50t6yKlwr2",
        "outputId": "deb5c2f2-03de-4937-ff20-c8fa820fbe80"
      },
      "source": [
        "x = 5\n",
        "\n",
        "if x == 10:                         \n",
        "  print('10 입니다.')\n",
        "else:\n",
        "  print('It is not 10')"
      ],
      "execution_count": null,
      "outputs": [
        {
          "output_type": "stream",
          "text": [
            "It is not 10\n"
          ],
          "name": "stdout"
        }
      ]
    },
    {
      "cell_type": "markdown",
      "metadata": {
        "id": "-XzryPDvmxkf"
      },
      "source": [
        "### 3항 연산자\n",
        "\n",
        "- Java or Javascript a = (조건) ? 참일때의 값 : 거짓일때의 값\n",
        "- Python a = 참일때의 값 of 조건 else 거짓일때의 값"
      ]
    },
    {
      "cell_type": "code",
      "metadata": {
        "colab": {
          "base_uri": "https://localhost:8080/",
          "height": 35
        },
        "id": "BWuFl3aqmbAs",
        "outputId": "73a82430-a6a9-4d58-d3fc-d871a10c94d9"
      },
      "source": [
        "x = 1\n",
        "if x % 2 == 0:\n",
        "  y = 'even'\n",
        "else:\n",
        "  y = 'odd'\n",
        "y"
      ],
      "execution_count": null,
      "outputs": [
        {
          "output_type": "execute_result",
          "data": {
            "application/vnd.google.colaboratory.intrinsic+json": {
              "type": "string"
            },
            "text/plain": [
              "'odd'"
            ]
          },
          "metadata": {
            "tags": []
          },
          "execution_count": 6
        }
      ]
    },
    {
      "cell_type": "code",
      "metadata": {
        "colab": {
          "base_uri": "https://localhost:8080/",
          "height": 35
        },
        "id": "VC2tjNrmnA31",
        "outputId": "fa2f4bde-0fda-4d5e-a20d-f96dd8131439"
      },
      "source": [
        "y = 'even' if x%2 == 0 else 'odd'\n",
        "y"
      ],
      "execution_count": null,
      "outputs": [
        {
          "output_type": "execute_result",
          "data": {
            "application/vnd.google.colaboratory.intrinsic+json": {
              "type": "string"
            },
            "text/plain": [
              "'odd'"
            ]
          },
          "metadata": {
            "tags": []
          },
          "execution_count": 8
        }
      ]
    },
    {
      "cell_type": "code",
      "metadata": {
        "colab": {
          "base_uri": "https://localhost:8080/"
        },
        "id": "MZndqq2BnN_3",
        "outputId": "8edd8baa-9625-4fd4-f48f-7ae5279f8feb"
      },
      "source": [
        "# 90점 이상이면 'A', 80 ~ 89: B, 70~79: C, 60 ~ 69: D, ~59: F\n",
        "score = int(input('점수 입력> '))\n",
        "if score >= 90: \n",
        "  grade = 'A'\n",
        "else:\n",
        "  if score >= 80 : \n",
        "      grade = 'B'\n",
        "  else:\n",
        "    if score >= 70: \n",
        "        grade = 'C'\n",
        "    else:\n",
        "      if  score >= 60: \n",
        "            grade = 'D'\n",
        "      else:\n",
        "            grade = 'F'\n",
        "print(grade)"
      ],
      "execution_count": null,
      "outputs": [
        {
          "output_type": "stream",
          "text": [
            "점수 입력> 88\n",
            "B\n"
          ],
          "name": "stdout"
        }
      ]
    },
    {
      "cell_type": "code",
      "metadata": {
        "colab": {
          "base_uri": "https://localhost:8080/",
          "height": 35
        },
        "id": "SQd3WgX0olSl",
        "outputId": "2163f81f-d807-43cc-ada9-d80afdfc93ac"
      },
      "source": [
        "grade = 'A' if score >= 90 else \\\n",
        "            'B' if score >= 80 else \\\n",
        "                'C' if score >= 70 else \\\n",
        "                    'D' if score >= 60 else 'F'\n",
        "grade\n"
      ],
      "execution_count": null,
      "outputs": [
        {
          "output_type": "execute_result",
          "data": {
            "application/vnd.google.colaboratory.intrinsic+json": {
              "type": "string"
            },
            "text/plain": [
              "'B'"
            ]
          },
          "metadata": {
            "tags": []
          },
          "execution_count": 18
        }
      ]
    },
    {
      "cell_type": "markdown",
      "metadata": {
        "id": "fJIWbF7huleo"
      },
      "source": [
        "### 조건식에서의 논리연산자"
      ]
    },
    {
      "cell_type": "code",
      "metadata": {
        "colab": {
          "base_uri": "https://localhost:8080/"
        },
        "id": "4fvQrkQ6q5kc",
        "outputId": "1920714f-698c-449f-ee54-687caede0a15"
      },
      "source": [
        "x = 5\n",
        "if x > 0 and x < 10:\n",
        "  print('10보다 작은 양의 정수입니다.')"
      ],
      "execution_count": null,
      "outputs": [
        {
          "output_type": "stream",
          "text": [
            "10보다 작은 양의 정수입니다.\n"
          ],
          "name": "stdout"
        }
      ]
    },
    {
      "cell_type": "code",
      "metadata": {
        "colab": {
          "base_uri": "https://localhost:8080/"
        },
        "id": "IbhRnkLku1a7",
        "outputId": "79cfef53-3c67-4044-f948-9ba56e52d43b"
      },
      "source": [
        "if 0 < x < 10:\n",
        "  print('10보다 작은 양의 정수입니다.')"
      ],
      "execution_count": null,
      "outputs": [
        {
          "output_type": "stream",
          "text": [
            "10보다 작은 양의 정수입니다.\n"
          ],
          "name": "stdout"
        }
      ]
    },
    {
      "cell_type": "code",
      "metadata": {
        "id": "6OthXjtYu6le"
      },
      "source": [
        ""
      ],
      "execution_count": null,
      "outputs": []
    }
  ]
}