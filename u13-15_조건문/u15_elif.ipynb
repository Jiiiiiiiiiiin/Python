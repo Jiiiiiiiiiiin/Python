{
  "nbformat": 4,
  "nbformat_minor": 0,
  "metadata": {
    "colab": {
      "name": "u15_elif.ipynb",
      "provenance": [],
      "collapsed_sections": []
    },
    "kernelspec": {
      "name": "python3",
      "display_name": "Python 3"
    },
    "language_info": {
      "name": "python"
    }
  },
  "cells": [
    {
      "cell_type": "markdown",
      "metadata": {
        "id": "sDmHcqaAn-2f"
      },
      "source": [
        "# Unit 15. elif"
      ]
    },
    {
      "cell_type": "code",
      "metadata": {
        "colab": {
          "base_uri": "https://localhost:8080/"
        },
        "id": "JQ59fqc6n0jY",
        "outputId": "a9d7c331-6abd-49a1-cb08-9dc230bb61cb"
      },
      "source": [
        "x = 15\n",
        "if x == 10:\n",
        "  print('It is 10.')\n",
        "elif x == 20:\n",
        "  print('It is 20.')\n",
        "else:\n",
        "  print('10, 20이 아닙니다')\n",
        "\n",
        "  print(10 % 5)"
      ],
      "execution_count": 6,
      "outputs": [
        {
          "output_type": "stream",
          "text": [
            "10, 20이 아닙니다\n",
            "0\n"
          ],
          "name": "stdout"
        }
      ]
    },
    {
      "cell_type": "code",
      "metadata": {
        "colab": {
          "base_uri": "https://localhost:8080/"
        },
        "id": "bhxsJyHWoo8h",
        "outputId": "93c351c3-dfc3-432a-dcd3-75c915028377"
      },
      "source": [
        "# 숫자 - 입력받으면, 3의 배수면 fizz 출력, 5의 배수면 buzz 출력, 15의 배수면 Fizzbuzz 출력\n",
        "\n",
        "x = int(input())\n",
        "if x % 15 == 0:\n",
        "  print('Fizzbuzz')\n",
        "elif x % 5 == 0:\n",
        "  print('Buzz')\n",
        "elif x % 3 == 0:\n",
        "  print('Fizz')\n",
        "else:\n",
        "  print(x)"
      ],
      "execution_count": 16,
      "outputs": [
        {
          "output_type": "stream",
          "text": [
            "30\n",
            "Fizzbuzz\n"
          ],
          "name": "stdout"
        }
      ]
    },
    {
      "cell_type": "code",
      "metadata": {
        "colab": {
          "base_uri": "https://localhost:8080/"
        },
        "id": "B3Cf-ryLqYWs",
        "outputId": "dd242be3-92a0-4243-9dab-2a44da38c00b"
      },
      "source": [
        "'Fizz'*False, 'Buzz'*True"
      ],
      "execution_count": 10,
      "outputs": [
        {
          "output_type": "execute_result",
          "data": {
            "text/plain": [
              "('', 'Buzz')"
            ]
          },
          "metadata": {
            "tags": []
          },
          "execution_count": 10
        }
      ]
    },
    {
      "cell_type": "code",
      "metadata": {
        "colab": {
          "base_uri": "https://localhost:8080/"
        },
        "id": "HdCou-lRq8C4",
        "outputId": "46b59554-b20b-493a-b99e-857df404346a"
      },
      "source": [
        "print('Fizz'*(x%3==0) + 'Buzz'*(x%5==0) or x)"
      ],
      "execution_count": 17,
      "outputs": [
        {
          "output_type": "stream",
          "text": [
            "FizzBuzz\n"
          ],
          "name": "stdout"
        }
      ]
    }
  ]
}