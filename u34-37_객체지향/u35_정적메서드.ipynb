{
  "nbformat": 4,
  "nbformat_minor": 0,
  "metadata": {
    "colab": {
      "name": "u35_정적메서드.ipynb",
      "provenance": [],
      "collapsed_sections": []
    },
    "kernelspec": {
      "name": "python3",
      "display_name": "Python 3"
    },
    "language_info": {
      "name": "python"
    }
  },
  "cells": [
    {
      "cell_type": "markdown",
      "metadata": {
        "id": "jPDPoTuzBQv9"
      },
      "source": [
        "# Unit 35. 정적 메서드\n",
        "\n",
        "- 인스턴스 없이 사용할 수 있는 클래스"
      ]
    },
    {
      "cell_type": "code",
      "metadata": {
        "id": "rSiOD4YFBNtT"
      },
      "source": [
        "class Calc:\n",
        "  @staticmethod\n",
        "  def add(a, b):\n",
        "    print(a + b)"
      ],
      "execution_count": 1,
      "outputs": []
    },
    {
      "cell_type": "code",
      "metadata": {
        "colab": {
          "base_uri": "https://localhost:8080/"
        },
        "id": "S7T5FnX3BdhA",
        "outputId": "646b993a-a7c7-48c1-f113-e6c05f8f0de5"
      },
      "source": [
        "Calc.add(10,20)"
      ],
      "execution_count": 2,
      "outputs": [
        {
          "output_type": "stream",
          "text": [
            "30\n"
          ],
          "name": "stdout"
        }
      ]
    },
    {
      "cell_type": "code",
      "metadata": {
        "id": "AyqDWzmkBfK-"
      },
      "source": [
        ""
      ],
      "execution_count": null,
      "outputs": []
    }
  ]
}