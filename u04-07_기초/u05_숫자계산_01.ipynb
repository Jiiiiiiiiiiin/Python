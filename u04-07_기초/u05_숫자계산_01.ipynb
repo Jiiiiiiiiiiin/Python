{
  "nbformat": 4,
  "nbformat_minor": 0,
  "metadata": {
    "colab": {
      "name": "u05_숫자계산.ipynb",
      "provenance": [],
      "collapsed_sections": [],
      "toc_visible": true
    },
    "kernelspec": {
      "name": "python3",
      "display_name": "Python 3"
    },
    "language_info": {
      "name": "python"
    }
  },
  "cells": [
    {
      "cell_type": "markdown",
      "metadata": {
        "id": "0BJ13dNKpA75"
      },
      "source": [
        "# Unit 5. 숫자 계산하기"
      ]
    },
    {
      "cell_type": "markdown",
      "metadata": {
        "id": "FnP7_MDLqmFP"
      },
      "source": [
        "## 5.1 정수"
      ]
    },
    {
      "cell_type": "code",
      "metadata": {
        "colab": {
          "base_uri": "https://localhost:8080/"
        },
        "id": "_-BgL57CpGLU",
        "outputId": "b9122d6c-cc40-41cb-f3d3-e442e84fc9b6"
      },
      "source": [
        "# 4칙 연산, +, -, *, /, %, //\n",
        "5 / 2"
      ],
      "execution_count": 2,
      "outputs": [
        {
          "output_type": "execute_result",
          "data": {
            "text/plain": [
              "2.5"
            ]
          },
          "metadata": {
            "tags": []
          },
          "execution_count": 2
        }
      ]
    },
    {
      "cell_type": "code",
      "metadata": {
        "colab": {
          "base_uri": "https://localhost:8080/"
        },
        "id": "7UxFNyc_q4u9",
        "outputId": "e4f301e6-1f93-4cf1-906c-237c6413b792"
      },
      "source": [
        "# % - modulo, 나머지\n",
        "5 % 2"
      ],
      "execution_count": 3,
      "outputs": [
        {
          "output_type": "execute_result",
          "data": {
            "text/plain": [
              "1"
            ]
          },
          "metadata": {
            "tags": []
          },
          "execution_count": 3
        }
      ]
    },
    {
      "cell_type": "code",
      "metadata": {
        "colab": {
          "base_uri": "https://localhost:8080/"
        },
        "id": "U3F16tUsq7HS",
        "outputId": "011b20f5-a65e-4db0-f5bb-cf29484d9168"
      },
      "source": [
        "# // - 몫\n",
        "5 // 2"
      ],
      "execution_count": 4,
      "outputs": [
        {
          "output_type": "execute_result",
          "data": {
            "text/plain": [
              "2"
            ]
          },
          "metadata": {
            "tags": []
          },
          "execution_count": 4
        }
      ]
    },
    {
      "cell_type": "code",
      "metadata": {
        "colab": {
          "base_uri": "https://localhost:8080/"
        },
        "id": "MaPF8NfCt5Wf",
        "outputId": "48eeffb5-7b32-4c40-c3d1-99a2c939ea48"
      },
      "source": [
        "7 % 3"
      ],
      "execution_count": 5,
      "outputs": [
        {
          "output_type": "execute_result",
          "data": {
            "text/plain": [
              "1"
            ]
          },
          "metadata": {
            "tags": []
          },
          "execution_count": 5
        }
      ]
    },
    {
      "cell_type": "code",
      "metadata": {
        "colab": {
          "base_uri": "https://localhost:8080/"
        },
        "id": "CxDG_4IFuJU8",
        "outputId": "b659b60a-da59-48b5-9e13-69a9eee651ff"
      },
      "source": [
        "# 3의 배수 - 어떤 숫자를 3으로 무듈로 연산을 했을때 결과가 0\n",
        "6 % 3"
      ],
      "execution_count": 6,
      "outputs": [
        {
          "output_type": "execute_result",
          "data": {
            "text/plain": [
              "0"
            ]
          },
          "metadata": {
            "tags": []
          },
          "execution_count": 6
        }
      ]
    },
    {
      "cell_type": "code",
      "metadata": {
        "colab": {
          "base_uri": "https://localhost:8080/"
        },
        "id": "aJ64eo-duwLs",
        "outputId": "82d8fe37-6edc-4109-cb78-3ea375d68680"
      },
      "source": [
        "# 거듭 제곱\n",
        "2 ** 10\n"
      ],
      "execution_count": 7,
      "outputs": [
        {
          "output_type": "execute_result",
          "data": {
            "text/plain": [
              "1024"
            ]
          },
          "metadata": {
            "tags": []
          },
          "execution_count": 7
        }
      ]
    },
    {
      "cell_type": "markdown",
      "metadata": {
        "id": "Fkc6kWazu5H_"
      },
      "source": [
        "### 값을 정수(integer)로 변환"
      ]
    },
    {
      "cell_type": "code",
      "metadata": {
        "colab": {
          "base_uri": "https://localhost:8080/"
        },
        "id": "OPFEW5wQuzfx",
        "outputId": "69203d08-3ef0-4e76-ed3d-73281b2034cd"
      },
      "source": [
        "int(3.14)"
      ],
      "execution_count": 8,
      "outputs": [
        {
          "output_type": "execute_result",
          "data": {
            "text/plain": [
              "3"
            ]
          },
          "metadata": {
            "tags": []
          },
          "execution_count": 8
        }
      ]
    },
    {
      "cell_type": "code",
      "metadata": {
        "colab": {
          "base_uri": "https://localhost:8080/"
        },
        "id": "QiPxEA0zvHlt",
        "outputId": "49eb4022-d8b8-4a6a-a8e7-9d4bebf7b58b"
      },
      "source": [
        "int(5 / 2)\n"
      ],
      "execution_count": 10,
      "outputs": [
        {
          "output_type": "execute_result",
          "data": {
            "text/plain": [
              "2"
            ]
          },
          "metadata": {
            "tags": []
          },
          "execution_count": 10
        }
      ]
    },
    {
      "cell_type": "code",
      "metadata": {
        "colab": {
          "base_uri": "https://localhost:8080/"
        },
        "id": "fDuos03mvP7H",
        "outputId": "5ac0d1a3-48c6-46bd-833d-f860d36a660b"
      },
      "source": [
        "# 'single quote', \"double quote\" 는 문자열.\n",
        "int('55')"
      ],
      "execution_count": 11,
      "outputs": [
        {
          "output_type": "execute_result",
          "data": {
            "text/plain": [
              "55"
            ]
          },
          "metadata": {
            "tags": []
          },
          "execution_count": 11
        }
      ]
    },
    {
      "cell_type": "code",
      "metadata": {
        "colab": {
          "base_uri": "https://localhost:8080/"
        },
        "id": "Srn8M2ekvXZ0",
        "outputId": "22bcec94-6efa-45c5-c1a5-b29782089393"
      },
      "source": [
        "string = '55'\n",
        "value = int(string)\n",
        "string, value"
      ],
      "execution_count": 12,
      "outputs": [
        {
          "output_type": "execute_result",
          "data": {
            "text/plain": [
              "('55', 55)"
            ]
          },
          "metadata": {
            "tags": []
          },
          "execution_count": 12
        }
      ]
    },
    {
      "cell_type": "code",
      "metadata": {
        "colab": {
          "base_uri": "https://localhost:8080/"
        },
        "id": "g1bHWR44wDtp",
        "outputId": "c317f7bf-8de2-402a-a7a1-b8c1b6934c71"
      },
      "source": [
        "#string 문자형, value 정수형\n",
        "type(string), type(value), type(3.14)"
      ],
      "execution_count": 15,
      "outputs": [
        {
          "output_type": "execute_result",
          "data": {
            "text/plain": [
              "(str, int, float)"
            ]
          },
          "metadata": {
            "tags": []
          },
          "execution_count": 15
        }
      ]
    },
    {
      "cell_type": "code",
      "metadata": {
        "colab": {
          "base_uri": "https://localhost:8080/"
        },
        "id": "yTSU8v86wUuC",
        "outputId": "9e62e279-51c3-419b-d75b-e95b9bbc67a3"
      },
      "source": [
        "# 몫과 나머지를 동시에 계산 divmod(5, 2)\n",
        "q, r = 5 // 2, 5 % 2\n",
        "q, r"
      ],
      "execution_count": 16,
      "outputs": [
        {
          "output_type": "execute_result",
          "data": {
            "text/plain": [
              "(2, 1)"
            ]
          },
          "metadata": {
            "tags": []
          },
          "execution_count": 16
        }
      ]
    },
    {
      "cell_type": "markdown",
      "metadata": {
        "id": "NNEr8dPYx4PN"
      },
      "source": [
        "### 진수"
      ]
    },
    {
      "cell_type": "code",
      "metadata": {
        "colab": {
          "base_uri": "https://localhost:8080/"
        },
        "id": "Dx3HbuaIxdVT",
        "outputId": "5248bde7-5d77-406d-c776-9b0431921e9c"
      },
      "source": [
        "# 2진수, 8진수, 16진수\n",
        "0b101, 0o5, 0x5\n",
        "0b110, 0o10, 0xF"
      ],
      "execution_count": 18,
      "outputs": [
        {
          "output_type": "execute_result",
          "data": {
            "text/plain": [
              "(6, 8, 15)"
            ]
          },
          "metadata": {
            "tags": []
          },
          "execution_count": 18
        }
      ]
    },
    {
      "cell_type": "code",
      "metadata": {
        "colab": {
          "base_uri": "https://localhost:8080/"
        },
        "id": "0eu-y9VxyLbt",
        "outputId": "d7b61fe4-72e0-40ec-e648-0fa7630eb92e"
      },
      "source": [
        "0xa6"
      ],
      "execution_count": 19,
      "outputs": [
        {
          "output_type": "execute_result",
          "data": {
            "text/plain": [
              "166"
            ]
          },
          "metadata": {
            "tags": []
          },
          "execution_count": 19
        }
      ]
    },
    {
      "cell_type": "code",
      "metadata": {
        "id": "phf46qFezQmq"
      },
      "source": [
        "# 16진수에 다른 표현\n",
        "# red - 0xff0000, green - 0x00ff00, blue - 0x0000ff\n",
        "# #ffffff 흰색, #888888 회색, #444444 연한회색"
      ],
      "execution_count": 20,
      "outputs": []
    },
    {
      "cell_type": "markdown",
      "metadata": {
        "id": "y8URZ34NzsRE"
      },
      "source": [
        "## 5.2 실수"
      ]
    },
    {
      "cell_type": "code",
      "metadata": {
        "colab": {
          "base_uri": "https://localhost:8080/"
        },
        "id": "JmQoltZnzvNb",
        "outputId": "4b2febc1-574a-4adb-d810-c228910d525c"
      },
      "source": [
        "3.5 + 2.1"
      ],
      "execution_count": 21,
      "outputs": [
        {
          "output_type": "execute_result",
          "data": {
            "text/plain": [
              "5.6"
            ]
          },
          "metadata": {
            "tags": []
          },
          "execution_count": 21
        }
      ]
    },
    {
      "cell_type": "code",
      "metadata": {
        "colab": {
          "base_uri": "https://localhost:8080/"
        },
        "id": "qjJtmJwqzxQS",
        "outputId": "8e1ddc9f-efea-4ac0-95dc-10e22092611f"
      },
      "source": [
        "4.3 - 2.7"
      ],
      "execution_count": 22,
      "outputs": [
        {
          "output_type": "execute_result",
          "data": {
            "text/plain": [
              "1.5999999999999996"
            ]
          },
          "metadata": {
            "tags": []
          },
          "execution_count": 22
        }
      ]
    },
    {
      "cell_type": "code",
      "metadata": {
        "colab": {
          "base_uri": "https://localhost:8080/"
        },
        "id": "txh6h9ywzyfZ",
        "outputId": "36d445b1-0fee-4de7-f81b-b4d8db954745"
      },
      "source": [
        "4.3 - 2.7 == 1.6"
      ],
      "execution_count": 23,
      "outputs": [
        {
          "output_type": "execute_result",
          "data": {
            "text/plain": [
              "False"
            ]
          },
          "metadata": {
            "tags": []
          },
          "execution_count": 23
        }
      ]
    },
    {
      "cell_type": "code",
      "metadata": {
        "colab": {
          "base_uri": "https://localhost:8080/"
        },
        "id": "0iCQN1qo0fI1",
        "outputId": "52b58a51-4eb8-48a5-c180-0ef548617ad7"
      },
      "source": [
        "import numpy as np\n",
        "np.abs((4.3-2.7) - 1.6) < 1e-10"
      ],
      "execution_count": 24,
      "outputs": [
        {
          "output_type": "execute_result",
          "data": {
            "text/plain": [
              "True"
            ]
          },
          "metadata": {
            "tags": []
          },
          "execution_count": 24
        }
      ]
    },
    {
      "cell_type": "code",
      "metadata": {
        "colab": {
          "base_uri": "https://localhost:8080/"
        },
        "id": "y2AA4XtL04zl",
        "outputId": "616d9cf5-49cd-4025-c634-eb0784b987b0"
      },
      "source": [
        "4.2 + 5"
      ],
      "execution_count": 25,
      "outputs": [
        {
          "output_type": "execute_result",
          "data": {
            "text/plain": [
              "9.2"
            ]
          },
          "metadata": {
            "tags": []
          },
          "execution_count": 25
        }
      ]
    },
    {
      "cell_type": "code",
      "metadata": {
        "colab": {
          "base_uri": "https://localhost:8080/"
        },
        "id": "4A9T0U0A2PoD",
        "outputId": "df077c6f-ec91-4281-c7fd-0ba039fe1b82"
      },
      "source": [
        "4.2 + float('5')"
      ],
      "execution_count": 26,
      "outputs": [
        {
          "output_type": "execute_result",
          "data": {
            "text/plain": [
              "9.2"
            ]
          },
          "metadata": {
            "tags": []
          },
          "execution_count": 26
        }
      ]
    },
    {
      "cell_type": "code",
      "metadata": {
        "id": "x0RnujW52Sv1"
      },
      "source": [
        ""
      ],
      "execution_count": null,
      "outputs": []
    }
  ]
}