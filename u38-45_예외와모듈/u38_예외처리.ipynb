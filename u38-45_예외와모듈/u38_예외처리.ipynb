{
  "nbformat": 4,
  "nbformat_minor": 0,
  "metadata": {
    "colab": {
      "name": "u38_예외처리.ipynb",
      "provenance": [],
      "collapsed_sections": []
    },
    "kernelspec": {
      "name": "python3",
      "display_name": "Python 3"
    },
    "language_info": {
      "name": "python"
    }
  },
  "cells": [
    {
      "cell_type": "code",
      "metadata": {
        "colab": {
          "base_uri": "https://localhost:8080/"
        },
        "id": "7M6svFs5gYlk",
        "outputId": "f56f1aa7-aae5-4e50-8219-38458a4df774"
      },
      "source": [
        "# u32 심사문제 풀이\n",
        "\n",
        "files = input().split()\n",
        "list(map(lambda x: f\"{int(x.split('.')[0]):03d}.{x.split('.')[1]}\", files))          #f스트링 앞에 return이 생략됨."
      ],
      "execution_count": 4,
      "outputs": [
        {
          "output_type": "stream",
          "text": [
            "1.png 2.pgih\n"
          ],
          "name": "stdout"
        },
        {
          "output_type": "execute_result",
          "data": {
            "text/plain": [
              "['001.png', '002.pgih']"
            ]
          },
          "metadata": {
            "tags": []
          },
          "execution_count": 4
        }
      ]
    },
    {
      "cell_type": "markdown",
      "metadata": {
        "id": "FnfK8AzSsuwK"
      },
      "source": [
        "# Unit 38 예외처리"
      ]
    },
    {
      "cell_type": "markdown",
      "metadata": {
        "id": "2a1KEyiutNKp"
      },
      "source": [
        "## 38.1 try-except\n",
        "\n",
        "- try:\n",
        "    실행할 코드\n",
        "except:\n",
        "    예외가 발생했을 때 처리하는 코드\n",
        "- ZeroDivisionError, AttributeError, NameError, TypeError 등 다양한 에러들도 모두 예외\n",
        "- try안에서 만든 변수는 전역변수로 밖에서도 쓸 수 있음"
      ]
    },
    {
      "cell_type": "code",
      "metadata": {
        "colab": {
          "base_uri": "https://localhost:8080/",
          "height": 191
        },
        "id": "TUqDXQmVowyy",
        "outputId": "a9f46cba-f5dd-48b6-d0d3-71c9f1adcbea"
      },
      "source": [
        "a=[1,2,3]\n",
        "a[3]"
      ],
      "execution_count": 8,
      "outputs": [
        {
          "output_type": "error",
          "ename": "IndexError",
          "evalue": "ignored",
          "traceback": [
            "\u001b[0;31m---------------------------------------------------------------------------\u001b[0m",
            "\u001b[0;31mIndexError\u001b[0m                                Traceback (most recent call last)",
            "\u001b[0;32m<ipython-input-8-663846eeaec3>\u001b[0m in \u001b[0;36m<module>\u001b[0;34m()\u001b[0m\n\u001b[1;32m      1\u001b[0m \u001b[0ma\u001b[0m\u001b[0;34m=\u001b[0m\u001b[0;34m[\u001b[0m\u001b[0;36m1\u001b[0m\u001b[0;34m,\u001b[0m\u001b[0;36m2\u001b[0m\u001b[0;34m,\u001b[0m\u001b[0;36m3\u001b[0m\u001b[0;34m]\u001b[0m\u001b[0;34m\u001b[0m\u001b[0;34m\u001b[0m\u001b[0m\n\u001b[0;32m----> 2\u001b[0;31m \u001b[0ma\u001b[0m\u001b[0;34m[\u001b[0m\u001b[0;36m3\u001b[0m\u001b[0;34m]\u001b[0m\u001b[0;34m\u001b[0m\u001b[0;34m\u001b[0m\u001b[0m\n\u001b[0m",
            "\u001b[0;31mIndexError\u001b[0m: list index out of range"
          ]
        }
      ]
    },
    {
      "cell_type": "code",
      "metadata": {
        "colab": {
          "base_uri": "https://localhost:8080/"
        },
        "id": "Jay4ZMz5spJD",
        "outputId": "7e2bc1d4-48ed-4445-d803-7a4abbccec36"
      },
      "source": [
        "try:\n",
        "  a[3]\n",
        "except:\n",
        "  print('예외 발생')"
      ],
      "execution_count": 10,
      "outputs": [
        {
          "output_type": "stream",
          "text": [
            "예외 발생\n"
          ],
          "name": "stdout"
        }
      ]
    },
    {
      "cell_type": "code",
      "metadata": {
        "colab": {
          "base_uri": "https://localhost:8080/",
          "height": 173
        },
        "id": "u8TVBCXdvnJZ",
        "outputId": "3e147d4b-9250-4092-a995-f25aaf7c8620"
      },
      "source": [
        "int('10d')"
      ],
      "execution_count": 11,
      "outputs": [
        {
          "output_type": "error",
          "ename": "ValueError",
          "evalue": "ignored",
          "traceback": [
            "\u001b[0;31m---------------------------------------------------------------------------\u001b[0m",
            "\u001b[0;31mValueError\u001b[0m                                Traceback (most recent call last)",
            "\u001b[0;32m<ipython-input-11-331fb23f7ae1>\u001b[0m in \u001b[0;36m<module>\u001b[0;34m()\u001b[0m\n\u001b[0;32m----> 1\u001b[0;31m \u001b[0mint\u001b[0m\u001b[0;34m(\u001b[0m\u001b[0;34m'10d'\u001b[0m\u001b[0;34m)\u001b[0m\u001b[0;34m\u001b[0m\u001b[0;34m\u001b[0m\u001b[0m\n\u001b[0m",
            "\u001b[0;31mValueError\u001b[0m: invalid literal for int() with base 10: '10d'"
          ]
        }
      ]
    },
    {
      "cell_type": "markdown",
      "metadata": {
        "id": "u92NbDh1wo3j"
      },
      "source": [
        "### 특정 예외만 처리하기"
      ]
    },
    {
      "cell_type": "code",
      "metadata": {
        "colab": {
          "base_uri": "https://localhost:8080/",
          "height": 245
        },
        "id": "-YbE1t0Tvm0a",
        "outputId": "2bc94a76-d9a3-4a11-89f2-dfe159aa0f06"
      },
      "source": [
        "try:\n",
        "  int('10d')\n",
        "except ZeroDivisionError:\n",
        "  print('0으로 나눌 수 없습니다.')\n",
        "except IndexError:\n",
        "  print('Index Error 발생')"
      ],
      "execution_count": 13,
      "outputs": [
        {
          "output_type": "error",
          "ename": "ValueError",
          "evalue": "ignored",
          "traceback": [
            "\u001b[0;31m---------------------------------------------------------------------------\u001b[0m",
            "\u001b[0;31mValueError\u001b[0m                                Traceback (most recent call last)",
            "\u001b[0;32m<ipython-input-13-c92cb66f8f31>\u001b[0m in \u001b[0;36m<module>\u001b[0;34m()\u001b[0m\n\u001b[1;32m      1\u001b[0m \u001b[0;32mtry\u001b[0m\u001b[0;34m:\u001b[0m\u001b[0;34m\u001b[0m\u001b[0;34m\u001b[0m\u001b[0m\n\u001b[0;32m----> 2\u001b[0;31m   \u001b[0mint\u001b[0m\u001b[0;34m(\u001b[0m\u001b[0;34m'10d'\u001b[0m\u001b[0;34m)\u001b[0m\u001b[0;34m\u001b[0m\u001b[0;34m\u001b[0m\u001b[0m\n\u001b[0m\u001b[1;32m      3\u001b[0m \u001b[0;32mexcept\u001b[0m \u001b[0mZeroDivisionError\u001b[0m\u001b[0;34m:\u001b[0m\u001b[0;34m\u001b[0m\u001b[0;34m\u001b[0m\u001b[0m\n\u001b[1;32m      4\u001b[0m   \u001b[0mprint\u001b[0m\u001b[0;34m(\u001b[0m\u001b[0;34m'0으로 나눌 수 없습니다.'\u001b[0m\u001b[0;34m)\u001b[0m\u001b[0;34m\u001b[0m\u001b[0;34m\u001b[0m\u001b[0m\n\u001b[1;32m      5\u001b[0m \u001b[0;32mexcept\u001b[0m \u001b[0mIndexError\u001b[0m\u001b[0;34m:\u001b[0m\u001b[0;34m\u001b[0m\u001b[0;34m\u001b[0m\u001b[0m\n",
            "\u001b[0;31mValueError\u001b[0m: invalid literal for int() with base 10: '10d'"
          ]
        }
      ]
    },
    {
      "cell_type": "code",
      "metadata": {
        "colab": {
          "base_uri": "https://localhost:8080/"
        },
        "id": "tu6q8Mk9vy2H",
        "outputId": "ecce8246-4239-4073-8d5e-1ecae569ff48"
      },
      "source": [
        "try:\n",
        "  int('10d')\n",
        "except ZeroDivisionError:\n",
        "  print('0으로 나눌 수 없습니다.')\n",
        "except IndexError:\n",
        "  print('Index Error 발생')\n",
        "except ValueError:\n",
        "  print('Value Error 발생')"
      ],
      "execution_count": 14,
      "outputs": [
        {
          "output_type": "stream",
          "text": [
            "Value Error 발생\n"
          ],
          "name": "stdout"
        }
      ]
    },
    {
      "cell_type": "markdown",
      "metadata": {
        "id": "lpI0QYrrw-dz"
      },
      "source": [
        "### 예외의 에러 메시지 받아오기"
      ]
    },
    {
      "cell_type": "code",
      "metadata": {
        "colab": {
          "base_uri": "https://localhost:8080/"
        },
        "id": "kzBZAhx8wIIk",
        "outputId": "f1c848d2-4432-4edf-9183-bde997882d3d"
      },
      "source": [
        "#너무 자세히 나누지말고 상위객체인 Exception으로 에러정의\n",
        "#alias(별칭) __ as _\n",
        "\n",
        "try:\n",
        "  int('10d')\n",
        "except Exception as e:          # alias\n",
        "  print(e)                      # Exception 객체의 __str__() method"
      ],
      "execution_count": 15,
      "outputs": [
        {
          "output_type": "stream",
          "text": [
            "invalid literal for int() with base 10: '10d'\n"
          ],
          "name": "stdout"
        }
      ]
    },
    {
      "cell_type": "markdown",
      "metadata": {
        "id": "2cQBtzr4xivT"
      },
      "source": [
        "## 38.2 else-finally\n",
        "\n",
        "- try:\n",
        "    실행할 코드\n",
        "except:\n",
        "    예외가 발생했을 때 처리하는 코드\n",
        "else:\n",
        "    예외가 발생하지 않았을 때 실행할 코드"
      ]
    },
    {
      "cell_type": "code",
      "metadata": {
        "colab": {
          "base_uri": "https://localhost:8080/"
        },
        "id": "kgU203xxxiEe",
        "outputId": "fd297d96-6a12-41bd-a39e-1f2b9fcbdfc4"
      },
      "source": [
        "try:\n",
        "  x = int(input('나눌 숫자 입력> '))\n",
        "  y = 10 / x\n",
        "except Exception as e:\n",
        "  print(e)\n",
        "else:\n",
        "  print(y)"
      ],
      "execution_count": 20,
      "outputs": [
        {
          "output_type": "stream",
          "text": [
            "나눌 숫자 입력> 0\n",
            "division by zero\n"
          ],
          "name": "stdout"
        }
      ]
    },
    {
      "cell_type": "markdown",
      "metadata": {
        "id": "xGt_cRXu2MBz"
      },
      "source": [
        "### 예외와 상관없이 항상 코드 실행\n",
        "\n",
        "- 에러 발생여부와 상관없이 항상 실행 finally\n",
        "- try -> 예외발생  -> except -> finally\n",
        "- try -> 예외발생X -> else   -> finally"
      ]
    },
    {
      "cell_type": "code",
      "metadata": {
        "colab": {
          "base_uri": "https://localhost:8080/"
        },
        "id": "MlAgvqC22PLW",
        "outputId": "14f21b08-a169-4780-a948-1bd77df63410"
      },
      "source": [
        "try:\n",
        "  x = int(input('나눌 숫자 입력> '))\n",
        "  y = 10 / x                                #try안에서 만든 변수는 전역변수로 밖에서도 쓸 수 있음\n",
        "except Exception as e:\n",
        "  print(e)\n",
        "else:\n",
        "  print(y)\n",
        "finally:\n",
        "  print('코드 실행 종료')"
      ],
      "execution_count": 23,
      "outputs": [
        {
          "output_type": "stream",
          "text": [
            "나눌 숫자 입력> sd\n",
            "invalid literal for int() with base 10: 'sd'\n",
            "코드 실행 종료\n"
          ],
          "name": "stdout"
        }
      ]
    },
    {
      "cell_type": "code",
      "metadata": {
        "id": "hyDaG17w2ivz"
      },
      "source": [
        "with open(f) as file:\n",
        "  key = file.read()            #여기서 key도 전역변수\n"
      ],
      "execution_count": null,
      "outputs": []
    },
    {
      "cell_type": "markdown",
      "metadata": {
        "id": "nFv80jr33YKU"
      },
      "source": [
        "## 38.3 예외 발생시키기\n",
        "\n",
        "\n",
        "- raise 예외('에러메시지'). exception을 인용해서 프로그래밍 가능\n"
      ]
    },
    {
      "cell_type": "code",
      "metadata": {
        "colab": {
          "base_uri": "https://localhost:8080/"
        },
        "id": "5dC0xHUd3cBe",
        "outputId": "74e35774-869e-46a7-8e93-70d11160e624"
      },
      "source": [
        "import random\n",
        "try:\n",
        "  x = random.randint(1,10)\n",
        "  print(x)\n",
        "  if x % 3 != 0:\n",
        "    raise Exception('3의 배수가 아닙니다.')\n",
        "except Exception as e:\n",
        "  print('예외 발생', e)"
      ],
      "execution_count": 27,
      "outputs": [
        {
          "output_type": "stream",
          "text": [
            "7\n",
            "예외 발생 3의 배수가 아닙니다.\n"
          ],
          "name": "stdout"
        }
      ]
    },
    {
      "cell_type": "code",
      "metadata": {
        "id": "IH-0zZRR5GfG"
      },
      "source": [
        "def multiple11(x):\n",
        "  if x % 11 != 0:\n",
        "    raise Exception('11의 배수가 아닙니다.')\n",
        "  print(x)"
      ],
      "execution_count": 29,
      "outputs": []
    },
    {
      "cell_type": "code",
      "metadata": {
        "colab": {
          "base_uri": "https://localhost:8080/"
        },
        "id": "0c-MMUEN6NkO",
        "outputId": "b66d5a54-dc78-413f-ac3f-ee4e7fba0480"
      },
      "source": [
        "try:\n",
        "  multiple11(100)\n",
        "except Exception as e:\n",
        "  print('예외 발생 -',e)"
      ],
      "execution_count": 30,
      "outputs": [
        {
          "output_type": "stream",
          "text": [
            "예외 발생 - 11의 배수가 아닙니다.\n"
          ],
          "name": "stdout"
        }
      ]
    },
    {
      "cell_type": "code",
      "metadata": {
        "id": "vnx5F0K56bGV"
      },
      "source": [
        "for():\n",
        "  for():\n",
        "    for():\n",
        "      if 조건:\n",
        "        raise Exception()          #loop을 완전 탈출\n",
        "except:\n",
        "  ;"
      ],
      "execution_count": null,
      "outputs": []
    },
    {
      "cell_type": "code",
      "metadata": {
        "id": "MEUTibx679w-"
      },
      "source": [
        "# Exception은 객체를 상속받아 객체를 만들면 된다."
      ],
      "execution_count": null,
      "outputs": []
    }
  ]
}