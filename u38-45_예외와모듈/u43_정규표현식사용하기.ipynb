{
  "nbformat": 4,
  "nbformat_minor": 0,
  "metadata": {
    "colab": {
      "name": "u43_정규표현식사용하기.ipynb",
      "provenance": [],
      "collapsed_sections": []
    },
    "kernelspec": {
      "name": "python3",
      "display_name": "Python 3"
    },
    "language_info": {
      "name": "python"
    }
  },
  "cells": [
    {
      "cell_type": "markdown",
      "metadata": {
        "id": "Y4dYP4td8alP"
      },
      "source": [
        "# Unit 43. 정규표현식 사용하기\n",
        "\n",
        "- 어떤 패턴을 추출하는 것\n",
        "\n"
      ]
    },
    {
      "cell_type": "markdown",
      "metadata": {
        "id": "g1tfNeyk_V5A"
      },
      "source": [
        "## 43.1 문자열 판단\n",
        "\n",
        "\n",
        "- re.match('패턴','문자열') regular expression\n",
        "- ^ 은 [] 안에서는 not의 의미\n",
        "- ^ 은 시작하는 의미\n",
        "- match는 시작하는 것이 같은지 찾음\n",
        "- search는 텍스트 전체에 대해 찾음"
      ]
    },
    {
      "cell_type": "code",
      "metadata": {
        "colab": {
          "base_uri": "https://localhost:8080/"
        },
        "id": "LPodt_Z18SJC",
        "outputId": "ee06e838-9737-4235-e73e-9edea3ce93f1"
      },
      "source": [
        "# 문자열 판단\n",
        "\n",
        "import re\n",
        "re.match('Hello', 'Hello, world!')   #패턴, 문자열"
      ],
      "execution_count": 1,
      "outputs": [
        {
          "output_type": "execute_result",
          "data": {
            "text/plain": [
              "<re.Match object; span=(0, 5), match='Hello'>"
            ]
          },
          "metadata": {
            "tags": []
          },
          "execution_count": 1
        }
      ]
    },
    {
      "cell_type": "code",
      "metadata": {
        "colab": {
          "base_uri": "https://localhost:8080/"
        },
        "id": "_mRodLAd_d-1",
        "outputId": "74cdcba7-8b3c-4583-dea0-b4ace83ea13a"
      },
      "source": [
        "z = re.match('Hello','Hello, world!')\n",
        "if z:\n",
        "  print('Found!!')\n",
        "else:\n",
        "  print('Not found.')"
      ],
      "execution_count": 2,
      "outputs": [
        {
          "output_type": "stream",
          "text": [
            "Found!!\n"
          ],
          "name": "stdout"
        }
      ]
    },
    {
      "cell_type": "code",
      "metadata": {
        "colab": {
          "base_uri": "https://localhost:8080/"
        },
        "id": "6Vyz_4sOC_uq",
        "outputId": "0f909350-5661-4a08-fb19-cef471fc99a9"
      },
      "source": [
        "# match() 문장의 처음에서 찾음\n",
        "\n",
        "if re.match('world','Hello, world!'):\n",
        "  print('Found!!')\n",
        "else:\n",
        "  print('Not found.')"
      ],
      "execution_count": 3,
      "outputs": [
        {
          "output_type": "stream",
          "text": [
            "Not found.\n"
          ],
          "name": "stdout"
        }
      ]
    },
    {
      "cell_type": "code",
      "metadata": {
        "colab": {
          "base_uri": "https://localhost:8080/"
        },
        "id": "L0knc-hWDawp",
        "outputId": "864343d5-2a0c-4532-d9b4-533ea004d85c"
      },
      "source": [
        "# search() 모든 문장에서 찾음\n",
        "\n",
        "if re.search('world','Hello, world!'):\n",
        "  print('Found!!')\n",
        "else:\n",
        "  print('Not found.')"
      ],
      "execution_count": 4,
      "outputs": [
        {
          "output_type": "stream",
          "text": [
            "Found!!\n"
          ],
          "name": "stdout"
        }
      ]
    },
    {
      "cell_type": "markdown",
      "metadata": {
        "id": "rDIGnYf7Dp7h"
      },
      "source": [
        "## 43.2 범위 판단\n",
        "\n",
        "-  '[ ]' 안에 숫자 범위를 넣으며 * 또는 +를 붙입니다. 숫자 범위는 0-9처럼 표현하며 *는 문자(숫자)가 0개 이상 있는지, +는 1개 이상 있는지 판단\n",
        "\n",
        "- 문자 갯수 :  문자열을 괄호로 묶고 뒤에 {개수} 형식을 지정. h{3}은 h가 3개 있는지 판단"
      ]
    },
    {
      "cell_type": "code",
      "metadata": {
        "colab": {
          "base_uri": "https://localhost:8080/"
        },
        "id": "zPsDm1aTEDMs",
        "outputId": "8b27070f-a9a7-4d27-c344-f991858f4965"
      },
      "source": [
        "# 휴대전화 변호형식\n",
        "pattern = '01[0-9]-[0-9]{4}-[0-9]{4}'\n",
        "text = '010-1234-5678'\n",
        "if re.match(pattern, text):\n",
        "  print('올바른 휴대전화번호')\n",
        "else:\n",
        "  print('잘못된 휴대전화번호')"
      ],
      "execution_count": 7,
      "outputs": [
        {
          "output_type": "stream",
          "text": [
            "올바른 휴대전화번호\n"
          ],
          "name": "stdout"
        }
      ]
    },
    {
      "cell_type": "code",
      "metadata": {
        "colab": {
          "base_uri": "https://localhost:8080/"
        },
        "id": "m-qdbtQ3EscJ",
        "outputId": "8c4dd25d-6f3d-4e6b-e975-56678abc7a29"
      },
      "source": [
        "# 한글 패턴\n",
        "hangul = '[ㄱ-ㅎㅏ-ㅣ가-힣]+'\n",
        "text ='홍길동'\n",
        "if re.search(hangul, text):\n",
        "  print('한글이 있음')\n",
        "else:\n",
        "  print('한글이 없음')"
      ],
      "execution_count": 10,
      "outputs": [
        {
          "output_type": "stream",
          "text": [
            "한글이 있음\n"
          ],
          "name": "stdout"
        }
      ]
    },
    {
      "cell_type": "markdown",
      "metadata": {
        "id": "3o99sjc6JzoU"
      },
      "source": [
        "### 이메일 주소 검사하기\n",
        "\n",
        "-import re\n",
        " \n",
        "p = re.compile(                                                  )"
      ]
    },
    {
      "cell_type": "code",
      "metadata": {
        "id": "HVF5zXPHJ4AL"
      },
      "source": [
        "# p = re.compile('^[0-9a-zA-Z]([-_.]?[0-9a-zA-Z])*@[0-9a-zA-Z]([-_.]?[0-9a-zA-Z])*.[a-zA-Z]{2,3}$')\n",
        "p = re.compile('^[a-zA-Z0-9+-_.]+@[a-zA-Z0-9-]+\\.[a-zA-Z0-9-.]+$')"
      ],
      "execution_count": 30,
      "outputs": []
    },
    {
      "cell_type": "code",
      "metadata": {
        "id": "OpAoRqSFKWJL"
      },
      "source": [
        "emails= ['python@mail.example.com', 'python+kr@example.com',              # 올바른 형식\n",
        "          'python-dojang@example.co.kr', 'python_10@example.info',         # 올바른 형식\n",
        "          'python.dojang@e-xample.com',                                    # 올바른 형식\n",
        "          '@example.com', 'python@example', 'python@example-com']"
      ],
      "execution_count": 31,
      "outputs": []
    },
    {
      "cell_type": "code",
      "metadata": {
        "colab": {
          "base_uri": "https://localhost:8080/"
        },
        "id": "4Kip5cr0KZqj",
        "outputId": "8bd2f6c3-a912-4a19-d463-ebef3f5f2387"
      },
      "source": [
        "for email in emails:\n",
        "  print(p.match(email) != None, end=' ')"
      ],
      "execution_count": 32,
      "outputs": [
        {
          "output_type": "stream",
          "text": [
            "True True True True True False False False "
          ],
          "name": "stdout"
        }
      ]
    },
    {
      "cell_type": "markdown",
      "metadata": {
        "id": "yzXCfNWVGK6t"
      },
      "source": [
        "## 43.4 문자열 바꾸기\n",
        "\n",
        "- re.sub('패턴', '바꿀문자열', '문자열', 바꿀횟수)"
      ]
    },
    {
      "cell_type": "code",
      "metadata": {
        "colab": {
          "base_uri": "https://localhost:8080/",
          "height": 35
        },
        "id": "eok-HKymFoyB",
        "outputId": "b116f978-e522-4dff-b349-9927b6eaf55f"
      },
      "source": [
        "# re.sub('패턴','바꿀 문자열', '대상이 되는 문자열')\n",
        "re.sub('appleo|orange','fruit','apple box orange tree')    # |는 or의 의미"
      ],
      "execution_count": 11,
      "outputs": [
        {
          "output_type": "execute_result",
          "data": {
            "application/vnd.google.colaboratory.intrinsic+json": {
              "type": "string"
            },
            "text/plain": [
              "'apple box fruit tree'"
            ]
          },
          "metadata": {
            "tags": []
          },
          "execution_count": 11
        }
      ]
    },
    {
      "cell_type": "code",
      "metadata": {
        "colab": {
          "base_uri": "https://localhost:8080/",
          "height": 35
        },
        "id": "syih6OfOGrTR",
        "outputId": "ba7db28b-0359-4a8e-fae7-75338f23b98a"
      },
      "source": [
        "re.sub('[0-9]+', 'n', '1 2 Fizz 4 Buzz Fizz 7 8 Fizz Buzz 11 12')"
      ],
      "execution_count": 13,
      "outputs": [
        {
          "output_type": "execute_result",
          "data": {
            "application/vnd.google.colaboratory.intrinsic+json": {
              "type": "string"
            },
            "text/plain": [
              "'n n Fizz n Buzz Fizz n n Fizz Buzz n n'"
            ]
          },
          "metadata": {
            "tags": []
          },
          "execution_count": 13
        }
      ]
    },
    {
      "cell_type": "code",
      "metadata": {
        "colab": {
          "base_uri": "https://localhost:8080/",
          "height": 35
        },
        "id": "A0Sa2DzGHBW6",
        "outputId": "a81caa8e-431d-4fc2-b991-cd943298673b"
      },
      "source": [
        "re.sub('[0-9]', 'n', '1 2 Fizz 4 Buzz Fizz 7 8 Fizz Buzz 11 12')"
      ],
      "execution_count": 14,
      "outputs": [
        {
          "output_type": "execute_result",
          "data": {
            "application/vnd.google.colaboratory.intrinsic+json": {
              "type": "string"
            },
            "text/plain": [
              "'n n Fizz n Buzz Fizz n n Fizz Buzz nn nn'"
            ]
          },
          "metadata": {
            "tags": []
          },
          "execution_count": 14
        }
      ]
    },
    {
      "cell_type": "code",
      "metadata": {
        "id": "y7DYv9-0HYIh"
      },
      "source": [
        "text='''\n",
        "가장 단순한 형태의 원자는 리터럴(literal)이지만 원자를 일치시키기 위해 패턴을\n",
        "묶을 때에는 메타문자로서 ()를 사용해야 한다. 메타문자는 원자 외에도 얼마나 많은\n",
        "원자가 있는지 가리키는 수량자, 선택적인 대안을 가리키는 논리적 OR 문자,\n",
        "그리고 원자의 존재를 부정하는 NOT 문자, 그리고 전에 일치된 원자를 참조할 수 있게 하는\n",
        "역참조를 만드는 것을 도와준다\n",
        "'''"
      ],
      "execution_count": 25,
      "outputs": []
    },
    {
      "cell_type": "code",
      "metadata": {
        "colab": {
          "base_uri": "https://localhost:8080/",
          "height": 89
        },
        "id": "3Xe2engjHuO6",
        "outputId": "ef3f7ef2-3b5c-4bc3-be50-d67cc3a9d350"
      },
      "source": [
        "not_hangul_blank = '[^ㄱ-ㅎㅏ-ㅣ가-힣 ]'\n",
        "text = re.sub(not_hangul_blank, '', text)\n",
        "text"
      ],
      "execution_count": 26,
      "outputs": [
        {
          "output_type": "execute_result",
          "data": {
            "application/vnd.google.colaboratory.intrinsic+json": {
              "type": "string"
            },
            "text/plain": [
              "'가장 단순한 형태의 원자는 리터럴이지만 원자를 일치시키기 위해 패턴을묶을 때에는 메타문자로서 를 사용해야 한다 메타문자는 원자 외에도 얼마나 많은원자가 있는지 가리키는 수량자 선택적인 대안을 가리키는 논리적  문자그리고 원자의 존재를 부정하는  문자 그리고 전에 일치된 원자를 참조할 수 있게 하는역참조를 만드는 것을 도와준다'"
            ]
          },
          "metadata": {
            "tags": []
          },
          "execution_count": 26
        }
      ]
    },
    {
      "cell_type": "code",
      "metadata": {
        "colab": {
          "base_uri": "https://localhost:8080/",
          "height": 35
        },
        "id": "rAUKr25OJMU1",
        "outputId": "7349f6f4-4ce8-467a-d755-3f03e453e1e7"
      },
      "source": [
        "text = '에밀리블러트 사랑해,, 사라유ㅠ 4dx로 보면'\n",
        "text = re.sub(not_hangul_blank, '', text)\n",
        "text"
      ],
      "execution_count": 23,
      "outputs": [
        {
          "output_type": "execute_result",
          "data": {
            "application/vnd.google.colaboratory.intrinsic+json": {
              "type": "string"
            },
            "text/plain": [
              "'에밀리블러트 사랑해 사라유ㅠ 로 보면'"
            ]
          },
          "metadata": {
            "tags": []
          },
          "execution_count": 23
        }
      ]
    }
  ]
}