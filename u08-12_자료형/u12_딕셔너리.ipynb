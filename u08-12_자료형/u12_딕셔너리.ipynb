{
  "nbformat": 4,
  "nbformat_minor": 0,
  "metadata": {
    "colab": {
      "name": "u12_딕셔너리.ipynb",
      "provenance": [],
      "collapsed_sections": []
    },
    "kernelspec": {
      "name": "python3",
      "display_name": "Python 3"
    },
    "language_info": {
      "name": "python"
    }
  },
  "cells": [
    {
      "cell_type": "markdown",
      "metadata": {
        "id": "U_iRZFKlRhaD"
      },
      "source": [
        "# Unit 12. 딕셔너리(Dictionary)"
      ]
    },
    {
      "cell_type": "code",
      "metadata": {
        "colab": {
          "base_uri": "https://localhost:8080/"
        },
        "id": "u2_ntGYCRbO3",
        "outputId": "ecacacb6-a0b9-4442-8b7b-5c18f3f89c33"
      },
      "source": [
        "lux = [ 490, 334, 550, 18.72]\n",
        "lux"
      ],
      "execution_count": 1,
      "outputs": [
        {
          "output_type": "execute_result",
          "data": {
            "text/plain": [
              "[490, 334, 550, 18.72]"
            ]
          },
          "metadata": {
            "tags": []
          },
          "execution_count": 1
        }
      ]
    },
    {
      "cell_type": "code",
      "metadata": {
        "colab": {
          "base_uri": "https://localhost:8080/"
        },
        "id": "IJQ0g0qbSCbR",
        "outputId": "1a697b1e-2f80-4b90-b755-9d9d0c785af6"
      },
      "source": [
        "lux = {\n",
        "      'health' : 499,   #체력\n",
        "       'mana' : 334,    #마력\n",
        "       'melee' : 550,   #사거리\n",
        "       'armor' : 18.72  #방어력\n",
        "}\n",
        "lux"
      ],
      "execution_count": 2,
      "outputs": [
        {
          "output_type": "execute_result",
          "data": {
            "text/plain": [
              "{'armor': 18.72, 'health': 499, 'mana': 334, 'melee': 550}"
            ]
          },
          "metadata": {
            "tags": []
          },
          "execution_count": 2
        }
      ]
    },
    {
      "cell_type": "markdown",
      "metadata": {
        "id": "Jl0uOLUGSqkX"
      },
      "source": [
        "## 12.1 딕셔너리 생성\n",
        "\n",
        "- { key : value, key2 : value2 }\n",
        "- key가 중복되면 나중에 입력한 값이 나옴\n"
      ]
    },
    {
      "cell_type": "code",
      "metadata": {
        "colab": {
          "base_uri": "https://localhost:8080/"
        },
        "id": "-g6BKyKoSlb_",
        "outputId": "6c8eea39-dc66-465b-9d97-7d38299a80c0"
      },
      "source": [
        "lux = {'health' : 499, 'mana' : 334, 'melee' : 550, 'health' : 18.72}\n",
        "lux"
      ],
      "execution_count": 4,
      "outputs": [
        {
          "output_type": "execute_result",
          "data": {
            "text/plain": [
              "{'health': 18.72, 'mana': 334, 'melee': 550}"
            ]
          },
          "metadata": {
            "tags": []
          },
          "execution_count": 4
        }
      ]
    },
    {
      "cell_type": "code",
      "metadata": {
        "colab": {
          "base_uri": "https://localhost:8080/"
        },
        "id": "PVjE6dFITs3G",
        "outputId": "ae96b8c8-a2b4-4fc0-e0fb-a349e220b0da"
      },
      "source": [
        "a = {}\n",
        "b = dict()\n",
        "a, b\n"
      ],
      "execution_count": 8,
      "outputs": [
        {
          "output_type": "execute_result",
          "data": {
            "text/plain": [
              "({}, {})"
            ]
          },
          "metadata": {
            "tags": []
          },
          "execution_count": 8
        }
      ]
    },
    {
      "cell_type": "code",
      "metadata": {
        "colab": {
          "base_uri": "https://localhost:8080/"
        },
        "id": "3hh_Nqx_UCdu",
        "outputId": "b3129196-2bcd-4d97-e647-5dd51cf7863b"
      },
      "source": [
        "a = set((1, 2, 3))\n",
        "a"
      ],
      "execution_count": 9,
      "outputs": [
        {
          "output_type": "execute_result",
          "data": {
            "text/plain": [
              "{1, 2, 3}"
            ]
          },
          "metadata": {
            "tags": []
          },
          "execution_count": 9
        }
      ]
    },
    {
      "cell_type": "code",
      "metadata": {
        "colab": {
          "base_uri": "https://localhost:8080/"
        },
        "id": "vqXVH307VVZi",
        "outputId": "08e6c938-e967-49ea-91d1-f00804792bb8"
      },
      "source": [
        "a = ['a', 'b', 'c', 'd']\n",
        "b = [1, 2, 3, 4]\n",
        "zip(a, b)"
      ],
      "execution_count": 10,
      "outputs": [
        {
          "output_type": "execute_result",
          "data": {
            "text/plain": [
              "<zip at 0x7f99816f1050>"
            ]
          },
          "metadata": {
            "tags": []
          },
          "execution_count": 10
        }
      ]
    },
    {
      "cell_type": "markdown",
      "metadata": {
        "id": "OB7f4JtOV3G7"
      },
      "source": [
        "## 12.2 딕셔너리의 키에 접근하고 값 할당하기"
      ]
    },
    {
      "cell_type": "code",
      "metadata": {
        "colab": {
          "base_uri": "https://localhost:8080/"
        },
        "id": "vij_YL_eVf8J",
        "outputId": "9300860d-f471-48c1-d820-0eda39094721"
      },
      "source": [
        "lux"
      ],
      "execution_count": 11,
      "outputs": [
        {
          "output_type": "execute_result",
          "data": {
            "text/plain": [
              "{'health': 18.72, 'mana': 334, 'melee': 550}"
            ]
          },
          "metadata": {
            "tags": []
          },
          "execution_count": 11
        }
      ]
    },
    {
      "cell_type": "code",
      "metadata": {
        "colab": {
          "base_uri": "https://localhost:8080/"
        },
        "id": "GzK6NIxZWELF",
        "outputId": "1add13fe-2084-4e6e-cf66-ba98bdb3bc1e"
      },
      "source": [
        "lux['mana'], lux['health']"
      ],
      "execution_count": 13,
      "outputs": [
        {
          "output_type": "execute_result",
          "data": {
            "text/plain": [
              "(334, 18.72)"
            ]
          },
          "metadata": {
            "tags": []
          },
          "execution_count": 13
        }
      ]
    },
    {
      "cell_type": "code",
      "metadata": {
        "colab": {
          "base_uri": "https://localhost:8080/",
          "height": 172
        },
        "id": "B1bdo_T3WI0X",
        "outputId": "d0943012-2039-493b-8979-b04650fa8be4"
      },
      "source": [
        "lux.mana"
      ],
      "execution_count": 14,
      "outputs": [
        {
          "output_type": "error",
          "ename": "AttributeError",
          "evalue": "ignored",
          "traceback": [
            "\u001b[0;31m---------------------------------------------------------------------------\u001b[0m",
            "\u001b[0;31mAttributeError\u001b[0m                            Traceback (most recent call last)",
            "\u001b[0;32m<ipython-input-14-77a75fef73c4>\u001b[0m in \u001b[0;36m<module>\u001b[0;34m()\u001b[0m\n\u001b[0;32m----> 1\u001b[0;31m \u001b[0mlux\u001b[0m\u001b[0;34m.\u001b[0m\u001b[0mmana\u001b[0m\u001b[0;34m\u001b[0m\u001b[0;34m\u001b[0m\u001b[0m\n\u001b[0m",
            "\u001b[0;31mAttributeError\u001b[0m: 'dict' object has no attribute 'mana'"
          ]
        }
      ]
    },
    {
      "cell_type": "code",
      "metadata": {
        "colab": {
          "base_uri": "https://localhost:8080/"
        },
        "id": "B8DDwq-BWmfL",
        "outputId": "765a74c0-dcec-4d32-89e5-d6dea0ce1150"
      },
      "source": [
        "# 키값이 기존 딕셔너리에 없으면 새롭게 추가됨\n",
        "lux['new'] = 10\n",
        "lux"
      ],
      "execution_count": 15,
      "outputs": [
        {
          "output_type": "execute_result",
          "data": {
            "text/plain": [
              "{'health': 18.72, 'mana': 334, 'melee': 550, 'new': 10}"
            ]
          },
          "metadata": {
            "tags": []
          },
          "execution_count": 15
        }
      ]
    },
    {
      "cell_type": "code",
      "metadata": {
        "colab": {
          "base_uri": "https://localhost:8080/"
        },
        "id": "8f8Du4vDXX0B",
        "outputId": "795953cb-31af-49c2-b61c-d4d67fa9ddbc"
      },
      "source": [
        "# 키값이 기존에 있으면 값이 변경\n",
        "lux['mana'] = 1000\n",
        "lux"
      ],
      "execution_count": 17,
      "outputs": [
        {
          "output_type": "execute_result",
          "data": {
            "text/plain": [
              "{'health': 18.72, 'mana': 1000, 'melee': 550, 'new': 10}"
            ]
          },
          "metadata": {
            "tags": []
          },
          "execution_count": 17
        }
      ]
    },
    {
      "cell_type": "code",
      "metadata": {
        "colab": {
          "base_uri": "https://localhost:8080/"
        },
        "id": "fe2_nCTnXhwi",
        "outputId": "4550b918-1d20-486d-e35d-1d1e9a620756"
      },
      "source": [
        "'mana' in lux"
      ],
      "execution_count": 18,
      "outputs": [
        {
          "output_type": "execute_result",
          "data": {
            "text/plain": [
              "True"
            ]
          },
          "metadata": {
            "tags": []
          },
          "execution_count": 18
        }
      ]
    },
    {
      "cell_type": "code",
      "metadata": {
        "colab": {
          "base_uri": "https://localhost:8080/"
        },
        "id": "bY7J_ZReYFDv",
        "outputId": "c75827a9-a60c-494e-ee46-82726e76f3ae"
      },
      "source": [
        "1000 in lux"
      ],
      "execution_count": 19,
      "outputs": [
        {
          "output_type": "execute_result",
          "data": {
            "text/plain": [
              "False"
            ]
          },
          "metadata": {
            "tags": []
          },
          "execution_count": 19
        }
      ]
    },
    {
      "cell_type": "code",
      "metadata": {
        "colab": {
          "base_uri": "https://localhost:8080/"
        },
        "id": "8Vd_kJ0UYJOu",
        "outputId": "046fcfc3-c76e-42ee-9650-16b9f5f54c6f"
      },
      "source": [
        "# 'mana' 항목이 존재하면 기존 값 +100, 없으면 50으로 변경\n",
        "d = {}\n",
        "e = {'mana': 150}\n",
        "\n",
        "if 'mana' in e:\n",
        "    e['mana'] = e['mana'] + 100\n",
        "else:\n",
        "    e['mana'] = 50\n",
        "\n",
        "e"
      ],
      "execution_count": 33,
      "outputs": [
        {
          "output_type": "execute_result",
          "data": {
            "text/plain": [
              "{'mana': 250}"
            ]
          },
          "metadata": {
            "tags": []
          },
          "execution_count": 33
        }
      ]
    },
    {
      "cell_type": "markdown",
      "metadata": {
        "id": "VwKhLfV9Zrxa"
      },
      "source": [
        "### 딕셔너리 키의 갯수"
      ]
    },
    {
      "cell_type": "code",
      "metadata": {
        "colab": {
          "base_uri": "https://localhost:8080/"
        },
        "id": "dAC-u5_gY0c8",
        "outputId": "ff3fdd61-d51d-419f-a326-03e8c18f5eb5"
      },
      "source": [
        "lux"
      ],
      "execution_count": 27,
      "outputs": [
        {
          "output_type": "execute_result",
          "data": {
            "text/plain": [
              "{'health': 18.72, 'mana': 1000, 'melee': 550, 'new': 10}"
            ]
          },
          "metadata": {
            "tags": []
          },
          "execution_count": 27
        }
      ]
    },
    {
      "cell_type": "code",
      "metadata": {
        "colab": {
          "base_uri": "https://localhost:8080/"
        },
        "id": "7uswDTi2ZUcl",
        "outputId": "6200474f-1506-4e3c-b540-d5fd95350475"
      },
      "source": [
        "len(lux)"
      ],
      "execution_count": 28,
      "outputs": [
        {
          "output_type": "execute_result",
          "data": {
            "text/plain": [
              "4"
            ]
          },
          "metadata": {
            "tags": []
          },
          "execution_count": 28
        }
      ]
    },
    {
      "cell_type": "markdown",
      "metadata": {
        "id": "yXCIXbBUZ6B4"
      },
      "source": [
        "### 자료형"
      ]
    },
    {
      "cell_type": "code",
      "metadata": {
        "colab": {
          "base_uri": "https://localhost:8080/"
        },
        "id": "vNUwrJm_ZWbJ",
        "outputId": "10d824d6-a8aa-4c90-8a52-e8fb5c0398a9"
      },
      "source": [
        "type(lux) "
      ],
      "execution_count": 30,
      "outputs": [
        {
          "output_type": "execute_result",
          "data": {
            "text/plain": [
              "dict"
            ]
          },
          "metadata": {
            "tags": []
          },
          "execution_count": 30
        }
      ]
    },
    {
      "cell_type": "code",
      "metadata": {
        "colab": {
          "base_uri": "https://localhost:8080/"
        },
        "id": "5GyzpGOlZ9hs",
        "outputId": "23d09f2c-8aa8-4528-f476-87771fe58e7e"
      },
      "source": [
        "type(lux['health'])"
      ],
      "execution_count": 32,
      "outputs": [
        {
          "output_type": "execute_result",
          "data": {
            "text/plain": [
              "float"
            ]
          },
          "metadata": {
            "tags": []
          },
          "execution_count": 32
        }
      ]
    },
    {
      "cell_type": "markdown",
      "metadata": {
        "id": "ynFOENxfboBJ"
      },
      "source": [
        "### 반복문, 추후학습 예정"
      ]
    },
    {
      "cell_type": "code",
      "metadata": {
        "colab": {
          "base_uri": "https://localhost:8080/"
        },
        "id": "eASnnYghaAvL",
        "outputId": "1774a669-60da-43e3-96fd-959d942c2cf2"
      },
      "source": [
        "lux.keys()"
      ],
      "execution_count": 34,
      "outputs": [
        {
          "output_type": "execute_result",
          "data": {
            "text/plain": [
              "dict_keys(['health', 'mana', 'melee', 'new'])"
            ]
          },
          "metadata": {
            "tags": []
          },
          "execution_count": 34
        }
      ]
    },
    {
      "cell_type": "code",
      "metadata": {
        "colab": {
          "base_uri": "https://localhost:8080/"
        },
        "id": "eWaLZHopak5O",
        "outputId": "05212cc4-92f9-4d24-cb5d-025939645ce5"
      },
      "source": [
        "for key in lux.keys():\n",
        "    print(f'{key}: {lux[key]}')"
      ],
      "execution_count": 40,
      "outputs": [
        {
          "output_type": "stream",
          "text": [
            "health: 18.72\n",
            "mana: 1000\n",
            "melee: 550\n",
            "new: 10\n"
          ],
          "name": "stdout"
        }
      ]
    },
    {
      "cell_type": "code",
      "metadata": {
        "colab": {
          "base_uri": "https://localhost:8080/"
        },
        "id": "sdxPScmratoB",
        "outputId": "30eb5746-2089-4b23-9a2b-39c592ae3192"
      },
      "source": [
        "for key, value in lux.items():\n",
        "    print(f'{key}: {value}')"
      ],
      "execution_count": 42,
      "outputs": [
        {
          "output_type": "stream",
          "text": [
            "health: 18.72\n",
            "mana: 1000\n",
            "melee: 550\n",
            "new: 10\n"
          ],
          "name": "stdout"
        }
      ]
    },
    {
      "cell_type": "markdown",
      "metadata": {
        "id": "KDYg_6UXfLnq"
      },
      "source": [
        "### 질문과 답"
      ]
    },
    {
      "cell_type": "code",
      "metadata": {
        "colab": {
          "base_uri": "https://localhost:8080/"
        },
        "id": "hvgM_ASffVHQ",
        "outputId": "496082f0-7330-423c-9090-db4b9634bd82"
      },
      "source": [
        "# 'mana' 항목이 존재하면 기존 값 +100, 없으면 50으로 변경\n",
        "d = {'mana':120}\n",
        "e = {}\n",
        "\n",
        "for item in [d,e]:\n",
        "  if 'mana' in item:\n",
        "     item['mana'] = item['mana'] + 100\n",
        "  else:\n",
        "     item['mana'] = 50\n",
        "\n",
        "d, e"
      ],
      "execution_count": 43,
      "outputs": [
        {
          "output_type": "execute_result",
          "data": {
            "text/plain": [
              "({'mana': 220}, {'mana': 50})"
            ]
          },
          "metadata": {
            "tags": []
          },
          "execution_count": 43
        }
      ]
    },
    {
      "cell_type": "code",
      "metadata": {
        "id": "P-ah6_LBfvPg"
      },
      "source": [
        ""
      ],
      "execution_count": null,
      "outputs": []
    }
  ]
}