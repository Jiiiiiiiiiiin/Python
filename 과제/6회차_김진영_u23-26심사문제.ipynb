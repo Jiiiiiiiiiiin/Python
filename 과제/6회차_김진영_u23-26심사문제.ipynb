{
  "nbformat": 4,
  "nbformat_minor": 0,
  "metadata": {
    "colab": {
      "name": "u23-26심사문제.ipynb",
      "provenance": [],
      "collapsed_sections": []
    },
    "kernelspec": {
      "name": "python3",
      "display_name": "Python 3"
    },
    "language_info": {
      "name": "python"
    }
  },
  "cells": [
    {
      "cell_type": "code",
      "metadata": {
        "id": "5RIKjDVEsGBL"
      },
      "source": [
        "# 23.6 연습문제: 3차원 리스트 만들기\n",
        "# 다음 소스 코드를 완성하여 \n",
        "# 높이 2, 세로 크기 4, 가로 크기 3인 3차원 리스트를 만드세요\n",
        "# (리스트 표현식 사용)\n",
        "\n",
        "a = 0\n",
        "[[[0 for col in range(3)] for row in range(4)] for depth in range(2)]"
      ],
      "execution_count": null,
      "outputs": []
    },
    {
      "cell_type": "code",
      "metadata": {
        "colab": {
          "base_uri": "https://localhost:8080/"
        },
        "id": "hF0xSXh9sH_j",
        "outputId": "eaac4b64-652e-4c57-c361-7f7a2afa7245"
      },
      "source": [
        "# Unit 23 심사문제 지뢰찾기\n",
        "# 표준 입력으로 2차원 리스트의 가로(col)와 세로(row)가 입력되고 \n",
        "# 그 다음 줄부터 리스트의 요소로 들어갈 문자가 입력됩니다. \n",
        "# 이때 2차원 리스트 안에서 *는 지뢰이고 .은 지뢰가 아닙니다. \n",
        "# 지뢰가 아닌 요소에는 인접한 지뢰의 개수를 \n",
        "# 출력하는 프로그램을 만드세요(input에서 안내 문자열은 출력하지 않아야 합니다)\n",
        "\n",
        "# 여러 줄을 입력 받으려면 다음과 같이 for 반복문에서 input을 호출한 뒤 \n",
        "# append로 각 줄을 추가하면 됩니다(list 안에 문자열을 넣으면\n",
        "#  문자열이 문자 리스트로 변환됩니다).\n",
        "\n",
        "# matrix = []\n",
        "# for i in range(row):\n",
        "#    matrix.append(list(input()))\n",
        "\n",
        "col, row = map(int, input().split())\n",
        "\n",
        "matrix = []\n",
        "for i in range(row):\n",
        "    matrix.append(list(input()))\n",
        "\n",
        "for i in matrix:\n",
        "    for k in i:\n",
        "        print(k, end=' ')\n",
        "    print()\n",
        "\n",
        "for i in range(row):\n",
        "    for k in range(col):\n",
        "        if matrix[i][k] == \"*\":\n",
        "            print(matrix[i][k], sep='', end='')\n",
        "        else:\n",
        "            count = 0\n",
        "            for x in range(i-1,i+2):\n",
        "                for y in range(k-1,k+2):\n",
        "                    if x<0 or y<0 or x>=row or y>=col :\n",
        "                        continue\n",
        "                    elif matrix[x][y] == \"*\":\n",
        "                        count += 1\n",
        "            print(count, sep='', end='')\n",
        "    print()\n",
        "\n",
        "\n"
      ],
      "execution_count": 4,
      "outputs": [
        {
          "output_type": "stream",
          "text": [
            "3 3\n",
            ".**\n",
            "*..\n",
            ".*.\n",
            ". * * \n",
            "* . . \n",
            ". * . \n",
            "2**\n",
            "*43\n",
            "2*1\n"
          ],
          "name": "stdout"
        }
      ]
    },
    {
      "cell_type": "code",
      "metadata": {
        "id": "wBAqucFSsJ70"
      },
      "source": [
        "# 24.4 연습문제: 파일 경로에서 파일명만 가져오기\n",
        "#다음 소스 코드를 완성하여 파일 경로에서 파일명만 출력되게 만드세요. \n",
        "# 단, 경로에서 폴더의 깊이가 달라지더라도 파일명만 출력할 수 있어야 합니다.\n",
        "\n",
        "path = 'C:\\\\Users\\\\dojang\\\\AppData\\\\Local\\\\Programs\\\\Python\\\\Python36-32\\\\python.exe'\n",
        "x = path.split('\\\\')\n",
        "filename=x[-1]"
      ],
      "execution_count": null,
      "outputs": []
    },
    {
      "cell_type": "code",
      "metadata": {
        "colab": {
          "base_uri": "https://localhost:8080/"
        },
        "id": "MltbB4eAsNXy",
        "outputId": "489ef89a-16df-434f-935d-8267c45d8260"
      },
      "source": [
        "# 24.5 심사문제: 특정 단어 개수 세기\n",
        "# 표준 입력으로 문자열이 입력됩니다. \n",
        "# 입력된 문자열에서 'the'의 개수를 출력하는 프로그램을\n",
        "# 만드세요(input에서 안내 문자열은 출력하지 않아야 합니다).\n",
        "# 단, 모든 문자가 소문자인 'the'만 찾으면 되며\n",
        "# 'them', 'there', 'their' 등은 포함하지 않아야 합니다\n",
        "\n",
        "a = input().split()\n",
        "count=0\n",
        "for words in a:\n",
        "    if (words.strip(',.')=='the'):\n",
        "        count+=1\n",
        "print(count)"
      ],
      "execution_count": 6,
      "outputs": [
        {
          "output_type": "stream",
          "text": [
            "KeyboardInterrupt                         Traceback (most recent call last) /usr/local/lib/python3.7/dist-packages/ipykernel/kernelbase.py in _input_request(self, prompt, ident, parent, password)     728             try: --> 729                 ident, reply = self.session.recv(self.stdin_socket, 0)     730             except Exception:  5 frames zmq/backend/cython/socket.pyx in zmq.backend.cython.socket.Socket.recv()  zmq/backend/cython/socket.pyx in zmq.backend.cython.socket.Socket.recv()  zmq/backend/cython/socket.pyx in zmq.backend.cython.socket._recv_copy()  KeyboardInterrupt:   During handling of the above exception, another exception occurred:  KeyboardInterrupt                         Traceback (most recent call last) /usr/local/lib/python3.7/dist-packages/ipykernel/kernelbase.py in _input_request(self, prompt, ident, parent, password)     732             except KeyboardInterrupt:     733                 # re-raise KeyboardInterrupt, to truncate traceback --> 734                 raise KeyboardInterrupt     735             else:     736                 break\n",
            "1\n"
          ],
          "name": "stdout"
        }
      ]
    },
    {
      "cell_type": "code",
      "metadata": {
        "id": "T8-WfQ3psOxb"
      },
      "source": [
        "# 24.6 심사문제: 높은 가격순으로 출력하기\n",
        "# 표준 입력으로 물품 가격 여러 개가 문자열 한 줄로 입력되고, \n",
        "# 각 가격은 ;(세미콜론)으로 구분되어 있습니다. 입력된 \n",
        "# 가격을 높은 가격순으로 출력하는 프로그램을 만드세요\n",
        "# (input에서 안내 문자열은 출력하지 않아야 합니다). \n",
        "# 이때 가격은 길이를 9로 만든 뒤 오른쪽으로 정렬하고 \n",
        "# 천단위로 ,(콤마)를 넣으세요.\n",
        "\n",
        "\n",
        "prices = list(map(int,input().split(';')))\n",
        "a = prices.sort(reverse=True)\n",
        "for i in prices:\n",
        "    f'{i:,>9d}'"
      ],
      "execution_count": null,
      "outputs": []
    },
    {
      "cell_type": "code",
      "metadata": {
        "id": "Xi2hUR2Fstqc"
      },
      "source": [
        "# 25.7 연습문제: 평균 점수 구하기\n",
        "\n",
        "average = sum(maria.values()) / len(maria)\n"
      ],
      "execution_count": null,
      "outputs": []
    },
    {
      "cell_type": "code",
      "metadata": {
        "colab": {
          "base_uri": "https://localhost:8080/"
        },
        "id": "BFtuv9vwsQMj",
        "outputId": "0f63b285-00ff-4838-96bb-a4f2f71b402d"
      },
      "source": [
        "# 25.8 심사문제: 딕셔너리에서 특정 값 삭제하기\n",
        "\n",
        "# 표준 입력으로 문자열 여러 개와 숫자 여러 개가 두 줄로 입력되고, \n",
        "# 첫 번째 줄은 키, 두 번째 줄은 값으로 하여 딕셔너리를 생성합니다. \n",
        "# 다음 코드를 완성하여 딕셔너리에서 키가 'delta'인 키-값 쌍과 값이 \n",
        "# 30인 키-값 쌍을 삭제하도록 만드세요.\n",
        "\n",
        "\n",
        "\n",
        "keys = input().split()\n",
        "values = map(int, input().split())\n",
        " \n",
        "x = dict(zip(keys, values))\n",
        " \n",
        "x = {key:value for key, value in x.items() if value != 30}\n",
        "x = {key:value for key, value in x.items() if key != 'delta'}\n",
        "\n",
        "print(x)"
      ],
      "execution_count": 8,
      "outputs": [
        {
          "output_type": "stream",
          "text": [
            "가 나 다 라 마 바 사\n",
            "1 2 3 4 5 6 7\n",
            "{'가': 1, '나': 2, '다': 3, '라': 4, '마': 5, '바': 6, '사': 7}\n"
          ],
          "name": "stdout"
        }
      ]
    },
    {
      "cell_type": "code",
      "metadata": {
        "colab": {
          "base_uri": "https://localhost:8080/"
        },
        "id": "f5lvqM2lsUG6",
        "outputId": "314a9890-0c89-4447-e094-4484d0ca16ca"
      },
      "source": [
        "# 26.8 연습문제: 공배수 구하기\n",
        "# 다음 소스 코드를 완성하여 1부터 100까지 숫자 중 \n",
        "# 3과 5의 공배수를 세트 형태로 출력되게 만드세요.\n",
        "\n",
        "a = {i for i in range(1,101) if i % 3 == 0}\n",
        "b = {i for i in range(1,101) if i % 5 == 0}\n",
        "\n",
        "print(a & b)\n"
      ],
      "execution_count": 9,
      "outputs": [
        {
          "output_type": "stream",
          "text": [
            "{75, 45, 15, 90, 60, 30}\n"
          ],
          "name": "stdout"
        }
      ]
    },
    {
      "cell_type": "code",
      "metadata": {
        "colab": {
          "base_uri": "https://localhost:8080/"
        },
        "id": "00hrrgjq91wj",
        "outputId": "af7fcd6c-a1ca-4ec8-f08c-6f5130028602"
      },
      "source": [
        "# 26.9 심사문제: 공약수 구하기\n",
        "# 표준 입력으로 양의 정수 두 개가 입력됩니다. \n",
        "# 다음 소스 코드를 완성하여 두 숫자의 공약수를 \n",
        "# 세트 형태로 구하도록 만드세요. \n",
        "# 단, 최종 결과는 공약수의 합으로 판단합니다.\n",
        "\n",
        "x, y = map(int,input().split())\n",
        "\n",
        "a = {i for i in range(1,x+1) if x%i==0}\n",
        "b = {i for i in range(1,y+1) if y%i==0}\n",
        "\n",
        "divisor = a & b\n",
        "\n",
        "result = 0\n",
        "if type(divisor) == set:\n",
        "    result = sum(divisor)\n",
        "\n",
        "print(result)\n"
      ],
      "execution_count": 4,
      "outputs": [
        {
          "output_type": "stream",
          "text": [
            "10 20\n",
            "18\n"
          ],
          "name": "stdout"
        }
      ]
    }
  ]
}