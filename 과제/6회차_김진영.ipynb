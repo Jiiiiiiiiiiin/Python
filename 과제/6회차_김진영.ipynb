{
  "nbformat": 4,
  "nbformat_minor": 0,
  "metadata": {
    "colab": {
      "name": "6회차_김진영.ipynb",
      "provenance": [],
      "collapsed_sections": []
    },
    "kernelspec": {
      "name": "python3",
      "display_name": "Python 3"
    },
    "language_info": {
      "name": "python"
    }
  },
  "cells": [
    {
      "cell_type": "markdown",
      "metadata": {
        "id": "uVK-KWPMwOmH"
      },
      "source": [
        "# 퀴즈 과제 제출\n",
        "## 8.5 심사문제: 합격 여부 출력하기"
      ]
    },
    {
      "cell_type": "code",
      "metadata": {
        "colab": {
          "base_uri": "https://localhost:8080/"
        },
        "id": "JNeIA8b1wOTE",
        "outputId": "d3bd392e-082c-4257-dfd6-cb103053ca95"
      },
      "source": [
        "a, b, c, d= map(int,input().split(' '))\n",
        "print(a>=90 and b>80 and c>85 and d>=80)"
      ],
      "execution_count": 10,
      "outputs": [
        {
          "output_type": "stream",
          "text": [
            "90 81 86 80\n",
            "True\n"
          ],
          "name": "stdout"
        }
      ]
    },
    {
      "cell_type": "markdown",
      "metadata": {
        "id": "nwlTVqZdwMiA"
      },
      "source": [
        "## 9.4 심사문제: 여러 줄로 된 문자열 사용하기\n",
        " "
      ]
    },
    {
      "cell_type": "code",
      "metadata": {
        "colab": {
          "base_uri": "https://localhost:8080/",
          "height": 53
        },
        "id": "5Y3CqelZwI-K",
        "outputId": "4e035875-12ec-4dd6-f9bd-d1b9254fe8ef"
      },
      "source": [
        "s = '''\\'Python\\' is a \"programming language\"\n",
        "that lets you work quickly\n",
        "and\n",
        "integrate systems more effectively.'''\n",
        "s"
      ],
      "execution_count": 20,
      "outputs": [
        {
          "output_type": "execute_result",
          "data": {
            "application/vnd.google.colaboratory.intrinsic+json": {
              "type": "string"
            },
            "text/plain": [
              "'\\'Python\\' is a \"programming language\"\\nthat lets you work quickly\\nand\\nintegrate systems more effectively.'"
            ]
          },
          "metadata": {
            "tags": []
          },
          "execution_count": 20
        }
      ]
    },
    {
      "cell_type": "markdown",
      "metadata": {
        "id": "dV0UEsY_0u4n"
      },
      "source": [
        "## 10.5 심사문제: range로 튜플 만들기"
      ]
    },
    {
      "cell_type": "code",
      "metadata": {
        "colab": {
          "base_uri": "https://localhost:8080/"
        },
        "id": "Pm4E6hTay7SD",
        "outputId": "48b2acb3-43ca-49d2-d07b-b69f07cb34a8"
      },
      "source": [
        "a = int(input())\n",
        "b = tuple(range(-10,10,a))\n",
        "print(b)\n"
      ],
      "execution_count": 115,
      "outputs": [
        {
          "output_type": "stream",
          "text": [
            "2\n",
            "(-10, -8, -6, -4, -2, 0, 2, 4, 6, 8)\n"
          ],
          "name": "stdout"
        }
      ]
    },
    {
      "cell_type": "markdown",
      "metadata": {
        "id": "ag9VvF8F4rhm"
      },
      "source": [
        "## 11.8 심사문제: 리스트의 마지막 부분 삭제하기"
      ]
    },
    {
      "cell_type": "code",
      "metadata": {
        "colab": {
          "base_uri": "https://localhost:8080/"
        },
        "id": "DErTzWPb1uXu",
        "outputId": "926dd0c0-1965-4f63-8dc7-5a435bfa776f"
      },
      "source": [
        "x = input().split()\n",
        "del x[-5:]\n",
        "print(tuple(x))"
      ],
      "execution_count": 49,
      "outputs": [
        {
          "output_type": "stream",
          "text": [
            "1 2 1 2 1 2 1 2 1 2 1 2 1 3  3\n",
            "('1', '2', '1', '2', '1', '2', '1', '2', '1', '2')\n"
          ],
          "name": "stdout"
        }
      ]
    },
    {
      "cell_type": "markdown",
      "metadata": {
        "id": "BFpEyRxH9RaW"
      },
      "source": [
        "## 11.9 심사문제: 문자열에서 인덱스가 홀수인 문자와 짝수인 문자연결하기"
      ]
    },
    {
      "cell_type": "code",
      "metadata": {
        "colab": {
          "base_uri": "https://localhost:8080/"
        },
        "id": "_5Ahjdg5853N",
        "outputId": "bb6ab87e-b832-4dc4-f4a0-4f8b7827e2fc"
      },
      "source": [
        "a = input()\n",
        "b = input()\n",
        "print(a[1::2] + b[::2])"
      ],
      "execution_count": 62,
      "outputs": [
        {
          "output_type": "stream",
          "text": [
            "apple\n",
            "strawberry\n",
            "plsrwer\n"
          ],
          "name": "stdout"
        }
      ]
    },
    {
      "cell_type": "markdown",
      "metadata": {
        "id": "3CRAnhu9B728"
      },
      "source": [
        "## 12.5 심사문제: 딕셔너리에 게임 캐릭터 능력치 저장하기"
      ]
    },
    {
      "cell_type": "code",
      "metadata": {
        "colab": {
          "base_uri": "https://localhost:8080/"
        },
        "id": "LzpcHcwLAv-a",
        "outputId": "1a63860b-0fa0-4059-8b2d-dad8dd585e9c"
      },
      "source": [
        "a = input().split()\n",
        "b = map(float,input().split())\n",
        "c = dict(zip(a, b))\n",
        "print(c)\n",
        "\n",
        "\n"
      ],
      "execution_count": 74,
      "outputs": [
        {
          "output_type": "stream",
          "text": [
            "a b c d\n",
            "11.2 11.4 5.6 4.6\n"
          ],
          "name": "stdout"
        },
        {
          "output_type": "execute_result",
          "data": {
            "text/plain": [
              "{'a': 11.2, 'b': 11.4, 'c': 5.6, 'd': 4.6}"
            ]
          },
          "metadata": {
            "tags": []
          },
          "execution_count": 74
        }
      ]
    },
    {
      "cell_type": "markdown",
      "metadata": {
        "id": "sai5e6MYIwll"
      },
      "source": [
        "## 13.7 심사문제: 온라인 할인 쿠폰 시스템 만들기"
      ]
    },
    {
      "cell_type": "code",
      "metadata": {
        "colab": {
          "base_uri": "https://localhost:8080/"
        },
        "id": "mYcknrVTExjZ",
        "outputId": "75b829ef-8725-44c9-ed91-7bf78633cb49"
      },
      "source": [
        "a = int(input())\n",
        "b = input()\n",
        "c = int(b[4::])\n",
        "print(a-c)\n"
      ],
      "execution_count": 87,
      "outputs": [
        {
          "output_type": "stream",
          "text": [
            "27000\n",
            "Cash3000\n",
            "24000\n"
          ],
          "name": "stdout"
        }
      ]
    },
    {
      "cell_type": "code",
      "metadata": {
        "colab": {
          "base_uri": "https://localhost:8080/"
        },
        "id": "5eLmODA1J80T",
        "outputId": "145c104e-ab50-4c4e-d2fd-1e6facbfddd2"
      },
      "source": [
        "a= int(input())\n",
        "b= input()\n",
        "if b == 'Cash3000': \n",
        "    print(a-3000)\n",
        "else:\n",
        "  if b == 'Cash5000':\n",
        "     print(a-5000)"
      ],
      "execution_count": 100,
      "outputs": [
        {
          "output_type": "stream",
          "text": [
            "27000\n",
            "Cash5000\n",
            "22000\n"
          ],
          "name": "stdout"
        }
      ]
    },
    {
      "cell_type": "markdown",
      "metadata": {
        "id": "t1sfC8xQPATk"
      },
      "source": [
        "## 14.7 심사문제: 합격 여부 판단하기"
      ]
    },
    {
      "cell_type": "code",
      "metadata": {
        "colab": {
          "base_uri": "https://localhost:8080/"
        },
        "id": "bFIvBhqzMtvo",
        "outputId": "b4871256-b7f4-4af6-be92-d465d371a551"
      },
      "source": [
        "korean, english, math, science=map(int,input().split())\n",
        "x=(korean+english+math+science)/4\n",
        " \n",
        "if korean<0 or korean>100 or english<0 or english>100 or math<0 or math>100 or science<0 or science>100:\n",
        "    print('잘못된 점수')\n",
        " \n",
        "else:\n",
        "    if x>=80:\n",
        "        print('합격')\n",
        "    else:\n",
        "        print('불합격')\n"
      ],
      "execution_count": 113,
      "outputs": [
        {
          "output_type": "stream",
          "text": [
            "100 79 68 71\n",
            "불합격\n"
          ],
          "name": "stdout"
        }
      ]
    },
    {
      "cell_type": "code",
      "metadata": {
        "id": "Bp7pzb13Q_gV"
      },
      "source": [
        ""
      ],
      "execution_count": null,
      "outputs": []
    }
  ]
}