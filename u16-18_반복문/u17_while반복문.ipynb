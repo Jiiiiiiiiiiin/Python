{
  "nbformat": 4,
  "nbformat_minor": 0,
  "metadata": {
    "colab": {
      "name": "u17_while반복문.ipynb",
      "provenance": [],
      "collapsed_sections": []
    },
    "kernelspec": {
      "name": "python3",
      "display_name": "Python 3"
    },
    "language_info": {
      "name": "python"
    }
  },
  "cells": [
    {
      "cell_type": "markdown",
      "metadata": {
        "id": "xtvL-hadA1yL"
      },
      "source": [
        "# Unit 17. while 반복문\n"
      ]
    },
    {
      "cell_type": "markdown",
      "metadata": {
        "id": "wnDEWrZJA6SK"
      },
      "source": [
        "## 17.1 while 반복문\n",
        "\n",
        "- 반복횟수가 정해져 있는 반복문은 while을 쓰지 않는다 (for문을 사용)\n",
        "- while true: 조건 만족\n",
        "- while 조건: 조건이 참인 동안 loop을 반복\n",
        "- 반복횟수가 정해지지 않은 경우에만 사용.\n"
      ]
    },
    {
      "cell_type": "markdown",
      "metadata": {
        "id": "o0bYuY_PCBV7"
      },
      "source": [
        "## 17.2 반복 횟수가 없는 while 반복문"
      ]
    },
    {
      "cell_type": "code",
      "metadata": {
        "id": "gNaGgM42A9Z3"
      },
      "source": [
        "import random  # random 모듈을 가져옴"
      ],
      "execution_count": 1,
      "outputs": []
    },
    {
      "cell_type": "code",
      "metadata": {
        "colab": {
          "base_uri": "https://localhost:8080/"
        },
        "id": "is75dkPjAyf1",
        "outputId": "56a8364d-42ec-4886-b397-61bf26e58c92"
      },
      "source": [
        "random.random()"
      ],
      "execution_count": 2,
      "outputs": [
        {
          "output_type": "execute_result",
          "data": {
            "text/plain": [
              "0.04814445397665401"
            ]
          },
          "metadata": {
            "tags": []
          },
          "execution_count": 2
        }
      ]
    },
    {
      "cell_type": "code",
      "metadata": {
        "colab": {
          "base_uri": "https://localhost:8080/"
        },
        "id": "9VJQWa06CcGU",
        "outputId": "87cba05d-2e7f-44dd-822d-91a42a8beccb"
      },
      "source": [
        "random.randint(1, 6)"
      ],
      "execution_count": 3,
      "outputs": [
        {
          "output_type": "execute_result",
          "data": {
            "text/plain": [
              "4"
            ]
          },
          "metadata": {
            "tags": []
          },
          "execution_count": 3
        }
      ]
    },
    {
      "cell_type": "code",
      "metadata": {
        "colab": {
          "base_uri": "https://localhost:8080/"
        },
        "id": "gX_4tGbmCg4k",
        "outputId": "5fb59996-6761-498d-a34f-65a3b71ac676"
      },
      "source": [
        "i = 0\n",
        "while i != 3:\n",
        "  i = random.randint(1,6)\n",
        "  print((i))"
      ],
      "execution_count": 4,
      "outputs": [
        {
          "output_type": "stream",
          "text": [
            "5\n",
            "3\n"
          ],
          "name": "stdout"
        }
      ]
    },
    {
      "cell_type": "code",
      "metadata": {
        "colab": {
          "base_uri": "https://localhost:8080/"
        },
        "id": "Y4-F2i4NDBo3",
        "outputId": "e769b92d-f0e8-4ec8-e67d-291c95688306"
      },
      "source": [
        "i = 0\n",
        "dice = list(range(1,7))\n",
        "while i != 3:\n",
        "  i = random.choice(dice)\n",
        "  print(i )"
      ],
      "execution_count": 5,
      "outputs": [
        {
          "output_type": "stream",
          "text": [
            "1\n",
            "4\n",
            "5\n",
            "4\n",
            "3\n"
          ],
          "name": "stdout"
        }
      ]
    },
    {
      "cell_type": "code",
      "metadata": {
        "colab": {
          "base_uri": "https://localhost:8080/"
        },
        "id": "RPT9ZXCbDZRw",
        "outputId": "14d0a1b0-9426-40f6-a1a7-7d79c965c05d"
      },
      "source": [
        "random.sample(dice,6)"
      ],
      "execution_count": 7,
      "outputs": [
        {
          "output_type": "execute_result",
          "data": {
            "text/plain": [
              "[5, 1, 2, 3, 6, 4]"
            ]
          },
          "metadata": {
            "tags": []
          },
          "execution_count": 7
        }
      ]
    }
  ]
}